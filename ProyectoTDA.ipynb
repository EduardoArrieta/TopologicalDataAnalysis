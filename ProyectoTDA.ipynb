{
  "cells": [
    {
      "cell_type": "code",
      "execution_count": null,
      "id": "86a7c401",
      "metadata": {
        "id": "86a7c401",
        "outputId": "fff691bd-89e5-411b-d2ed-85658e0c7a15"
      },
      "outputs": [
        {
          "name": "stderr",
          "output_type": "stream",
          "text": [
            "WARNING: could not import HDF5.Group into _hdf5_implementation\n",
            "WARNING: could not import HDF5.Dataset into _hdf5_implementation\n",
            "┌ Warning: Error requiring `HDF5` from `Plots`\n",
            "│   exception = (LoadError(\"C:\\\\Users\\\\cabet\\\\.julia\\\\packages\\\\Plots\\\\Pn7Zn\\\\src\\\\backends\\\\hdf5.jl\", 35, UndefVarError(:Group)), Union{Ptr{Nothing}, Base.InterpreterIP}[Ptr{Nothing} @0x0000000065404881, Ptr{Nothing} @0x0000000065438664, Ptr{Nothing} @0x0000000065438e12, Ptr{Nothing} @0x000000006543883d, Ptr{Nothing} @0x0000000065439420, Ptr{Nothing} @0x000000006543a192, Base.InterpreterIP in top-level CodeInfo for Plots._hdf5_implementation at statement 4, Ptr{Nothing} @0x0000000065459e9d, Ptr{Nothing} @0x000000006545a623, Ptr{Nothing} @0x000000006545a931, Ptr{Nothing} @0x000000006545a931, Ptr{Nothing} @0x000000006545ba2f, Ptr{Nothing} @0x000000000fa893fa, Ptr{Nothing} @0x000000001ce97629, Ptr{Nothing} @0x000000001ce977a8, Ptr{Nothing} @0x000000001ce955dc, Ptr{Nothing} @0x000000001ce95644, Ptr{Nothing} @0x0000000065429d28, Ptr{Nothing} @0x000000001ce95482, Ptr{Nothing} @0x000000001ce954fa, Ptr{Nothing} @0x0000000065438e2c, Ptr{Nothing} @0x000000006543883d, Ptr{Nothing} @0x0000000065439420, Ptr{Nothing} @0x000000006543a192, Base.InterpreterIP in top-level CodeInfo for Plots at statement 8, Ptr{Nothing} @0x0000000065459e9d, Ptr{Nothing} @0x000000006545ba2f, Ptr{Nothing} @0x000000001ce8fbd0, Ptr{Nothing} @0x000000001ce8fc03, Ptr{Nothing} @0x000000001ce8a127, Ptr{Nothing} @0x000000001ce8fb20, Ptr{Nothing} @0x000000001ce8fb43, Ptr{Nothing} @0x0000000065438e2c, Ptr{Nothing} @0x000000006543883d, Ptr{Nothing} @0x00000000654397ba, Ptr{Nothing} @0x000000006543986d, Ptr{Nothing} @0x0000000065439e20, Base.InterpreterIP in MethodInstance for Requires.withpath(::Any, ::String) at statement 10, Ptr{Nothing} @0x000000001ce8fa1d, Ptr{Nothing} @0x000000001ce8faa3, Ptr{Nothing} @0x0000000065429d28, Ptr{Nothing} @0x000000001ce8f8e9, Ptr{Nothing} @0x000000001ce8f987, Ptr{Nothing} @0x0000000065438e2c, Ptr{Nothing} @0x000000006543883d, Ptr{Nothing} @0x00000000654395e6, Ptr{Nothing} @0x0000000065439e20, Base.InterpreterIP in MethodInstance for Requires.loadpkg(::Base.PkgId) at statement 6, Ptr{Nothing} @0x0000000065429d28, Ptr{Nothing} @0x000000001ce447a6, Ptr{Nothing} @0x000000001ce484a1, Ptr{Nothing} @0x000000001ce4f9e2, Ptr{Nothing} @0x000000001ce53492, Ptr{Nothing} @0x000000001ce55b4d, Ptr{Nothing} @0x000000001ce56d4e, Ptr{Nothing} @0x000000001ce5722a, Ptr{Nothing} @0x0000000065458f66, Ptr{Nothing} @0x000000006545adda, Ptr{Nothing} @0x000000006545a931, Ptr{Nothing} @0x000000006545ba2f, Ptr{Nothing} @0x000000001ce2f3de, Ptr{Nothing} @0x000000001ce2f6cf, Ptr{Nothing} @0x000000001ce2c8b3, Ptr{Nothing} @0x000000001ce2d6aa, Ptr{Nothing} @0x0000000065429d28, Ptr{Nothing} @0x000000001ce0ada6, Ptr{Nothing} @0x000000001ce0b2b3, Ptr{Nothing} @0x000000001ce0b2d3, Ptr{Nothing} @0x000000006543e561])\n",
            "└ @ Requires C:\\Users\\cabet\\.julia\\packages\\Requires\\Z8rfN\\src\\require.jl:51\n"
          ]
        },
        {
          "data": {
            "application/vnd.webio.node+json": {
              "children": [],
              "instanceArgs": {
                "namespace": "html",
                "tag": "div"
              },
              "nodeType": "DOM",
              "props": {},
              "type": "node"
            },
            "text/html": [
              "<div style=\"padding: 1em; background-color: #f8d6da; border: 1px solid #f5c6cb; font-weight: bold;\">\n",
              "<p>The WebIO Jupyter extension was not detected. See the\n",
              "<a href=\"https://juliagizmos.github.io/WebIO.jl/latest/providers/ijulia/\" target=\"_blank\">\n",
              "    WebIO Jupyter integration documentation\n",
              "</a>\n",
              "for more information.\n",
              "</div>\n"
            ],
            "text/plain": [
              "WebIO._IJuliaInit()"
            ]
          },
          "metadata": {},
          "output_type": "display_data"
        }
      ],
      "source": [
        "using CSV\n",
        "using DataFrames\n",
        "using Plots\n",
        "using Eirene"
      ]
    },
    {
      "cell_type": "markdown",
      "id": "6bbb1f85",
      "metadata": {
        "id": "6bbb1f85"
      },
      "source": [
        "Lo primero que haremos será crear un DataFrame con la información de un archivo .csv, el cual contiene los datos de algunos hoteles en Washington D. C., Estados Unidos."
      ]
    },
    {
      "cell_type": "code",
      "execution_count": null,
      "id": "682c7e81",
      "metadata": {
        "id": "682c7e81",
        "outputId": "06a5fb8e-a7ac-4969-8fc6-f968822fad5b"
      },
      "outputs": [
        {
          "data": {
            "text/html": [
              "<table class=\"data-frame\"><thead><tr><th></th><th>X</th><th>Y</th><th>NAME</th></tr><tr><th></th><th>Float64</th><th>Float64</th><th>String?</th></tr></thead><tbody><p>169 rows × 19 columns (omitted printing of 16 columns)</p><tr><th>1</th><td>-77.0268</td><td>38.9721</td><td>MOTEL 6 WASHINGTON DC</td></tr><tr><th>2</th><td>-77.0849</td><td>38.9608</td><td>EMBASSY SUITES BY HILTON WASHINGTON DC CHEVY CHASE PAVILION</td></tr><tr><th>3</th><td>-77.0354</td><td>38.9564</td><td>INTERNATIONAL GUEST HOUSE</td></tr><tr><th>4</th><td>-77.0656</td><td>38.947</td><td>DAYS INN BY WYNDHAM WASHINGTON DC/CONNECTICUT AVENUE</td></tr><tr><th>5</th><td>-77.0284</td><td>38.9299</td><td>ASANTE SANA INN</td></tr><tr><th>6</th><td>-77.0555</td><td>38.9282</td><td>THE KALORAMA GUEST HOUSE</td></tr><tr><th>7</th><td>-77.1027</td><td>38.9267</td><td>LUXBNB</td></tr><tr><th>8</th><td>-77.0537</td><td>38.9259</td><td>WOODLEY PARK GUEST HOUSE</td></tr><tr><th>9</th><td>-77.0547</td><td>38.9247</td><td>WASHINGTON MARRIOTT WARDMAN PARK</td></tr><tr><th>10</th><td>-77.0416</td><td>38.9245</td><td>ADAM'S INN</td></tr><tr><th>11</th><td>-77.0728</td><td>38.9233</td><td>KIMPTON GLOVER PARK HOTEL</td></tr><tr><th>12</th><td>-77.0417</td><td>38.9228</td><td>THE LINE DC</td></tr><tr><th>13</th><td>-77.0537</td><td>38.9226</td><td>OMNI SHOREHAM HOTEL</td></tr><tr><th>14</th><td>-77.0423</td><td>38.9204</td><td>HIGHROAD HOSTE</td></tr><tr><th>15</th><td>-77.0486</td><td>38.9182</td><td>WINDSOR PARK HOTEL</td></tr><tr><th>16</th><td>-76.9706</td><td>38.918</td><td>DAYS INN BY WYNDHAM WASHINGTON DC/GATEWAY</td></tr><tr><th>17</th><td>-77.0459</td><td>38.9177</td><td>AMERICAN GUEST HOUSE</td></tr><tr><th>18</th><td>-76.98</td><td>38.9174</td><td>QUALITY INN  &amp; SUITES NEW YORK AVE</td></tr><tr><th>19</th><td>-77.0475</td><td>38.9173</td><td>THE NORMANDY HOTEL</td></tr><tr><th>20</th><td>-76.9715</td><td>38.9168</td><td>FAIRFIELD INN &amp; SUITES WASHINGTON, DC/NEW YORK AVENUE</td></tr><tr><th>21</th><td>-76.9805</td><td>38.9167</td><td>IVY CITY HOTEL</td></tr><tr><th>22</th><td>-77.0452</td><td>38.9165</td><td>WASHINGTON HILTON</td></tr><tr><th>23</th><td>-77.047</td><td>38.9164</td><td>THE CHURCHILL HOTEL NEAR EMBASSY ROW</td></tr><tr><th>24</th><td>-77.017</td><td>38.9161</td><td>THE BIRDHOUSE BED AND BREAKFAST</td></tr><tr><th>25</th><td>-77.0469</td><td>38.916</td><td>COURTYARD WASHINGTON, DC/DUPONT CIRCLE</td></tr><tr><th>26</th><td>-77.0149</td><td>38.9157</td><td>LEDROIT PARK BED AND BREAKFEAST</td></tr><tr><th>27</th><td>-77.0678</td><td>38.9155</td><td>GEORGETOWN HILL INN</td></tr><tr><th>28</th><td>-77.0369</td><td>38.9153</td><td>WINDSOR INN</td></tr><tr><th>29</th><td>-77.0393</td><td>38.9146</td><td>SWANN HOUSE LLC</td></tr><tr><th>30</th><td>-77.0395</td><td>38.9133</td><td>KIMPTON CARLYLE HOTEL</td></tr><tr><th>&vellip;</th><td>&vellip;</td><td>&vellip;</td><td>&vellip;</td></tr></tbody></table>"
            ],
            "text/latex": [
              "\\begin{tabular}{r|cccc}\n",
              "\t& X & Y & NAME & \\\\\n",
              "\t\\hline\n",
              "\t& Float64 & Float64 & String? & \\\\\n",
              "\t\\hline\n",
              "\t1 & -77.0268 & 38.9721 & MOTEL 6 WASHINGTON DC & $\\dots$ \\\\\n",
              "\t2 & -77.0849 & 38.9608 & EMBASSY SUITES BY HILTON WASHINGTON DC CHEVY CHASE PAVILION & $\\dots$ \\\\\n",
              "\t3 & -77.0354 & 38.9564 & INTERNATIONAL GUEST HOUSE & $\\dots$ \\\\\n",
              "\t4 & -77.0656 & 38.947 & DAYS INN BY WYNDHAM WASHINGTON DC/CONNECTICUT AVENUE & $\\dots$ \\\\\n",
              "\t5 & -77.0284 & 38.9299 & ASANTE SANA INN & $\\dots$ \\\\\n",
              "\t6 & -77.0555 & 38.9282 & THE KALORAMA GUEST HOUSE & $\\dots$ \\\\\n",
              "\t7 & -77.1027 & 38.9267 & LUXBNB & $\\dots$ \\\\\n",
              "\t8 & -77.0537 & 38.9259 & WOODLEY PARK GUEST HOUSE & $\\dots$ \\\\\n",
              "\t9 & -77.0547 & 38.9247 & WASHINGTON MARRIOTT WARDMAN PARK & $\\dots$ \\\\\n",
              "\t10 & -77.0416 & 38.9245 & ADAM'S INN & $\\dots$ \\\\\n",
              "\t11 & -77.0728 & 38.9233 & KIMPTON GLOVER PARK HOTEL & $\\dots$ \\\\\n",
              "\t12 & -77.0417 & 38.9228 & THE LINE DC & $\\dots$ \\\\\n",
              "\t13 & -77.0537 & 38.9226 & OMNI SHOREHAM HOTEL & $\\dots$ \\\\\n",
              "\t14 & -77.0423 & 38.9204 & HIGHROAD HOSTE & $\\dots$ \\\\\n",
              "\t15 & -77.0486 & 38.9182 & WINDSOR PARK HOTEL & $\\dots$ \\\\\n",
              "\t16 & -76.9706 & 38.918 & DAYS INN BY WYNDHAM WASHINGTON DC/GATEWAY & $\\dots$ \\\\\n",
              "\t17 & -77.0459 & 38.9177 & AMERICAN GUEST HOUSE & $\\dots$ \\\\\n",
              "\t18 & -76.98 & 38.9174 & QUALITY INN  \\& SUITES NEW YORK AVE & $\\dots$ \\\\\n",
              "\t19 & -77.0475 & 38.9173 & THE NORMANDY HOTEL & $\\dots$ \\\\\n",
              "\t20 & -76.9715 & 38.9168 & FAIRFIELD INN \\& SUITES WASHINGTON, DC/NEW YORK AVENUE & $\\dots$ \\\\\n",
              "\t21 & -76.9805 & 38.9167 & IVY CITY HOTEL & $\\dots$ \\\\\n",
              "\t22 & -77.0452 & 38.9165 & WASHINGTON HILTON & $\\dots$ \\\\\n",
              "\t23 & -77.047 & 38.9164 & THE CHURCHILL HOTEL NEAR EMBASSY ROW & $\\dots$ \\\\\n",
              "\t24 & -77.017 & 38.9161 & THE BIRDHOUSE BED AND BREAKFAST & $\\dots$ \\\\\n",
              "\t25 & -77.0469 & 38.916 & COURTYARD WASHINGTON, DC/DUPONT CIRCLE & $\\dots$ \\\\\n",
              "\t26 & -77.0149 & 38.9157 & LEDROIT PARK BED AND BREAKFEAST & $\\dots$ \\\\\n",
              "\t27 & -77.0678 & 38.9155 & GEORGETOWN HILL INN & $\\dots$ \\\\\n",
              "\t28 & -77.0369 & 38.9153 & WINDSOR INN & $\\dots$ \\\\\n",
              "\t29 & -77.0393 & 38.9146 & SWANN HOUSE LLC & $\\dots$ \\\\\n",
              "\t30 & -77.0395 & 38.9133 & KIMPTON CARLYLE HOTEL & $\\dots$ \\\\\n",
              "\t$\\dots$ & $\\dots$ & $\\dots$ & $\\dots$ &  \\\\\n",
              "\\end{tabular}\n"
            ],
            "text/plain": [
              "\u001b[1m169×19 DataFrame\u001b[0m\n",
              "\u001b[1m Row \u001b[0m│\u001b[1m X        \u001b[0m\u001b[1m Y       \u001b[0m\u001b[1m NAME                              \u001b[0m\u001b[1m ADDRESS          \u001b[0m ⋯\n",
              "\u001b[1m     \u001b[0m│\u001b[90m Float64  \u001b[0m\u001b[90m Float64 \u001b[0m\u001b[90m String?                           \u001b[0m\u001b[90m String           \u001b[0m ⋯\n",
              "─────┼──────────────────────────────────────────────────────────────────────────\n",
              "   1 │ -77.0268  38.9721  MOTEL 6 WASHINGTON DC              6711 GEORGIA AVEN ⋯\n",
              "   2 │ -77.0849  38.9608  EMBASSY SUITES BY HILTON WASHING…  4300 MILITARY ROA\n",
              "   3 │ -77.0354  38.9564  INTERNATIONAL GUEST HOUSE          1441 KENNEDY STRE\n",
              "   4 │ -77.0656  38.947   DAYS INN BY WYNDHAM WASHINGTON D…  4400 CONNECTICUT\n",
              "   5 │ -77.0284  38.9299  ASANTE SANA INN                    1207 KENYON STREE ⋯\n",
              "   6 │ -77.0555  38.9282  THE KALORAMA GUEST HOUSE           2700 CATHEDRAL AV\n",
              "   7 │ -77.1027  38.9267  LUXBNB                             5185 MACARTHUR BO\n",
              "   8 │ -77.0537  38.9259  WOODLEY PARK GUEST HOUSE           2647 WOODLEY ROAD\n",
              "   9 │ -77.0547  38.9247  WASHINGTON MARRIOTT WARDMAN PARK   2660 WOODLEY ROAD ⋯\n",
              "  10 │ -77.0416  38.9245  ADAM'S INN                         1746 LANIER PLACE\n",
              "  11 │ -77.0728  38.9233  KIMPTON GLOVER PARK HOTEL          2505 WISCONSIN AV\n",
              "  ⋮  │    ⋮         ⋮                     ⋮                               ⋮    ⋱\n",
              " 160 │ -77.0305  38.8836  MANDARIN ORIENTAL                  1330 MARYLAND AVE\n",
              " 161 │ -76.9921  38.8834  DUO NOMAD                          1010 PENNSYLVANIA ⋯\n",
              " 162 │ -77.018   38.8831  HYATT PLACE WASHINGTON DC/NATION…  400 E STREET SW\n",
              " 163 │ -77.025   38.8794  INTERCONTINENTAL WASHINGTON D.C.…  801 WHARF STREET\n",
              " 164 │ -77.0097  38.879   CAPITOL SKYLINE HOTEL              10 I STREET SW\n",
              " 165 │ -77.0234  38.8785  CANOPY WASHINGTON DC THE WHARF     975 7TH STREET SW ⋯\n",
              " 166 │ -77.004   38.8777  COURTYARD WASHINGTON CAPITOL HIL…  140 L STREET SE\n",
              " 167 │ -77.0073  38.8767  HOMEWOOD SUITES WASHINGTON DC CA…  50 M STREET SE\n",
              " 168 │ -77.0062  38.8759  RESIDENCE INN WASHINGTON CAPITOL…  1233 1ST STREET S\n",
              " 169 │ -77.0062  38.875   HAMPTON INN & SUITES WASHINGTON …  1265 1ST STREET S ⋯\n",
              "\u001b[36m                                                 16 columns and 148 rows omitted\u001b[0m"
            ]
          },
          "execution_count": 2,
          "metadata": {},
          "output_type": "execute_result"
        }
      ],
      "source": [
        "hotels = DataFrame(CSV.File(\"Hotels.csv\")) "
      ]
    },
    {
      "cell_type": "markdown",
      "id": "6a623fef",
      "metadata": {
        "id": "6a623fef"
      },
      "source": [
        "La siguiente línea nos permite apreciar la información de las primeras $3$ filas del archivo."
      ]
    },
    {
      "cell_type": "code",
      "execution_count": null,
      "id": "af448c87",
      "metadata": {
        "id": "af448c87",
        "outputId": "e633982e-adb1-46be-be77-331833c6a715"
      },
      "outputs": [
        {
          "data": {
            "text/html": [
              "<table class=\"data-frame\"><thead><tr><th></th><th>X</th><th>Y</th><th>NAME</th></tr><tr><th></th><th>Float64</th><th>Float64</th><th>String?</th></tr></thead><tbody><p>3 rows × 19 columns (omitted printing of 16 columns)</p><tr><th>1</th><td>-77.0268</td><td>38.9721</td><td>MOTEL 6 WASHINGTON DC</td></tr><tr><th>2</th><td>-77.0849</td><td>38.9608</td><td>EMBASSY SUITES BY HILTON WASHINGTON DC CHEVY CHASE PAVILION</td></tr><tr><th>3</th><td>-77.0354</td><td>38.9564</td><td>INTERNATIONAL GUEST HOUSE</td></tr></tbody></table>"
            ],
            "text/latex": [
              "\\begin{tabular}{r|cccc}\n",
              "\t& X & Y & NAME & \\\\\n",
              "\t\\hline\n",
              "\t& Float64 & Float64 & String? & \\\\\n",
              "\t\\hline\n",
              "\t1 & -77.0268 & 38.9721 & MOTEL 6 WASHINGTON DC & $\\dots$ \\\\\n",
              "\t2 & -77.0849 & 38.9608 & EMBASSY SUITES BY HILTON WASHINGTON DC CHEVY CHASE PAVILION & $\\dots$ \\\\\n",
              "\t3 & -77.0354 & 38.9564 & INTERNATIONAL GUEST HOUSE & $\\dots$ \\\\\n",
              "\\end{tabular}\n"
            ],
            "text/plain": [
              "\u001b[1m3×19 DataFrame\u001b[0m\n",
              "\u001b[1m Row \u001b[0m│\u001b[1m X        \u001b[0m\u001b[1m Y       \u001b[0m\u001b[1m NAME                              \u001b[0m\u001b[1m ADDRESS          \u001b[0m ⋯\n",
              "\u001b[1m     \u001b[0m│\u001b[90m Float64  \u001b[0m\u001b[90m Float64 \u001b[0m\u001b[90m String?                           \u001b[0m\u001b[90m String           \u001b[0m ⋯\n",
              "─────┼──────────────────────────────────────────────────────────────────────────\n",
              "   1 │ -77.0268  38.9721  MOTEL 6 WASHINGTON DC              6711 GEORGIA AVEN ⋯\n",
              "   2 │ -77.0849  38.9608  EMBASSY SUITES BY HILTON WASHING…  4300 MILITARY ROA\n",
              "   3 │ -77.0354  38.9564  INTERNATIONAL GUEST HOUSE          1441 KENNEDY STRE\n",
              "\u001b[36m                                                              16 columns omitted\u001b[0m"
            ]
          },
          "execution_count": 3,
          "metadata": {},
          "output_type": "execute_result"
        }
      ],
      "source": [
        "first(hotels, 3) "
      ]
    },
    {
      "cell_type": "markdown",
      "id": "ae7529c0",
      "metadata": {
        "id": "ae7529c0"
      },
      "source": [
        "A continuación aislamos los datos de la primera y la segunda columna para todas las filas ya que estos nos dan la información acerca de la ubicación espacial (latitud y longitud) de los hoteles."
      ]
    },
    {
      "cell_type": "code",
      "execution_count": null,
      "id": "545b5407",
      "metadata": {
        "id": "545b5407",
        "outputId": "a90b69da-864e-4ffc-c888-e242e2c9719e"
      },
      "outputs": [
        {
          "data": {
            "text/plain": [
              "169×2 Matrix{Float64}:\n",
              " -77.0268  38.9721\n",
              " -77.0849  38.9608\n",
              " -77.0354  38.9564\n",
              " -77.0656  38.947\n",
              " -77.0284  38.9299\n",
              " -77.0555  38.9282\n",
              " -77.1027  38.9267\n",
              " -77.0537  38.9259\n",
              " -77.0547  38.9247\n",
              " -77.0416  38.9245\n",
              " -77.0728  38.9233\n",
              " -77.0417  38.9228\n",
              " -77.0537  38.9226\n",
              "   ⋮       \n",
              " -77.0244  38.8839\n",
              " -77.0159  38.8836\n",
              " -77.0305  38.8836\n",
              " -76.9921  38.8834\n",
              " -77.018   38.8831\n",
              " -77.025   38.8794\n",
              " -77.0097  38.879\n",
              " -77.0234  38.8785\n",
              " -77.004   38.8777\n",
              " -77.0073  38.8767\n",
              " -77.0062  38.8759\n",
              " -77.0062  38.875"
            ]
          },
          "execution_count": 4,
          "metadata": {},
          "output_type": "execute_result"
        }
      ],
      "source": [
        "hotelsxy = hcat(hotels[:, 1], hotels[:, 2]) "
      ]
    },
    {
      "cell_type": "markdown",
      "id": "33ef4924",
      "metadata": {
        "id": "33ef4924"
      },
      "source": [
        "Ahora graficamos la información. Es decir, cada punto de la siguiente gráfica representa la ubicación de un hotel. "
      ]
    },
    {
      "cell_type": "code",
      "execution_count": null,
      "id": "05f4d662",
      "metadata": {
        "scrolled": true,
        "id": "05f4d662",
        "outputId": "53b80204-3c09-40ca-b68a-641cc64b1645"
      },
      "outputs": [
        {
          "data": {
            "image/svg+xml": [
              "<?xml version=\"1.0\" encoding=\"utf-8\"?>\n",
              "<svg xmlns=\"http://www.w3.org/2000/svg\" xmlns:xlink=\"http://www.w3.org/1999/xlink\" width=\"600\" height=\"400\" viewBox=\"0 0 2400 1600\">\n",
              "<defs>\n",
              "  <clipPath id=\"clip260\">\n",
              "    <rect x=\"0\" y=\"0\" width=\"2400\" height=\"1600\"/>\n",
              "  </clipPath>\n",
              "</defs>\n",
              "<path clip-path=\"url(#clip260)\" d=\"\n",
              "M0 1600 L2400 1600 L2400 0 L0 0  Z\n",
              "  \" fill=\"#ffffff\" fill-rule=\"evenodd\" fill-opacity=\"1\"/>\n",
              "<defs>\n",
              "  <clipPath id=\"clip261\">\n",
              "    <rect x=\"480\" y=\"0\" width=\"1681\" height=\"1600\"/>\n",
              "  </clipPath>\n",
              "</defs>\n",
              "<path clip-path=\"url(#clip260)\" d=\"\n",
              "M279.704 1423.18 L2352.76 1423.18 L2352.76 123.472 L279.704 123.472  Z\n",
              "  \" fill=\"#ffffff\" fill-rule=\"evenodd\" fill-opacity=\"1\"/>\n",
              "<defs>\n",
              "  <clipPath id=\"clip262\">\n",
              "    <rect x=\"279\" y=\"123\" width=\"2074\" height=\"1301\"/>\n",
              "  </clipPath>\n",
              "</defs>\n",
              "<polyline clip-path=\"url(#clip262)\" style=\"stroke:#000000; stroke-linecap:round; stroke-linejoin:round; stroke-width:2; stroke-opacity:0.1; fill:none\" points=\"\n",
              "  368.708,1423.18 368.708,123.472 \n",
              "  \"/>\n",
              "<polyline clip-path=\"url(#clip262)\" style=\"stroke:#000000; stroke-linecap:round; stroke-linejoin:round; stroke-width:2; stroke-opacity:0.1; fill:none\" points=\"\n",
              "  923.881,1423.18 923.881,123.472 \n",
              "  \"/>\n",
              "<polyline clip-path=\"url(#clip262)\" style=\"stroke:#000000; stroke-linecap:round; stroke-linejoin:round; stroke-width:2; stroke-opacity:0.1; fill:none\" points=\"\n",
              "  1479.05,1423.18 1479.05,123.472 \n",
              "  \"/>\n",
              "<polyline clip-path=\"url(#clip262)\" style=\"stroke:#000000; stroke-linecap:round; stroke-linejoin:round; stroke-width:2; stroke-opacity:0.1; fill:none\" points=\"\n",
              "  2034.23,1423.18 2034.23,123.472 \n",
              "  \"/>\n",
              "<polyline clip-path=\"url(#clip260)\" style=\"stroke:#000000; stroke-linecap:round; stroke-linejoin:round; stroke-width:4; stroke-opacity:1; fill:none\" points=\"\n",
              "  279.704,1423.18 2352.76,1423.18 \n",
              "  \"/>\n",
              "<polyline clip-path=\"url(#clip260)\" style=\"stroke:#000000; stroke-linecap:round; stroke-linejoin:round; stroke-width:4; stroke-opacity:1; fill:none\" points=\"\n",
              "  368.708,1423.18 368.708,1404.28 \n",
              "  \"/>\n",
              "<polyline clip-path=\"url(#clip260)\" style=\"stroke:#000000; stroke-linecap:round; stroke-linejoin:round; stroke-width:4; stroke-opacity:1; fill:none\" points=\"\n",
              "  923.881,1423.18 923.881,1404.28 \n",
              "  \"/>\n",
              "<polyline clip-path=\"url(#clip260)\" style=\"stroke:#000000; stroke-linecap:round; stroke-linejoin:round; stroke-width:4; stroke-opacity:1; fill:none\" points=\"\n",
              "  1479.05,1423.18 1479.05,1404.28 \n",
              "  \"/>\n",
              "<polyline clip-path=\"url(#clip260)\" style=\"stroke:#000000; stroke-linecap:round; stroke-linejoin:round; stroke-width:4; stroke-opacity:1; fill:none\" points=\"\n",
              "  2034.23,1423.18 2034.23,1404.28 \n",
              "  \"/>\n",
              "<path clip-path=\"url(#clip260)\" d=\"M285.074 1468.75 L314.75 1468.75 L314.75 1472.69 L285.074 1472.69 L285.074 1468.75 Z\" fill=\"#000000\" fill-rule=\"evenodd\" fill-opacity=\"1\" /><path clip-path=\"url(#clip260)\" d=\"M323.662 1451.02 L345.884 1451.02 L345.884 1453.01 L333.337 1485.58 L328.453 1485.58 L340.259 1454.96 L323.662 1454.96 L323.662 1451.02 Z\" fill=\"#000000\" fill-rule=\"evenodd\" fill-opacity=\"1\" /><path clip-path=\"url(#clip260)\" d=\"M353.823 1451.02 L376.045 1451.02 L376.045 1453.01 L363.499 1485.58 L358.615 1485.58 L370.421 1454.96 L353.823 1454.96 L353.823 1451.02 Z\" fill=\"#000000\" fill-rule=\"evenodd\" fill-opacity=\"1\" /><path clip-path=\"url(#clip260)\" d=\"M385.166 1479.7 L390.05 1479.7 L390.05 1485.58 L385.166 1485.58 L385.166 1479.7 Z\" fill=\"#000000\" fill-rule=\"evenodd\" fill-opacity=\"1\" /><path clip-path=\"url(#clip260)\" d=\"M401.045 1481.64 L408.684 1481.64 L408.684 1455.28 L400.374 1456.95 L400.374 1452.69 L408.638 1451.02 L413.314 1451.02 L413.314 1481.64 L420.953 1481.64 L420.953 1485.58 L401.045 1485.58 L401.045 1481.64 Z\" fill=\"#000000\" fill-rule=\"evenodd\" fill-opacity=\"1\" /><path clip-path=\"url(#clip260)\" d=\"M440.397 1454.1 Q436.786 1454.1 434.957 1457.66 Q433.152 1461.2 433.152 1468.33 Q433.152 1475.44 434.957 1479.01 Q436.786 1482.55 440.397 1482.55 Q444.031 1482.55 445.837 1479.01 Q447.665 1475.44 447.665 1468.33 Q447.665 1461.2 445.837 1457.66 Q444.031 1454.1 440.397 1454.1 M440.397 1450.39 Q446.207 1450.39 449.263 1455 Q452.341 1459.58 452.341 1468.33 Q452.341 1477.06 449.263 1481.67 Q446.207 1486.25 440.397 1486.25 Q434.587 1486.25 431.508 1481.67 Q428.453 1477.06 428.453 1468.33 Q428.453 1459.58 431.508 1455 Q434.587 1450.39 440.397 1450.39 Z\" fill=\"#000000\" fill-rule=\"evenodd\" fill-opacity=\"1\" /><path clip-path=\"url(#clip260)\" d=\"M840.745 1468.75 L870.42 1468.75 L870.42 1472.69 L840.745 1472.69 L840.745 1468.75 Z\" fill=\"#000000\" fill-rule=\"evenodd\" fill-opacity=\"1\" /><path clip-path=\"url(#clip260)\" d=\"M879.332 1451.02 L901.555 1451.02 L901.555 1453.01 L889.008 1485.58 L884.124 1485.58 L895.93 1454.96 L879.332 1454.96 L879.332 1451.02 Z\" fill=\"#000000\" fill-rule=\"evenodd\" fill-opacity=\"1\" /><path clip-path=\"url(#clip260)\" d=\"M909.494 1451.02 L931.716 1451.02 L931.716 1453.01 L919.17 1485.58 L914.286 1485.58 L926.091 1454.96 L909.494 1454.96 L909.494 1451.02 Z\" fill=\"#000000\" fill-rule=\"evenodd\" fill-opacity=\"1\" /><path clip-path=\"url(#clip260)\" d=\"M940.837 1479.7 L945.721 1479.7 L945.721 1485.58 L940.837 1485.58 L940.837 1479.7 Z\" fill=\"#000000\" fill-rule=\"evenodd\" fill-opacity=\"1\" /><path clip-path=\"url(#clip260)\" d=\"M965.906 1454.1 Q962.295 1454.1 960.466 1457.66 Q958.661 1461.2 958.661 1468.33 Q958.661 1475.44 960.466 1479.01 Q962.295 1482.55 965.906 1482.55 Q969.54 1482.55 971.346 1479.01 Q973.174 1475.44 973.174 1468.33 Q973.174 1461.2 971.346 1457.66 Q969.54 1454.1 965.906 1454.1 M965.906 1450.39 Q971.716 1450.39 974.772 1455 Q977.85 1459.58 977.85 1468.33 Q977.85 1477.06 974.772 1481.67 Q971.716 1486.25 965.906 1486.25 Q960.096 1486.25 957.017 1481.67 Q953.962 1477.06 953.962 1468.33 Q953.962 1459.58 957.017 1455 Q960.096 1450.39 965.906 1450.39 Z\" fill=\"#000000\" fill-rule=\"evenodd\" fill-opacity=\"1\" /><path clip-path=\"url(#clip260)\" d=\"M986.114 1451.02 L1004.47 1451.02 L1004.47 1454.96 L990.397 1454.96 L990.397 1463.43 Q991.415 1463.08 992.434 1462.92 Q993.452 1462.73 994.471 1462.73 Q1000.26 1462.73 1003.64 1465.9 Q1007.02 1469.08 1007.02 1474.49 Q1007.02 1480.07 1003.54 1483.17 Q1000.07 1486.25 993.753 1486.25 Q991.577 1486.25 989.309 1485.88 Q987.063 1485.51 984.656 1484.77 L984.656 1480.07 Q986.739 1481.2 988.961 1481.76 Q991.184 1482.32 993.66 1482.32 Q997.665 1482.32 1000 1480.21 Q1002.34 1478.1 1002.34 1474.49 Q1002.34 1470.88 1000 1468.77 Q997.665 1466.67 993.66 1466.67 Q991.786 1466.67 989.911 1467.08 Q988.059 1467.5 986.114 1468.38 L986.114 1451.02 Z\" fill=\"#000000\" fill-rule=\"evenodd\" fill-opacity=\"1\" /><path clip-path=\"url(#clip260)\" d=\"M1395.42 1468.75 L1425.1 1468.75 L1425.1 1472.69 L1395.42 1472.69 L1395.42 1468.75 Z\" fill=\"#000000\" fill-rule=\"evenodd\" fill-opacity=\"1\" /><path clip-path=\"url(#clip260)\" d=\"M1434.01 1451.02 L1456.23 1451.02 L1456.23 1453.01 L1443.68 1485.58 L1438.8 1485.58 L1450.61 1454.96 L1434.01 1454.96 L1434.01 1451.02 Z\" fill=\"#000000\" fill-rule=\"evenodd\" fill-opacity=\"1\" /><path clip-path=\"url(#clip260)\" d=\"M1464.17 1451.02 L1486.39 1451.02 L1486.39 1453.01 L1473.85 1485.58 L1468.96 1485.58 L1480.77 1454.96 L1464.17 1454.96 L1464.17 1451.02 Z\" fill=\"#000000\" fill-rule=\"evenodd\" fill-opacity=\"1\" /><path clip-path=\"url(#clip260)\" d=\"M1495.51 1479.7 L1500.4 1479.7 L1500.4 1485.58 L1495.51 1485.58 L1495.51 1479.7 Z\" fill=\"#000000\" fill-rule=\"evenodd\" fill-opacity=\"1\" /><path clip-path=\"url(#clip260)\" d=\"M1520.58 1454.1 Q1516.97 1454.1 1515.14 1457.66 Q1513.34 1461.2 1513.34 1468.33 Q1513.34 1475.44 1515.14 1479.01 Q1516.97 1482.55 1520.58 1482.55 Q1524.22 1482.55 1526.02 1479.01 Q1527.85 1475.44 1527.85 1468.33 Q1527.85 1461.2 1526.02 1457.66 Q1524.22 1454.1 1520.58 1454.1 M1520.58 1450.39 Q1526.39 1450.39 1529.45 1455 Q1532.53 1459.58 1532.53 1468.33 Q1532.53 1477.06 1529.45 1481.67 Q1526.39 1486.25 1520.58 1486.25 Q1514.77 1486.25 1511.69 1481.67 Q1508.64 1477.06 1508.64 1468.33 Q1508.64 1459.58 1511.69 1455 Q1514.77 1450.39 1520.58 1450.39 Z\" fill=\"#000000\" fill-rule=\"evenodd\" fill-opacity=\"1\" /><path clip-path=\"url(#clip260)\" d=\"M1550.74 1454.1 Q1547.13 1454.1 1545.3 1457.66 Q1543.5 1461.2 1543.5 1468.33 Q1543.5 1475.44 1545.3 1479.01 Q1547.13 1482.55 1550.74 1482.55 Q1554.38 1482.55 1556.18 1479.01 Q1558.01 1475.44 1558.01 1468.33 Q1558.01 1461.2 1556.18 1457.66 Q1554.38 1454.1 1550.74 1454.1 M1550.74 1450.39 Q1556.55 1450.39 1559.61 1455 Q1562.69 1459.58 1562.69 1468.33 Q1562.69 1477.06 1559.61 1481.67 Q1556.55 1486.25 1550.74 1486.25 Q1544.93 1486.25 1541.85 1481.67 Q1538.8 1477.06 1538.8 1468.33 Q1538.8 1459.58 1541.85 1455 Q1544.93 1450.39 1550.74 1450.39 Z\" fill=\"#000000\" fill-rule=\"evenodd\" fill-opacity=\"1\" /><path clip-path=\"url(#clip260)\" d=\"M1951.09 1468.75 L1980.77 1468.75 L1980.77 1472.69 L1951.09 1472.69 L1951.09 1468.75 Z\" fill=\"#000000\" fill-rule=\"evenodd\" fill-opacity=\"1\" /><path clip-path=\"url(#clip260)\" d=\"M1989.68 1451.02 L2011.9 1451.02 L2011.9 1453.01 L1999.35 1485.58 L1994.47 1485.58 L2006.28 1454.96 L1989.68 1454.96 L1989.68 1451.02 Z\" fill=\"#000000\" fill-rule=\"evenodd\" fill-opacity=\"1\" /><path clip-path=\"url(#clip260)\" d=\"M2031.6 1466.44 Q2028.45 1466.44 2026.6 1468.59 Q2024.77 1470.74 2024.77 1474.49 Q2024.77 1478.22 2026.6 1480.39 Q2028.45 1482.55 2031.6 1482.55 Q2034.75 1482.55 2036.58 1480.39 Q2038.43 1478.22 2038.43 1474.49 Q2038.43 1470.74 2036.58 1468.59 Q2034.75 1466.44 2031.6 1466.44 M2040.88 1451.78 L2040.88 1456.04 Q2039.12 1455.21 2037.32 1454.77 Q2035.54 1454.33 2033.78 1454.33 Q2029.15 1454.33 2026.69 1457.45 Q2024.26 1460.58 2023.91 1466.9 Q2025.28 1464.89 2027.34 1463.82 Q2029.4 1462.73 2031.88 1462.73 Q2037.09 1462.73 2040.1 1465.9 Q2043.13 1469.05 2043.13 1474.49 Q2043.13 1479.82 2039.98 1483.03 Q2036.83 1486.25 2031.6 1486.25 Q2025.6 1486.25 2022.43 1481.67 Q2019.26 1477.06 2019.26 1468.33 Q2019.26 1460.14 2023.15 1455.28 Q2027.04 1450.39 2033.59 1450.39 Q2035.35 1450.39 2037.13 1450.74 Q2038.94 1451.09 2040.88 1451.78 Z\" fill=\"#000000\" fill-rule=\"evenodd\" fill-opacity=\"1\" /><path clip-path=\"url(#clip260)\" d=\"M2051.18 1479.7 L2056.07 1479.7 L2056.07 1485.58 L2051.18 1485.58 L2051.18 1479.7 Z\" fill=\"#000000\" fill-rule=\"evenodd\" fill-opacity=\"1\" /><path clip-path=\"url(#clip260)\" d=\"M2066.39 1484.86 L2066.39 1480.6 Q2068.15 1481.44 2069.96 1481.88 Q2071.76 1482.32 2073.5 1482.32 Q2078.13 1482.32 2080.56 1479.21 Q2083.01 1476.09 2083.36 1469.75 Q2082.02 1471.74 2079.96 1472.8 Q2077.9 1473.87 2075.4 1473.87 Q2070.21 1473.87 2067.18 1470.74 Q2064.17 1467.59 2064.17 1462.15 Q2064.17 1456.83 2067.32 1453.61 Q2070.47 1450.39 2075.7 1450.39 Q2081.69 1450.39 2084.84 1455 Q2088.01 1459.58 2088.01 1468.33 Q2088.01 1476.51 2084.12 1481.39 Q2080.26 1486.25 2073.71 1486.25 Q2071.95 1486.25 2070.14 1485.9 Q2068.34 1485.56 2066.39 1484.86 M2075.7 1470.21 Q2078.85 1470.21 2080.67 1468.06 Q2082.53 1465.9 2082.53 1462.15 Q2082.53 1458.43 2080.67 1456.27 Q2078.85 1454.1 2075.7 1454.1 Q2072.55 1454.1 2070.7 1456.27 Q2068.87 1458.43 2068.87 1462.15 Q2068.87 1465.9 2070.7 1468.06 Q2072.55 1470.21 2075.7 1470.21 Z\" fill=\"#000000\" fill-rule=\"evenodd\" fill-opacity=\"1\" /><path clip-path=\"url(#clip260)\" d=\"M2096.46 1451.02 L2114.82 1451.02 L2114.82 1454.96 L2100.74 1454.96 L2100.74 1463.43 Q2101.76 1463.08 2102.78 1462.92 Q2103.8 1462.73 2104.82 1462.73 Q2110.6 1462.73 2113.98 1465.9 Q2117.36 1469.08 2117.36 1474.49 Q2117.36 1480.07 2113.89 1483.17 Q2110.42 1486.25 2104.1 1486.25 Q2101.92 1486.25 2099.66 1485.88 Q2097.41 1485.51 2095 1484.77 L2095 1480.07 Q2097.09 1481.2 2099.31 1481.76 Q2101.53 1482.32 2104.01 1482.32 Q2108.01 1482.32 2110.35 1480.21 Q2112.69 1478.1 2112.69 1474.49 Q2112.69 1470.88 2110.35 1468.77 Q2108.01 1466.67 2104.01 1466.67 Q2102.13 1466.67 2100.26 1467.08 Q2098.41 1467.5 2096.46 1468.38 L2096.46 1451.02 Z\" fill=\"#000000\" fill-rule=\"evenodd\" fill-opacity=\"1\" /><path clip-path=\"url(#clip260)\" d=\"M1167.46 1518.52 L1173.32 1518.52 L1173.32 1568.04 L1167.46 1568.04 L1167.46 1518.52 Z\" fill=\"#000000\" fill-rule=\"evenodd\" fill-opacity=\"1\" /><path clip-path=\"url(#clip260)\" d=\"M1199.39 1536.5 Q1194.68 1536.5 1191.94 1540.19 Q1189.2 1543.85 1189.2 1550.25 Q1189.2 1556.65 1191.91 1560.34 Q1194.64 1564 1199.39 1564 Q1204.07 1564 1206.8 1560.31 Q1209.54 1556.62 1209.54 1550.25 Q1209.54 1543.92 1206.8 1540.23 Q1204.07 1536.5 1199.39 1536.5 M1199.39 1531.54 Q1207.03 1531.54 1211.39 1536.5 Q1215.75 1541.47 1215.75 1550.25 Q1215.75 1559 1211.39 1564 Q1207.03 1568.97 1199.39 1568.97 Q1191.72 1568.97 1187.36 1564 Q1183.03 1559 1183.03 1550.25 Q1183.03 1541.47 1187.36 1536.5 Q1191.72 1531.54 1199.39 1531.54 Z\" fill=\"#000000\" fill-rule=\"evenodd\" fill-opacity=\"1\" /><path clip-path=\"url(#clip260)\" d=\"M1255.09 1546.53 L1255.09 1568.04 L1249.23 1568.04 L1249.23 1546.72 Q1249.23 1541.66 1247.26 1539.14 Q1245.28 1536.63 1241.34 1536.63 Q1236.59 1536.63 1233.86 1539.65 Q1231.12 1542.68 1231.12 1547.9 L1231.12 1568.04 L1225.23 1568.04 L1225.23 1532.4 L1231.12 1532.4 L1231.12 1537.93 Q1233.22 1534.72 1236.05 1533.13 Q1238.92 1531.54 1242.64 1531.54 Q1248.79 1531.54 1251.94 1535.36 Q1255.09 1539.14 1255.09 1546.53 Z\" fill=\"#000000\" fill-rule=\"evenodd\" fill-opacity=\"1\" /><path clip-path=\"url(#clip260)\" d=\"M1290.23 1549.81 Q1290.23 1543.44 1287.58 1539.94 Q1284.97 1536.44 1280.23 1536.44 Q1275.52 1536.44 1272.88 1539.94 Q1270.27 1543.44 1270.27 1549.81 Q1270.27 1556.14 1272.88 1559.64 Q1275.52 1563.14 1280.23 1563.14 Q1284.97 1563.14 1287.58 1559.64 Q1290.23 1556.14 1290.23 1549.81 M1296.08 1563.62 Q1296.08 1572.72 1292.04 1577.15 Q1288 1581.6 1279.66 1581.6 Q1276.57 1581.6 1273.83 1581.13 Q1271.1 1580.68 1268.52 1579.72 L1268.52 1574.03 Q1271.1 1575.43 1273.61 1576.1 Q1276.13 1576.76 1278.74 1576.76 Q1284.5 1576.76 1287.36 1573.74 Q1290.23 1570.75 1290.23 1564.67 L1290.23 1561.77 Q1288.41 1564.92 1285.58 1566.48 Q1282.75 1568.04 1278.8 1568.04 Q1272.24 1568.04 1268.23 1563.05 Q1264.22 1558.05 1264.22 1549.81 Q1264.22 1541.53 1268.23 1536.53 Q1272.24 1531.54 1278.8 1531.54 Q1282.75 1531.54 1285.58 1533.1 Q1288.41 1534.66 1290.23 1537.81 L1290.23 1532.4 L1296.08 1532.4 L1296.08 1563.62 Z\" fill=\"#000000\" fill-rule=\"evenodd\" fill-opacity=\"1\" /><path clip-path=\"url(#clip260)\" d=\"M1308.15 1532.4 L1314 1532.4 L1314 1568.04 L1308.15 1568.04 L1308.15 1532.4 M1308.15 1518.52 L1314 1518.52 L1314 1525.93 L1308.15 1525.93 L1308.15 1518.52 Z\" fill=\"#000000\" fill-rule=\"evenodd\" fill-opacity=\"1\" /><path clip-path=\"url(#clip260)\" d=\"M1332.05 1522.27 L1332.05 1532.4 L1344.11 1532.4 L1344.11 1536.95 L1332.05 1536.95 L1332.05 1556.3 Q1332.05 1560.66 1333.23 1561.9 Q1334.44 1563.14 1338.1 1563.14 L1344.11 1563.14 L1344.11 1568.04 L1338.1 1568.04 Q1331.32 1568.04 1328.74 1565.53 Q1326.16 1562.98 1326.16 1556.3 L1326.16 1536.95 L1321.86 1536.95 L1321.86 1532.4 L1326.16 1532.4 L1326.16 1522.27 L1332.05 1522.27 Z\" fill=\"#000000\" fill-rule=\"evenodd\" fill-opacity=\"1\" /><path clip-path=\"url(#clip260)\" d=\"M1351.21 1553.98 L1351.21 1532.4 L1357.07 1532.4 L1357.07 1553.75 Q1357.07 1558.81 1359.04 1561.36 Q1361.01 1563.87 1364.96 1563.87 Q1369.7 1563.87 1372.44 1560.85 Q1375.21 1557.83 1375.21 1552.61 L1375.21 1532.4 L1381.06 1532.4 L1381.06 1568.04 L1375.21 1568.04 L1375.21 1562.57 Q1373.08 1565.82 1370.24 1567.41 Q1367.44 1568.97 1363.72 1568.97 Q1357.58 1568.97 1354.39 1565.15 Q1351.21 1561.33 1351.21 1553.98 M1365.95 1531.54 L1365.95 1531.54 Z\" fill=\"#000000\" fill-rule=\"evenodd\" fill-opacity=\"1\" /><path clip-path=\"url(#clip260)\" d=\"M1416.59 1537.81 L1416.59 1518.52 L1422.44 1518.52 L1422.44 1568.04 L1416.59 1568.04 L1416.59 1562.7 Q1414.74 1565.88 1411.91 1567.44 Q1409.11 1568.97 1405.16 1568.97 Q1398.7 1568.97 1394.62 1563.81 Q1390.58 1558.65 1390.58 1550.25 Q1390.58 1541.85 1394.62 1536.69 Q1398.7 1531.54 1405.16 1531.54 Q1409.11 1531.54 1411.91 1533.1 Q1414.74 1534.62 1416.59 1537.81 M1396.63 1550.25 Q1396.63 1556.71 1399.27 1560.4 Q1401.94 1564.07 1406.59 1564.07 Q1411.24 1564.07 1413.91 1560.4 Q1416.59 1556.71 1416.59 1550.25 Q1416.59 1543.79 1413.91 1540.13 Q1411.24 1536.44 1406.59 1536.44 Q1401.94 1536.44 1399.27 1540.13 Q1396.63 1543.79 1396.63 1550.25 Z\" fill=\"#000000\" fill-rule=\"evenodd\" fill-opacity=\"1\" /><path clip-path=\"url(#clip260)\" d=\"M1465 1548.76 L1465 1551.62 L1438.07 1551.62 Q1438.45 1557.67 1441.7 1560.85 Q1444.98 1564 1450.8 1564 Q1454.17 1564 1457.33 1563.17 Q1460.51 1562.35 1463.63 1560.69 L1463.63 1566.23 Q1460.48 1567.57 1457.17 1568.27 Q1453.86 1568.97 1450.45 1568.97 Q1441.92 1568.97 1436.92 1564 Q1431.96 1559.04 1431.96 1550.57 Q1431.96 1541.82 1436.67 1536.69 Q1441.41 1531.54 1449.43 1531.54 Q1456.63 1531.54 1460.8 1536.18 Q1465 1540.8 1465 1548.76 M1459.14 1547.04 Q1459.08 1542.23 1456.43 1539.37 Q1453.82 1536.5 1449.5 1536.5 Q1444.59 1536.5 1441.63 1539.27 Q1438.71 1542.04 1438.26 1547.07 L1459.14 1547.04 Z\" fill=\"#000000\" fill-rule=\"evenodd\" fill-opacity=\"1\" /><polyline clip-path=\"url(#clip262)\" style=\"stroke:#000000; stroke-linecap:round; stroke-linejoin:round; stroke-width:2; stroke-opacity:0.1; fill:none\" points=\"\n",
              "  279.704,1323.18 2352.76,1323.18 \n",
              "  \"/>\n",
              "<polyline clip-path=\"url(#clip262)\" style=\"stroke:#000000; stroke-linecap:round; stroke-linejoin:round; stroke-width:2; stroke-opacity:0.1; fill:none\" points=\"\n",
              "  279.704,1070.57 2352.76,1070.57 \n",
              "  \"/>\n",
              "<polyline clip-path=\"url(#clip262)\" style=\"stroke:#000000; stroke-linecap:round; stroke-linejoin:round; stroke-width:2; stroke-opacity:0.1; fill:none\" points=\"\n",
              "  279.704,817.962 2352.76,817.962 \n",
              "  \"/>\n",
              "<polyline clip-path=\"url(#clip262)\" style=\"stroke:#000000; stroke-linecap:round; stroke-linejoin:round; stroke-width:2; stroke-opacity:0.1; fill:none\" points=\"\n",
              "  279.704,565.355 2352.76,565.355 \n",
              "  \"/>\n",
              "<polyline clip-path=\"url(#clip262)\" style=\"stroke:#000000; stroke-linecap:round; stroke-linejoin:round; stroke-width:2; stroke-opacity:0.1; fill:none\" points=\"\n",
              "  279.704,312.748 2352.76,312.748 \n",
              "  \"/>\n",
              "<polyline clip-path=\"url(#clip260)\" style=\"stroke:#000000; stroke-linecap:round; stroke-linejoin:round; stroke-width:4; stroke-opacity:1; fill:none\" points=\"\n",
              "  279.704,1423.18 279.704,123.472 \n",
              "  \"/>\n",
              "<polyline clip-path=\"url(#clip260)\" style=\"stroke:#000000; stroke-linecap:round; stroke-linejoin:round; stroke-width:4; stroke-opacity:1; fill:none\" points=\"\n",
              "  279.704,1323.18 298.602,1323.18 \n",
              "  \"/>\n",
              "<polyline clip-path=\"url(#clip260)\" style=\"stroke:#000000; stroke-linecap:round; stroke-linejoin:round; stroke-width:4; stroke-opacity:1; fill:none\" points=\"\n",
              "  279.704,1070.57 298.602,1070.57 \n",
              "  \"/>\n",
              "<polyline clip-path=\"url(#clip260)\" style=\"stroke:#000000; stroke-linecap:round; stroke-linejoin:round; stroke-width:4; stroke-opacity:1; fill:none\" points=\"\n",
              "  279.704,817.962 298.602,817.962 \n",
              "  \"/>\n",
              "<polyline clip-path=\"url(#clip260)\" style=\"stroke:#000000; stroke-linecap:round; stroke-linejoin:round; stroke-width:4; stroke-opacity:1; fill:none\" points=\"\n",
              "  279.704,565.355 298.602,565.355 \n",
              "  \"/>\n",
              "<polyline clip-path=\"url(#clip260)\" style=\"stroke:#000000; stroke-linecap:round; stroke-linejoin:round; stroke-width:4; stroke-opacity:1; fill:none\" points=\"\n",
              "  279.704,312.748 298.602,312.748 \n",
              "  \"/>\n",
              "<path clip-path=\"url(#clip260)\" d=\"M130.464 1321.82 Q133.82 1322.54 135.695 1324.81 Q137.593 1327.08 137.593 1330.41 Q137.593 1335.53 134.075 1338.33 Q130.556 1341.13 124.075 1341.13 Q121.899 1341.13 119.584 1340.69 Q117.293 1340.27 114.839 1339.41 L114.839 1334.9 Q116.783 1336.04 119.098 1336.61 Q121.413 1337.19 123.936 1337.19 Q128.334 1337.19 130.626 1335.46 Q132.941 1333.72 132.941 1330.41 Q132.941 1327.35 130.788 1325.64 Q128.658 1323.91 124.839 1323.91 L120.811 1323.91 L120.811 1320.06 L125.024 1320.06 Q128.473 1320.06 130.302 1318.7 Q132.13 1317.31 132.13 1314.72 Q132.13 1312.05 130.232 1310.64 Q128.357 1309.21 124.839 1309.21 Q122.918 1309.21 120.718 1309.62 Q118.519 1310.04 115.881 1310.92 L115.881 1306.75 Q118.543 1306.01 120.857 1305.64 Q123.195 1305.27 125.255 1305.27 Q130.58 1305.27 133.681 1307.7 Q136.783 1310.11 136.783 1314.23 Q136.783 1317.1 135.14 1319.09 Q133.496 1321.06 130.464 1321.82 Z\" fill=\"#000000\" fill-rule=\"evenodd\" fill-opacity=\"1\" /><path clip-path=\"url(#clip260)\" d=\"M156.459 1324.04 Q153.126 1324.04 151.204 1325.83 Q149.306 1327.61 149.306 1330.73 Q149.306 1333.86 151.204 1335.64 Q153.126 1337.42 156.459 1337.42 Q159.792 1337.42 161.714 1335.64 Q163.635 1333.84 163.635 1330.73 Q163.635 1327.61 161.714 1325.83 Q159.815 1324.04 156.459 1324.04 M151.783 1322.05 Q148.774 1321.31 147.084 1319.25 Q145.417 1317.19 145.417 1314.23 Q145.417 1310.09 148.357 1307.68 Q151.32 1305.27 156.459 1305.27 Q161.621 1305.27 164.561 1307.68 Q167.501 1310.09 167.501 1314.23 Q167.501 1317.19 165.811 1319.25 Q164.144 1321.31 161.158 1322.05 Q164.538 1322.84 166.413 1325.13 Q168.311 1327.42 168.311 1330.73 Q168.311 1335.76 165.232 1338.44 Q162.177 1341.13 156.459 1341.13 Q150.741 1341.13 147.663 1338.44 Q144.607 1335.76 144.607 1330.73 Q144.607 1327.42 146.505 1325.13 Q148.403 1322.84 151.783 1322.05 M150.07 1314.67 Q150.07 1317.35 151.737 1318.86 Q153.427 1320.36 156.459 1320.36 Q159.468 1320.36 161.158 1318.86 Q162.871 1317.35 162.871 1314.67 Q162.871 1311.98 161.158 1310.48 Q159.468 1308.98 156.459 1308.98 Q153.427 1308.98 151.737 1310.48 Q150.07 1311.98 150.07 1314.67 Z\" fill=\"#000000\" fill-rule=\"evenodd\" fill-opacity=\"1\" /><path clip-path=\"url(#clip260)\" d=\"M176.621 1334.58 L181.505 1334.58 L181.505 1340.46 L176.621 1340.46 L176.621 1334.58 Z\" fill=\"#000000\" fill-rule=\"evenodd\" fill-opacity=\"1\" /><path clip-path=\"url(#clip260)\" d=\"M201.69 1324.04 Q198.357 1324.04 196.436 1325.83 Q194.538 1327.61 194.538 1330.73 Q194.538 1333.86 196.436 1335.64 Q198.357 1337.42 201.69 1337.42 Q205.024 1337.42 206.945 1335.64 Q208.866 1333.84 208.866 1330.73 Q208.866 1327.61 206.945 1325.83 Q205.047 1324.04 201.69 1324.04 M197.014 1322.05 Q194.005 1321.31 192.315 1319.25 Q190.649 1317.19 190.649 1314.23 Q190.649 1310.09 193.588 1307.68 Q196.551 1305.27 201.69 1305.27 Q206.852 1305.27 209.792 1307.68 Q212.732 1310.09 212.732 1314.23 Q212.732 1317.19 211.042 1319.25 Q209.375 1321.31 206.389 1322.05 Q209.769 1322.84 211.644 1325.13 Q213.542 1327.42 213.542 1330.73 Q213.542 1335.76 210.463 1338.44 Q207.408 1341.13 201.69 1341.13 Q195.973 1341.13 192.894 1338.44 Q189.838 1335.76 189.838 1330.73 Q189.838 1327.42 191.737 1325.13 Q193.635 1322.84 197.014 1322.05 M195.301 1314.67 Q195.301 1317.35 196.968 1318.86 Q198.658 1320.36 201.69 1320.36 Q204.699 1320.36 206.389 1318.86 Q208.102 1317.35 208.102 1314.67 Q208.102 1311.98 206.389 1310.48 Q204.699 1308.98 201.69 1308.98 Q198.658 1308.98 196.968 1310.48 Q195.301 1311.98 195.301 1314.67 Z\" fill=\"#000000\" fill-rule=\"evenodd\" fill-opacity=\"1\" /><path clip-path=\"url(#clip260)\" d=\"M231.852 1324.04 Q228.519 1324.04 226.598 1325.83 Q224.699 1327.61 224.699 1330.73 Q224.699 1333.86 226.598 1335.64 Q228.519 1337.42 231.852 1337.42 Q235.185 1337.42 237.107 1335.64 Q239.028 1333.84 239.028 1330.73 Q239.028 1327.61 237.107 1325.83 Q235.209 1324.04 231.852 1324.04 M227.176 1322.05 Q224.167 1321.31 222.477 1319.25 Q220.811 1317.19 220.811 1314.23 Q220.811 1310.09 223.75 1307.68 Q226.713 1305.27 231.852 1305.27 Q237.014 1305.27 239.954 1307.68 Q242.894 1310.09 242.894 1314.23 Q242.894 1317.19 241.204 1319.25 Q239.537 1321.31 236.551 1322.05 Q239.931 1322.84 241.806 1325.13 Q243.704 1327.42 243.704 1330.73 Q243.704 1335.76 240.625 1338.44 Q237.57 1341.13 231.852 1341.13 Q226.135 1341.13 223.056 1338.44 Q220 1335.76 220 1330.73 Q220 1327.42 221.898 1325.13 Q223.797 1322.84 227.176 1322.05 M225.463 1314.67 Q225.463 1317.35 227.13 1318.86 Q228.82 1320.36 231.852 1320.36 Q234.861 1320.36 236.551 1318.86 Q238.264 1317.35 238.264 1314.67 Q238.264 1311.98 236.551 1310.48 Q234.861 1308.98 231.852 1308.98 Q228.82 1308.98 227.13 1310.48 Q225.463 1311.98 225.463 1314.67 Z\" fill=\"#000000\" fill-rule=\"evenodd\" fill-opacity=\"1\" /><path clip-path=\"url(#clip260)\" d=\"M130.371 1069.22 Q133.728 1069.93 135.603 1072.2 Q137.501 1074.47 137.501 1077.8 Q137.501 1082.92 133.982 1085.72 Q130.464 1088.52 123.982 1088.52 Q121.806 1088.52 119.492 1088.08 Q117.2 1087.66 114.746 1086.81 L114.746 1082.29 Q116.691 1083.43 119.006 1084.01 Q121.32 1084.59 123.843 1084.59 Q128.242 1084.59 130.533 1082.85 Q132.848 1081.11 132.848 1077.8 Q132.848 1074.75 130.695 1073.03 Q128.566 1071.3 124.746 1071.3 L120.718 1071.3 L120.718 1067.46 L124.931 1067.46 Q128.38 1067.46 130.209 1066.09 Q132.038 1064.7 132.038 1062.11 Q132.038 1059.45 130.14 1058.03 Q128.265 1056.6 124.746 1056.6 Q122.825 1056.6 120.626 1057.02 Q118.427 1057.43 115.788 1058.31 L115.788 1054.15 Q118.45 1053.41 120.765 1053.03 Q123.103 1052.66 125.163 1052.66 Q130.487 1052.66 133.589 1055.1 Q136.691 1057.5 136.691 1061.62 Q136.691 1064.49 135.047 1066.48 Q133.404 1068.45 130.371 1069.22 Z\" fill=\"#000000\" fill-rule=\"evenodd\" fill-opacity=\"1\" /><path clip-path=\"url(#clip260)\" d=\"M156.366 1071.44 Q153.033 1071.44 151.112 1073.22 Q149.214 1075 149.214 1078.13 Q149.214 1081.25 151.112 1083.03 Q153.033 1084.82 156.366 1084.82 Q159.7 1084.82 161.621 1083.03 Q163.542 1081.23 163.542 1078.13 Q163.542 1075 161.621 1073.22 Q159.723 1071.44 156.366 1071.44 M151.691 1069.45 Q148.681 1068.71 146.991 1066.65 Q145.325 1064.59 145.325 1061.62 Q145.325 1057.48 148.265 1055.07 Q151.228 1052.66 156.366 1052.66 Q161.528 1052.66 164.468 1055.07 Q167.408 1057.48 167.408 1061.62 Q167.408 1064.59 165.718 1066.65 Q164.052 1068.71 161.065 1069.45 Q164.445 1070.23 166.32 1072.53 Q168.218 1074.82 168.218 1078.13 Q168.218 1083.15 165.14 1085.84 Q162.084 1088.52 156.366 1088.52 Q150.649 1088.52 147.57 1085.84 Q144.515 1083.15 144.515 1078.13 Q144.515 1074.82 146.413 1072.53 Q148.311 1070.23 151.691 1069.45 M149.978 1062.06 Q149.978 1064.75 151.644 1066.25 Q153.334 1067.76 156.366 1067.76 Q159.376 1067.76 161.065 1066.25 Q162.778 1064.75 162.778 1062.06 Q162.778 1059.38 161.065 1057.87 Q159.376 1056.37 156.366 1056.37 Q153.334 1056.37 151.644 1057.87 Q149.978 1059.38 149.978 1062.06 Z\" fill=\"#000000\" fill-rule=\"evenodd\" fill-opacity=\"1\" /><path clip-path=\"url(#clip260)\" d=\"M176.528 1081.97 L181.413 1081.97 L181.413 1087.85 L176.528 1087.85 L176.528 1081.97 Z\" fill=\"#000000\" fill-rule=\"evenodd\" fill-opacity=\"1\" /><path clip-path=\"url(#clip260)\" d=\"M191.737 1087.13 L191.737 1082.87 Q193.496 1083.71 195.301 1084.15 Q197.107 1084.59 198.843 1084.59 Q203.473 1084.59 205.903 1081.48 Q208.357 1078.36 208.704 1072.02 Q207.362 1074.01 205.301 1075.07 Q203.241 1076.14 200.741 1076.14 Q195.556 1076.14 192.524 1073.01 Q189.514 1069.86 189.514 1064.42 Q189.514 1059.1 192.663 1055.88 Q195.811 1052.66 201.042 1052.66 Q207.037 1052.66 210.186 1057.27 Q213.357 1061.85 213.357 1070.6 Q213.357 1078.78 209.468 1083.66 Q205.602 1088.52 199.051 1088.52 Q197.292 1088.52 195.487 1088.17 Q193.681 1087.83 191.737 1087.13 M201.042 1072.48 Q204.19 1072.48 206.019 1070.33 Q207.871 1068.17 207.871 1064.42 Q207.871 1060.7 206.019 1058.54 Q204.19 1056.37 201.042 1056.37 Q197.894 1056.37 196.042 1058.54 Q194.213 1060.7 194.213 1064.42 Q194.213 1068.17 196.042 1070.33 Q197.894 1072.48 201.042 1072.48 Z\" fill=\"#000000\" fill-rule=\"evenodd\" fill-opacity=\"1\" /><path clip-path=\"url(#clip260)\" d=\"M231.76 1056.37 Q228.148 1056.37 226.32 1059.93 Q224.514 1063.47 224.514 1070.6 Q224.514 1077.71 226.32 1081.28 Q228.148 1084.82 231.76 1084.82 Q235.394 1084.82 237.199 1081.28 Q239.028 1077.71 239.028 1070.6 Q239.028 1063.47 237.199 1059.93 Q235.394 1056.37 231.76 1056.37 M231.76 1052.66 Q237.57 1052.66 240.625 1057.27 Q243.704 1061.85 243.704 1070.6 Q243.704 1079.33 240.625 1083.94 Q237.57 1088.52 231.76 1088.52 Q225.949 1088.52 222.871 1083.94 Q219.815 1079.33 219.815 1070.6 Q219.815 1061.85 222.871 1057.27 Q225.949 1052.66 231.76 1052.66 Z\" fill=\"#000000\" fill-rule=\"evenodd\" fill-opacity=\"1\" /><path clip-path=\"url(#clip260)\" d=\"M131.968 816.608 Q135.325 817.326 137.2 819.594 Q139.098 821.863 139.098 825.196 Q139.098 830.312 135.579 833.113 Q132.061 835.914 125.58 835.914 Q123.404 835.914 121.089 835.474 Q118.797 835.057 116.343 834.201 L116.343 829.687 Q118.288 830.821 120.603 831.4 Q122.918 831.979 125.441 831.979 Q129.839 831.979 132.13 830.242 Q134.445 828.506 134.445 825.196 Q134.445 822.141 132.292 820.428 Q130.163 818.692 126.343 818.692 L122.316 818.692 L122.316 814.849 L126.529 814.849 Q129.978 814.849 131.806 813.483 Q133.635 812.094 133.635 809.502 Q133.635 806.84 131.737 805.428 Q129.862 803.993 126.343 803.993 Q124.422 803.993 122.223 804.409 Q120.024 804.826 117.385 805.706 L117.385 801.539 Q120.047 800.798 122.362 800.428 Q124.7 800.057 126.76 800.057 Q132.084 800.057 135.186 802.488 Q138.288 804.895 138.288 809.016 Q138.288 811.886 136.644 813.877 Q135.001 815.844 131.968 816.608 Z\" fill=\"#000000\" fill-rule=\"evenodd\" fill-opacity=\"1\" /><path clip-path=\"url(#clip260)\" d=\"M157.964 818.83 Q154.63 818.83 152.709 820.613 Q150.811 822.395 150.811 825.52 Q150.811 828.645 152.709 830.428 Q154.63 832.21 157.964 832.21 Q161.297 832.21 163.218 830.428 Q165.14 828.622 165.14 825.52 Q165.14 822.395 163.218 820.613 Q161.32 818.83 157.964 818.83 M153.288 816.84 Q150.278 816.099 148.589 814.039 Q146.922 811.979 146.922 809.016 Q146.922 804.872 149.862 802.465 Q152.825 800.057 157.964 800.057 Q163.126 800.057 166.065 802.465 Q169.005 804.872 169.005 809.016 Q169.005 811.979 167.315 814.039 Q165.649 816.099 162.663 816.84 Q166.042 817.627 167.917 819.918 Q169.815 822.21 169.815 825.52 Q169.815 830.543 166.737 833.229 Q163.681 835.914 157.964 835.914 Q152.246 835.914 149.167 833.229 Q146.112 830.543 146.112 825.52 Q146.112 822.21 148.01 819.918 Q149.908 817.627 153.288 816.84 M151.575 809.455 Q151.575 812.141 153.241 813.645 Q154.931 815.15 157.964 815.15 Q160.973 815.15 162.663 813.645 Q164.376 812.141 164.376 809.455 Q164.376 806.77 162.663 805.266 Q160.973 803.761 157.964 803.761 Q154.931 803.761 153.241 805.266 Q151.575 806.77 151.575 809.455 Z\" fill=\"#000000\" fill-rule=\"evenodd\" fill-opacity=\"1\" /><path clip-path=\"url(#clip260)\" d=\"M178.126 829.363 L183.01 829.363 L183.01 835.242 L178.126 835.242 L178.126 829.363 Z\" fill=\"#000000\" fill-rule=\"evenodd\" fill-opacity=\"1\" /><path clip-path=\"url(#clip260)\" d=\"M193.334 834.525 L193.334 830.266 Q195.093 831.099 196.899 831.539 Q198.704 831.979 200.44 831.979 Q205.07 831.979 207.5 828.877 Q209.954 825.752 210.301 819.409 Q208.959 821.4 206.899 822.465 Q204.838 823.529 202.338 823.529 Q197.153 823.529 194.121 820.405 Q191.112 817.256 191.112 811.817 Q191.112 806.493 194.26 803.275 Q197.408 800.057 202.639 800.057 Q208.635 800.057 211.783 804.664 Q214.954 809.247 214.954 817.997 Q214.954 826.168 211.065 831.053 Q207.199 835.914 200.649 835.914 Q198.889 835.914 197.084 835.566 Q195.278 835.219 193.334 834.525 M202.639 819.872 Q205.787 819.872 207.616 817.719 Q209.468 815.567 209.468 811.817 Q209.468 808.09 207.616 805.937 Q205.787 803.761 202.639 803.761 Q199.491 803.761 197.639 805.937 Q195.811 808.09 195.811 811.817 Q195.811 815.567 197.639 817.719 Q199.491 819.872 202.639 819.872 Z\" fill=\"#000000\" fill-rule=\"evenodd\" fill-opacity=\"1\" /><path clip-path=\"url(#clip260)\" d=\"M227.385 831.307 L243.704 831.307 L243.704 835.242 L221.76 835.242 L221.76 831.307 Q224.422 828.553 229.005 823.923 Q233.611 819.27 234.792 817.928 Q237.037 815.405 237.917 813.668 Q238.82 811.909 238.82 810.219 Q238.82 807.465 236.875 805.729 Q234.954 803.993 231.852 803.993 Q229.653 803.993 227.199 804.756 Q224.769 805.52 221.991 807.071 L221.991 802.349 Q224.815 801.215 227.269 800.636 Q229.723 800.057 231.76 800.057 Q237.13 800.057 240.324 802.743 Q243.519 805.428 243.519 809.918 Q243.519 812.048 242.709 813.969 Q241.922 815.868 239.815 818.46 Q239.236 819.131 236.135 822.349 Q233.033 825.543 227.385 831.307 Z\" fill=\"#000000\" fill-rule=\"evenodd\" fill-opacity=\"1\" /><path clip-path=\"url(#clip260)\" d=\"M129.885 564.001 Q133.242 564.719 135.117 566.987 Q137.015 569.256 137.015 572.589 Q137.015 577.705 133.496 580.506 Q129.978 583.307 123.496 583.307 Q121.32 583.307 119.006 582.867 Q116.714 582.45 114.26 581.594 L114.26 577.08 Q116.205 578.214 118.519 578.793 Q120.834 579.371 123.357 579.371 Q127.755 579.371 130.047 577.635 Q132.362 575.899 132.362 572.589 Q132.362 569.534 130.209 567.821 Q128.08 566.084 124.26 566.084 L120.232 566.084 L120.232 562.242 L124.445 562.242 Q127.894 562.242 129.723 560.876 Q131.552 559.487 131.552 556.895 Q131.552 554.233 129.654 552.821 Q127.779 551.385 124.26 551.385 Q122.339 551.385 120.14 551.802 Q117.941 552.219 115.302 553.098 L115.302 548.932 Q117.964 548.191 120.279 547.821 Q122.617 547.45 124.677 547.45 Q130.001 547.45 133.103 549.881 Q136.204 552.288 136.204 556.409 Q136.204 559.279 134.561 561.27 Q132.917 563.237 129.885 564.001 Z\" fill=\"#000000\" fill-rule=\"evenodd\" fill-opacity=\"1\" /><path clip-path=\"url(#clip260)\" d=\"M155.88 566.223 Q152.547 566.223 150.626 568.006 Q148.728 569.788 148.728 572.913 Q148.728 576.038 150.626 577.821 Q152.547 579.603 155.88 579.603 Q159.214 579.603 161.135 577.821 Q163.056 576.015 163.056 572.913 Q163.056 569.788 161.135 568.006 Q159.237 566.223 155.88 566.223 M151.204 564.233 Q148.195 563.492 146.505 561.432 Q144.839 559.372 144.839 556.409 Q144.839 552.265 147.778 549.858 Q150.741 547.45 155.88 547.45 Q161.042 547.45 163.982 549.858 Q166.922 552.265 166.922 556.409 Q166.922 559.372 165.232 561.432 Q163.565 563.492 160.579 564.233 Q163.959 565.02 165.834 567.311 Q167.732 569.603 167.732 572.913 Q167.732 577.936 164.653 580.621 Q161.598 583.307 155.88 583.307 Q150.163 583.307 147.084 580.621 Q144.029 577.936 144.029 572.913 Q144.029 569.603 145.927 567.311 Q147.825 565.02 151.204 564.233 M149.491 556.848 Q149.491 559.534 151.158 561.038 Q152.848 562.543 155.88 562.543 Q158.89 562.543 160.579 561.038 Q162.292 559.534 162.292 556.848 Q162.292 554.163 160.579 552.659 Q158.89 551.154 155.88 551.154 Q152.848 551.154 151.158 552.659 Q149.491 554.163 149.491 556.848 Z\" fill=\"#000000\" fill-rule=\"evenodd\" fill-opacity=\"1\" /><path clip-path=\"url(#clip260)\" d=\"M176.042 576.756 L180.926 576.756 L180.926 582.635 L176.042 582.635 L176.042 576.756 Z\" fill=\"#000000\" fill-rule=\"evenodd\" fill-opacity=\"1\" /><path clip-path=\"url(#clip260)\" d=\"M191.25 581.918 L191.25 577.658 Q193.01 578.492 194.815 578.932 Q196.621 579.371 198.357 579.371 Q202.987 579.371 205.417 576.27 Q207.871 573.145 208.218 566.802 Q206.875 568.793 204.815 569.858 Q202.755 570.922 200.255 570.922 Q195.07 570.922 192.038 567.797 Q189.028 564.649 189.028 559.21 Q189.028 553.885 192.176 550.668 Q195.325 547.45 200.556 547.45 Q206.551 547.45 209.699 552.057 Q212.871 556.64 212.871 565.39 Q212.871 573.561 208.982 578.446 Q205.116 583.307 198.565 583.307 Q196.806 583.307 195 582.959 Q193.195 582.612 191.25 581.918 M200.556 567.265 Q203.704 567.265 205.533 565.112 Q207.385 562.959 207.385 559.21 Q207.385 555.483 205.533 553.33 Q203.704 551.154 200.556 551.154 Q197.408 551.154 195.556 553.33 Q193.727 555.483 193.727 559.21 Q193.727 562.959 195.556 565.112 Q197.408 567.265 200.556 567.265 Z\" fill=\"#000000\" fill-rule=\"evenodd\" fill-opacity=\"1\" /><path clip-path=\"url(#clip260)\" d=\"M234.121 552.149 L222.315 570.598 L234.121 570.598 L234.121 552.149 M232.894 548.075 L238.773 548.075 L238.773 570.598 L243.704 570.598 L243.704 574.487 L238.773 574.487 L238.773 582.635 L234.121 582.635 L234.121 574.487 L218.519 574.487 L218.519 569.973 L232.894 548.075 Z\" fill=\"#000000\" fill-rule=\"evenodd\" fill-opacity=\"1\" /><path clip-path=\"url(#clip260)\" d=\"M130.209 311.394 Q133.566 312.112 135.441 314.38 Q137.339 316.649 137.339 319.982 Q137.339 325.098 133.82 327.899 Q130.302 330.699 123.82 330.699 Q121.644 330.699 119.33 330.26 Q117.038 329.843 114.584 328.987 L114.584 324.473 Q116.529 325.607 118.843 326.186 Q121.158 326.764 123.681 326.764 Q128.08 326.764 130.371 325.028 Q132.686 323.292 132.686 319.982 Q132.686 316.926 130.533 315.213 Q128.404 313.477 124.584 313.477 L120.556 313.477 L120.556 309.635 L124.769 309.635 Q128.218 309.635 130.047 308.269 Q131.876 306.88 131.876 304.288 Q131.876 301.626 129.978 300.214 Q128.103 298.778 124.584 298.778 Q122.663 298.778 120.464 299.195 Q118.265 299.612 115.626 300.491 L115.626 296.325 Q118.288 295.584 120.603 295.214 Q122.941 294.843 125.001 294.843 Q130.325 294.843 133.427 297.274 Q136.529 299.681 136.529 303.801 Q136.529 306.672 134.885 308.663 Q133.242 310.63 130.209 311.394 Z\" fill=\"#000000\" fill-rule=\"evenodd\" fill-opacity=\"1\" /><path clip-path=\"url(#clip260)\" d=\"M156.204 313.616 Q152.871 313.616 150.95 315.399 Q149.052 317.181 149.052 320.306 Q149.052 323.431 150.95 325.213 Q152.871 326.996 156.204 326.996 Q159.538 326.996 161.459 325.213 Q163.38 323.408 163.38 320.306 Q163.38 317.181 161.459 315.399 Q159.561 313.616 156.204 313.616 M151.528 311.626 Q148.519 310.885 146.829 308.825 Q145.163 306.764 145.163 303.801 Q145.163 299.658 148.103 297.251 Q151.066 294.843 156.204 294.843 Q161.366 294.843 164.306 297.251 Q167.246 299.658 167.246 303.801 Q167.246 306.764 165.556 308.825 Q163.89 310.885 160.903 311.626 Q164.283 312.413 166.158 314.704 Q168.056 316.996 168.056 320.306 Q168.056 325.329 164.977 328.014 Q161.922 330.699 156.204 330.699 Q150.487 330.699 147.408 328.014 Q144.353 325.329 144.353 320.306 Q144.353 316.996 146.251 314.704 Q148.149 312.413 151.528 311.626 M149.816 304.241 Q149.816 306.926 151.482 308.431 Q153.172 309.936 156.204 309.936 Q159.214 309.936 160.903 308.431 Q162.616 306.926 162.616 304.241 Q162.616 301.556 160.903 300.052 Q159.214 298.547 156.204 298.547 Q153.172 298.547 151.482 300.052 Q149.816 301.556 149.816 304.241 Z\" fill=\"#000000\" fill-rule=\"evenodd\" fill-opacity=\"1\" /><path clip-path=\"url(#clip260)\" d=\"M176.366 324.149 L181.251 324.149 L181.251 330.028 L176.366 330.028 L176.366 324.149 Z\" fill=\"#000000\" fill-rule=\"evenodd\" fill-opacity=\"1\" /><path clip-path=\"url(#clip260)\" d=\"M191.575 329.311 L191.575 325.051 Q193.334 325.885 195.139 326.325 Q196.945 326.764 198.681 326.764 Q203.311 326.764 205.741 323.662 Q208.195 320.538 208.542 314.195 Q207.199 316.186 205.139 317.25 Q203.079 318.315 200.579 318.315 Q195.394 318.315 192.362 315.19 Q189.352 312.042 189.352 306.602 Q189.352 301.278 192.5 298.061 Q195.649 294.843 200.88 294.843 Q206.875 294.843 210.024 299.45 Q213.195 304.033 213.195 312.783 Q213.195 320.954 209.306 325.838 Q205.44 330.699 198.889 330.699 Q197.13 330.699 195.325 330.352 Q193.519 330.005 191.575 329.311 M200.88 314.658 Q204.028 314.658 205.857 312.505 Q207.709 310.352 207.709 306.602 Q207.709 302.876 205.857 300.723 Q204.028 298.547 200.88 298.547 Q197.732 298.547 195.88 300.723 Q194.051 302.876 194.051 306.602 Q194.051 310.352 195.88 312.505 Q197.732 314.658 200.88 314.658 Z\" fill=\"#000000\" fill-rule=\"evenodd\" fill-opacity=\"1\" /><path clip-path=\"url(#clip260)\" d=\"M232.176 310.885 Q229.028 310.885 227.176 313.038 Q225.348 315.19 225.348 318.94 Q225.348 322.667 227.176 324.843 Q229.028 326.996 232.176 326.996 Q235.324 326.996 237.153 324.843 Q239.005 322.667 239.005 318.94 Q239.005 315.19 237.153 313.038 Q235.324 310.885 232.176 310.885 M241.459 296.232 L241.459 300.491 Q239.699 299.658 237.894 299.218 Q236.111 298.778 234.352 298.778 Q229.723 298.778 227.269 301.903 Q224.838 305.028 224.491 311.348 Q225.857 309.334 227.917 308.269 Q229.977 307.181 232.454 307.181 Q237.662 307.181 240.672 310.352 Q243.704 313.501 243.704 318.94 Q243.704 324.264 240.556 327.482 Q237.408 330.699 232.176 330.699 Q226.181 330.699 223.01 326.116 Q219.838 321.51 219.838 312.783 Q219.838 304.589 223.727 299.727 Q227.616 294.843 234.167 294.843 Q235.926 294.843 237.709 295.19 Q239.514 295.538 241.459 296.232 Z\" fill=\"#000000\" fill-rule=\"evenodd\" fill-opacity=\"1\" /><path clip-path=\"url(#clip260)\" d=\"M14.479 893.558 L14.479 887.702 L64.0042 887.702 L64.0042 893.558 L14.479 893.558 Z\" fill=\"#000000\" fill-rule=\"evenodd\" fill-opacity=\"1\" /><path clip-path=\"url(#clip260)\" d=\"M46.0847 859.247 Q46.0847 866.345 47.7079 869.082 Q49.3312 871.819 53.2461 871.819 Q56.3653 871.819 58.2114 869.782 Q60.0256 867.713 60.0256 864.181 Q60.0256 859.311 56.5881 856.383 Q53.1188 853.422 47.3897 853.422 L46.0847 853.422 L46.0847 859.247 M43.6657 847.566 L64.0042 847.566 L64.0042 853.422 L58.5933 853.422 Q61.8398 855.428 63.3994 858.42 Q64.9272 861.411 64.9272 865.74 Q64.9272 871.215 61.8716 874.461 Q58.7843 877.676 53.6281 877.676 Q47.6125 877.676 44.5569 873.665 Q41.5014 869.623 41.5014 861.634 L41.5014 853.422 L40.9285 853.422 Q36.8862 853.422 34.6901 856.096 Q32.4621 858.738 32.4621 863.544 Q32.4621 866.6 33.1941 869.496 Q33.9262 872.392 35.3903 875.066 L29.9795 875.066 Q28.7381 871.851 28.1334 868.827 Q27.4968 865.804 27.4968 862.939 Q27.4968 855.205 31.5072 851.385 Q35.5176 847.566 43.6657 847.566 Z\" fill=\"#000000\" fill-rule=\"evenodd\" fill-opacity=\"1\" /><path clip-path=\"url(#clip260)\" d=\"M18.2347 829.71 L28.3562 829.71 L28.3562 817.647 L32.9077 817.647 L32.9077 829.71 L52.2594 829.71 Q56.6199 829.71 57.8613 828.533 Q59.1026 827.323 59.1026 823.663 L59.1026 817.647 L64.0042 817.647 L64.0042 823.663 Q64.0042 830.442 61.4897 833.02 Q58.9434 835.599 52.2594 835.599 L32.9077 835.599 L32.9077 839.895 L28.3562 839.895 L28.3562 835.599 L18.2347 835.599 L18.2347 829.71 Z\" fill=\"#000000\" fill-rule=\"evenodd\" fill-opacity=\"1\" /><path clip-path=\"url(#clip260)\" d=\"M28.3562 809.945 L28.3562 804.088 L64.0042 804.088 L64.0042 809.945 L28.3562 809.945 M14.479 809.945 L14.479 804.088 L21.895 804.088 L21.895 809.945 L14.479 809.945 Z\" fill=\"#000000\" fill-rule=\"evenodd\" fill-opacity=\"1\" /><path clip-path=\"url(#clip260)\" d=\"M18.2347 786.041 L28.3562 786.041 L28.3562 773.978 L32.9077 773.978 L32.9077 786.041 L52.2594 786.041 Q56.6199 786.041 57.8613 784.864 Q59.1026 783.654 59.1026 779.994 L59.1026 773.978 L64.0042 773.978 L64.0042 779.994 Q64.0042 786.774 61.4897 789.352 Q58.9434 791.93 52.2594 791.93 L32.9077 791.93 L32.9077 796.227 L28.3562 796.227 L28.3562 791.93 L18.2347 791.93 L18.2347 786.041 Z\" fill=\"#000000\" fill-rule=\"evenodd\" fill-opacity=\"1\" /><path clip-path=\"url(#clip260)\" d=\"M49.9359 766.881 L28.3562 766.881 L28.3562 761.024 L49.7131 761.024 Q54.7739 761.024 57.3202 759.051 Q59.8346 757.078 59.8346 753.131 Q59.8346 748.388 56.8109 745.651 Q53.7872 742.882 48.5673 742.882 L28.3562 742.882 L28.3562 737.026 L64.0042 737.026 L64.0042 742.882 L58.5296 742.882 Q61.7762 745.015 63.3676 747.847 Q64.9272 750.648 64.9272 754.372 Q64.9272 760.515 61.1078 763.698 Q57.2883 766.881 49.9359 766.881 M27.4968 752.144 L27.4968 752.144 Z\" fill=\"#000000\" fill-rule=\"evenodd\" fill-opacity=\"1\" /><path clip-path=\"url(#clip260)\" d=\"M33.7671 701.505 L14.479 701.505 L14.479 695.648 L64.0042 695.648 L64.0042 701.505 L58.657 701.505 Q61.8398 703.351 63.3994 706.184 Q64.9272 708.985 64.9272 712.931 Q64.9272 719.393 59.771 723.467 Q54.6147 727.509 46.212 727.509 Q37.8093 727.509 32.6531 723.467 Q27.4968 719.393 27.4968 712.931 Q27.4968 708.985 29.0564 706.184 Q30.5842 703.351 33.7671 701.505 M46.212 721.461 Q52.6732 721.461 56.3653 718.82 Q60.0256 716.146 60.0256 711.499 Q60.0256 706.852 56.3653 704.178 Q52.6732 701.505 46.212 701.505 Q39.7508 701.505 36.0905 704.178 Q32.3984 706.852 32.3984 711.499 Q32.3984 716.146 36.0905 718.82 Q39.7508 721.461 46.212 721.461 Z\" fill=\"#000000\" fill-rule=\"evenodd\" fill-opacity=\"1\" /><path clip-path=\"url(#clip260)\" d=\"M44.7161 653.094 L47.5806 653.094 L47.5806 680.021 Q53.6281 679.639 56.8109 676.392 Q59.9619 673.114 59.9619 667.289 Q59.9619 663.915 59.1344 660.764 Q58.3069 657.582 56.6518 654.462 L62.1899 654.462 Q63.5267 657.613 64.227 660.924 Q64.9272 664.234 64.9272 667.639 Q64.9272 676.169 59.9619 681.166 Q54.9967 686.132 46.5303 686.132 Q37.7774 686.132 32.6531 681.421 Q27.4968 676.679 27.4968 668.658 Q27.4968 661.465 32.1438 657.295 Q36.7589 653.094 44.7161 653.094 M42.9973 658.95 Q38.1912 659.014 35.3266 661.656 Q32.4621 664.266 32.4621 668.594 Q32.4621 673.496 35.2312 676.456 Q38.0002 679.384 43.0292 679.83 L42.9973 658.95 Z\" fill=\"#000000\" fill-rule=\"evenodd\" fill-opacity=\"1\" /><path clip-path=\"url(#clip260)\" d=\"M1013.06 12.096 L1021.24 12.096 L1021.24 36.8875 L1050.98 36.8875 L1050.98 12.096 L1059.16 12.096 L1059.16 72.576 L1050.98 72.576 L1050.98 43.7741 L1021.24 43.7741 L1021.24 72.576 L1013.06 72.576 L1013.06 12.096 Z\" fill=\"#000000\" fill-rule=\"evenodd\" fill-opacity=\"1\" /><path clip-path=\"url(#clip260)\" d=\"M1092.7 32.4315 Q1086.71 32.4315 1083.22 37.1306 Q1079.74 41.7891 1079.74 49.9314 Q1079.74 58.0738 1083.18 62.7728 Q1086.67 67.4314 1092.7 67.4314 Q1098.66 67.4314 1102.14 62.7323 Q1105.62 58.0333 1105.62 49.9314 Q1105.62 41.8701 1102.14 37.1711 Q1098.66 32.4315 1092.7 32.4315 M1092.7 26.1121 Q1102.42 26.1121 1107.97 32.4315 Q1113.52 38.7509 1113.52 49.9314 Q1113.52 61.0714 1107.97 67.4314 Q1102.42 73.7508 1092.7 73.7508 Q1082.94 73.7508 1077.39 67.4314 Q1071.88 61.0714 1071.88 49.9314 Q1071.88 38.7509 1077.39 32.4315 Q1082.94 26.1121 1092.7 26.1121 Z\" fill=\"#000000\" fill-rule=\"evenodd\" fill-opacity=\"1\" /><path clip-path=\"url(#clip260)\" d=\"M1133.25 14.324 L1133.25 27.2059 L1148.6 27.2059 L1148.6 32.9987 L1133.25 32.9987 L1133.25 57.6282 Q1133.25 63.1779 1134.75 64.7578 Q1136.29 66.3376 1140.95 66.3376 L1148.6 66.3376 L1148.6 72.576 L1140.95 72.576 Q1132.32 72.576 1129.04 69.3758 Q1125.76 66.1351 1125.76 57.6282 L1125.76 32.9987 L1120.29 32.9987 L1120.29 27.2059 L1125.76 27.2059 L1125.76 14.324 L1133.25 14.324 Z\" fill=\"#000000\" fill-rule=\"evenodd\" fill-opacity=\"1\" /><path clip-path=\"url(#clip260)\" d=\"M1197.21 48.0275 L1197.21 51.6733 L1162.94 51.6733 Q1163.43 59.3701 1167.56 63.421 Q1171.73 67.4314 1179.15 67.4314 Q1183.44 67.4314 1187.45 66.3781 Q1191.5 65.3249 1195.47 63.2184 L1195.47 70.267 Q1191.46 71.9684 1187.25 72.8596 Q1183.04 73.7508 1178.7 73.7508 Q1167.85 73.7508 1161.49 67.4314 Q1155.17 61.1119 1155.17 50.3365 Q1155.17 39.1965 1161.16 32.6746 Q1167.2 26.1121 1177.41 26.1121 Q1186.56 26.1121 1191.87 32.0264 Q1197.21 37.9003 1197.21 48.0275 M1189.76 45.84 Q1189.68 39.7232 1186.32 36.0774 Q1183 32.4315 1177.49 32.4315 Q1171.25 32.4315 1167.48 35.9558 Q1163.75 39.4801 1163.19 45.8805 L1189.76 45.84 Z\" fill=\"#000000\" fill-rule=\"evenodd\" fill-opacity=\"1\" /><path clip-path=\"url(#clip260)\" d=\"M1209.45 9.54393 L1216.9 9.54393 L1216.9 72.576 L1209.45 72.576 L1209.45 9.54393 Z\" fill=\"#000000\" fill-rule=\"evenodd\" fill-opacity=\"1\" /><path clip-path=\"url(#clip260)\" d=\"M1258.87 9.54393 L1266.32 9.54393 L1266.32 72.576 L1258.87 72.576 L1258.87 9.54393 Z\" fill=\"#000000\" fill-rule=\"evenodd\" fill-opacity=\"1\" /><path clip-path=\"url(#clip260)\" d=\"M1299.5 32.4315 Q1293.5 32.4315 1290.02 37.1306 Q1286.54 41.7891 1286.54 49.9314 Q1286.54 58.0738 1289.98 62.7728 Q1293.46 67.4314 1299.5 67.4314 Q1305.45 67.4314 1308.94 62.7323 Q1312.42 58.0333 1312.42 49.9314 Q1312.42 41.8701 1308.94 37.1711 Q1305.45 32.4315 1299.5 32.4315 M1299.5 26.1121 Q1309.22 26.1121 1314.77 32.4315 Q1320.32 38.7509 1320.32 49.9314 Q1320.32 61.0714 1314.77 67.4314 Q1309.22 73.7508 1299.5 73.7508 Q1289.74 73.7508 1284.19 67.4314 Q1278.68 61.0714 1278.68 49.9314 Q1278.68 38.7509 1284.19 32.4315 Q1289.74 26.1121 1299.5 26.1121 Z\" fill=\"#000000\" fill-rule=\"evenodd\" fill-opacity=\"1\" /><path clip-path=\"url(#clip260)\" d=\"M1365.33 28.9478 L1365.33 35.9153 Q1362.17 34.1734 1358.97 33.3227 Q1355.81 32.4315 1352.57 32.4315 Q1345.32 32.4315 1341.31 37.0496 Q1337.29 41.6271 1337.29 49.9314 Q1337.29 58.2358 1341.31 62.8538 Q1345.32 67.4314 1352.57 67.4314 Q1355.81 67.4314 1358.97 66.5807 Q1362.17 65.6895 1365.33 63.9476 L1365.33 70.8341 Q1362.21 72.2924 1358.85 73.0216 Q1355.52 73.7508 1351.76 73.7508 Q1341.51 73.7508 1335.47 67.3098 Q1329.44 60.8689 1329.44 49.9314 Q1329.44 38.832 1335.51 32.472 Q1341.63 26.1121 1352.24 26.1121 Q1355.69 26.1121 1358.97 26.8413 Q1362.25 27.5299 1365.33 28.9478 Z\" fill=\"#000000\" fill-rule=\"evenodd\" fill-opacity=\"1\" /><path clip-path=\"url(#clip260)\" d=\"M1398.91 49.7694 Q1389.88 49.7694 1386.39 51.8354 Q1382.91 53.9013 1382.91 58.8839 Q1382.91 62.8538 1385.5 65.2034 Q1388.13 67.5124 1392.63 67.5124 Q1398.83 67.5124 1402.55 63.1374 Q1406.32 58.7219 1406.32 51.4303 L1406.32 49.7694 L1398.91 49.7694 M1413.78 46.6907 L1413.78 72.576 L1406.32 72.576 L1406.32 65.6895 Q1403.77 69.8214 1399.96 71.8063 Q1396.15 73.7508 1390.65 73.7508 Q1383.68 73.7508 1379.55 69.8619 Q1375.45 65.9325 1375.45 59.3701 Q1375.45 51.7138 1380.56 47.825 Q1385.7 43.9361 1395.87 43.9361 L1406.32 43.9361 L1406.32 43.2069 Q1406.32 38.0623 1402.92 35.2672 Q1399.56 32.4315 1393.44 32.4315 Q1389.55 32.4315 1385.86 33.3632 Q1382.18 34.295 1378.78 36.1584 L1378.78 29.2718 Q1382.87 27.692 1386.72 26.9223 Q1390.56 26.1121 1394.21 26.1121 Q1404.05 26.1121 1408.91 31.2163 Q1413.78 36.3204 1413.78 46.6907 Z\" fill=\"#000000\" fill-rule=\"evenodd\" fill-opacity=\"1\" /><path clip-path=\"url(#clip260)\" d=\"M1436.5 14.324 L1436.5 27.2059 L1451.85 27.2059 L1451.85 32.9987 L1436.5 32.9987 L1436.5 57.6282 Q1436.5 63.1779 1438 64.7578 Q1439.54 66.3376 1444.2 66.3376 L1451.85 66.3376 L1451.85 72.576 L1444.2 72.576 Q1435.57 72.576 1432.29 69.3758 Q1429.01 66.1351 1429.01 57.6282 L1429.01 32.9987 L1423.54 32.9987 L1423.54 27.2059 L1429.01 27.2059 L1429.01 14.324 L1436.5 14.324 Z\" fill=\"#000000\" fill-rule=\"evenodd\" fill-opacity=\"1\" /><path clip-path=\"url(#clip260)\" d=\"M1461.66 27.2059 L1469.11 27.2059 L1469.11 72.576 L1461.66 72.576 L1461.66 27.2059 M1461.66 9.54393 L1469.11 9.54393 L1469.11 18.9825 L1461.66 18.9825 L1461.66 9.54393 Z\" fill=\"#000000\" fill-rule=\"evenodd\" fill-opacity=\"1\" /><path clip-path=\"url(#clip260)\" d=\"M1502.29 32.4315 Q1496.29 32.4315 1492.81 37.1306 Q1489.33 41.7891 1489.33 49.9314 Q1489.33 58.0738 1492.77 62.7728 Q1496.25 67.4314 1502.29 67.4314 Q1508.24 67.4314 1511.73 62.7323 Q1515.21 58.0333 1515.21 49.9314 Q1515.21 41.8701 1511.73 37.1711 Q1508.24 32.4315 1502.29 32.4315 M1502.29 26.1121 Q1512.01 26.1121 1517.56 32.4315 Q1523.11 38.7509 1523.11 49.9314 Q1523.11 61.0714 1517.56 67.4314 Q1512.01 73.7508 1502.29 73.7508 Q1492.53 73.7508 1486.98 67.4314 Q1481.47 61.0714 1481.47 49.9314 Q1481.47 38.7509 1486.98 32.4315 Q1492.53 26.1121 1502.29 26.1121 Z\" fill=\"#000000\" fill-rule=\"evenodd\" fill-opacity=\"1\" /><path clip-path=\"url(#clip260)\" d=\"M1573.18 45.1919 L1573.18 72.576 L1565.73 72.576 L1565.73 45.4349 Q1565.73 38.994 1563.21 35.7938 Q1560.7 32.5936 1555.68 32.5936 Q1549.64 32.5936 1546.16 36.4419 Q1542.68 40.2903 1542.68 46.9338 L1542.68 72.576 L1535.18 72.576 L1535.18 27.2059 L1542.68 27.2059 L1542.68 34.2544 Q1545.35 30.163 1548.95 28.1376 Q1552.6 26.1121 1557.34 26.1121 Q1565.16 26.1121 1569.17 30.9732 Q1573.18 35.7938 1573.18 45.1919 Z\" fill=\"#000000\" fill-rule=\"evenodd\" fill-opacity=\"1\" /><path clip-path=\"url(#clip260)\" d=\"M1616.97 28.5427 L1616.97 35.5912 Q1613.81 33.9709 1610.41 33.1607 Q1607 32.3505 1603.36 32.3505 Q1597.81 32.3505 1595.01 34.0519 Q1592.26 35.7533 1592.26 39.156 Q1592.26 41.7486 1594.24 43.2475 Q1596.23 44.7058 1602.22 46.0426 L1604.78 46.6097 Q1612.72 48.3111 1616.04 51.4303 Q1619.4 54.509 1619.4 60.0587 Q1619.4 66.3781 1614.38 70.0644 Q1609.39 73.7508 1600.64 73.7508 Q1597 73.7508 1593.03 73.0216 Q1589.1 72.3329 1584.72 70.9151 L1584.72 63.2184 Q1588.86 65.3654 1592.87 66.4591 Q1596.88 67.5124 1600.81 67.5124 Q1606.07 67.5124 1608.91 65.73 Q1611.74 63.9071 1611.74 60.6258 Q1611.74 57.5877 1609.68 55.9673 Q1607.65 54.3469 1600.72 52.8481 L1598.13 52.2405 Q1591.21 50.7821 1588.13 47.7845 Q1585.05 44.7463 1585.05 39.4801 Q1585.05 33.0797 1589.58 29.5959 Q1594.12 26.1121 1602.47 26.1121 Q1606.6 26.1121 1610.24 26.7198 Q1613.89 27.3274 1616.97 28.5427 Z\" fill=\"#000000\" fill-rule=\"evenodd\" fill-opacity=\"1\" /><circle clip-path=\"url(#clip262)\" cx=\"1181.55\" cy=\"160.256\" r=\"14.4\" fill=\"#009af9\" fill-rule=\"evenodd\" fill-opacity=\"1\" stroke=\"#000000\" stroke-opacity=\"1\" stroke-width=\"3.2\"/>\n",
              "<circle clip-path=\"url(#clip262)\" cx=\"536.539\" cy=\"302.975\" r=\"14.4\" fill=\"#009af9\" fill-rule=\"evenodd\" fill-opacity=\"1\" stroke=\"#000000\" stroke-opacity=\"1\" stroke-width=\"3.2\"/>\n",
              "<circle clip-path=\"url(#clip262)\" cx=\"1086.09\" cy=\"357.836\" r=\"14.4\" fill=\"#009af9\" fill-rule=\"evenodd\" fill-opacity=\"1\" stroke=\"#000000\" stroke-opacity=\"1\" stroke-width=\"3.2\"/>\n",
              "<circle clip-path=\"url(#clip262)\" cx=\"750.568\" cy=\"477.485\" r=\"14.4\" fill=\"#009af9\" fill-rule=\"evenodd\" fill-opacity=\"1\" stroke=\"#000000\" stroke-opacity=\"1\" stroke-width=\"3.2\"/>\n",
              "<circle clip-path=\"url(#clip262)\" cx=\"1163.66\" cy=\"692.622\" r=\"14.4\" fill=\"#009af9\" fill-rule=\"evenodd\" fill-opacity=\"1\" stroke=\"#000000\" stroke-opacity=\"1\" stroke-width=\"3.2\"/>\n",
              "<circle clip-path=\"url(#clip262)\" cx=\"862.455\" cy=\"714.864\" r=\"14.4\" fill=\"#009af9\" fill-rule=\"evenodd\" fill-opacity=\"1\" stroke=\"#000000\" stroke-opacity=\"1\" stroke-width=\"3.2\"/>\n",
              "<circle clip-path=\"url(#clip262)\" cx=\"338.375\" cy=\"732.788\" r=\"14.4\" fill=\"#009af9\" fill-rule=\"evenodd\" fill-opacity=\"1\" stroke=\"#000000\" stroke-opacity=\"1\" stroke-width=\"3.2\"/>\n",
              "<circle clip-path=\"url(#clip262)\" cx=\"882.384\" cy=\"743.743\" r=\"14.4\" fill=\"#009af9\" fill-rule=\"evenodd\" fill-opacity=\"1\" stroke=\"#000000\" stroke-opacity=\"1\" stroke-width=\"3.2\"/>\n",
              "<circle clip-path=\"url(#clip262)\" cx=\"871.682\" cy=\"758.296\" r=\"14.4\" fill=\"#009af9\" fill-rule=\"evenodd\" fill-opacity=\"1\" stroke=\"#000000\" stroke-opacity=\"1\" stroke-width=\"3.2\"/>\n",
              "<circle clip-path=\"url(#clip262)\" cx=\"1017.15\" cy=\"760.556\" r=\"14.4\" fill=\"#009af9\" fill-rule=\"evenodd\" fill-opacity=\"1\" stroke=\"#000000\" stroke-opacity=\"1\" stroke-width=\"3.2\"/>\n",
              "<circle clip-path=\"url(#clip262)\" cx=\"671.199\" cy=\"776.093\" r=\"14.4\" fill=\"#009af9\" fill-rule=\"evenodd\" fill-opacity=\"1\" stroke=\"#000000\" stroke-opacity=\"1\" stroke-width=\"3.2\"/>\n",
              "<circle clip-path=\"url(#clip262)\" cx=\"1015.99\" cy=\"782.946\" r=\"14.4\" fill=\"#009af9\" fill-rule=\"evenodd\" fill-opacity=\"1\" stroke=\"#000000\" stroke-opacity=\"1\" stroke-width=\"3.2\"/>\n",
              "<circle clip-path=\"url(#clip262)\" cx=\"883.168\" cy=\"784.703\" r=\"14.4\" fill=\"#009af9\" fill-rule=\"evenodd\" fill-opacity=\"1\" stroke=\"#000000\" stroke-opacity=\"1\" stroke-width=\"3.2\"/>\n",
              "<circle clip-path=\"url(#clip262)\" cx=\"1009.47\" cy=\"812.732\" r=\"14.4\" fill=\"#009af9\" fill-rule=\"evenodd\" fill-opacity=\"1\" stroke=\"#000000\" stroke-opacity=\"1\" stroke-width=\"3.2\"/>\n",
              "<circle clip-path=\"url(#clip262)\" cx=\"939.967\" cy=\"841.213\" r=\"14.4\" fill=\"#009af9\" fill-rule=\"evenodd\" fill-opacity=\"1\" stroke=\"#000000\" stroke-opacity=\"1\" stroke-width=\"3.2\"/>\n",
              "<circle clip-path=\"url(#clip262)\" cx=\"1805.48\" cy=\"843.417\" r=\"14.4\" fill=\"#009af9\" fill-rule=\"evenodd\" fill-opacity=\"1\" stroke=\"#000000\" stroke-opacity=\"1\" stroke-width=\"3.2\"/>\n",
              "<circle clip-path=\"url(#clip262)\" cx=\"968.904\" cy=\"846.761\" r=\"14.4\" fill=\"#009af9\" fill-rule=\"evenodd\" fill-opacity=\"1\" stroke=\"#000000\" stroke-opacity=\"1\" stroke-width=\"3.2\"/>\n",
              "<circle clip-path=\"url(#clip262)\" cx=\"1701.41\" cy=\"850.389\" r=\"14.4\" fill=\"#009af9\" fill-rule=\"evenodd\" fill-opacity=\"1\" stroke=\"#000000\" stroke-opacity=\"1\" stroke-width=\"3.2\"/>\n",
              "<circle clip-path=\"url(#clip262)\" cx=\"951.218\" cy=\"852.093\" r=\"14.4\" fill=\"#009af9\" fill-rule=\"evenodd\" fill-opacity=\"1\" stroke=\"#000000\" stroke-opacity=\"1\" stroke-width=\"3.2\"/>\n",
              "<circle clip-path=\"url(#clip262)\" cx=\"1795.6\" cy=\"857.85\" r=\"14.4\" fill=\"#009af9\" fill-rule=\"evenodd\" fill-opacity=\"1\" stroke=\"#000000\" stroke-opacity=\"1\" stroke-width=\"3.2\"/>\n",
              "<circle clip-path=\"url(#clip262)\" cx=\"1695.87\" cy=\"860.114\" r=\"14.4\" fill=\"#009af9\" fill-rule=\"evenodd\" fill-opacity=\"1\" stroke=\"#000000\" stroke-opacity=\"1\" stroke-width=\"3.2\"/>\n",
              "<circle clip-path=\"url(#clip262)\" cx=\"976.743\" cy=\"862.525\" r=\"14.4\" fill=\"#009af9\" fill-rule=\"evenodd\" fill-opacity=\"1\" stroke=\"#000000\" stroke-opacity=\"1\" stroke-width=\"3.2\"/>\n",
              "<circle clip-path=\"url(#clip262)\" cx=\"957.604\" cy=\"863.66\" r=\"14.4\" fill=\"#009af9\" fill-rule=\"evenodd\" fill-opacity=\"1\" stroke=\"#000000\" stroke-opacity=\"1\" stroke-width=\"3.2\"/>\n",
              "<circle clip-path=\"url(#clip262)\" cx=\"1289.86\" cy=\"867.391\" r=\"14.4\" fill=\"#009af9\" fill-rule=\"evenodd\" fill-opacity=\"1\" stroke=\"#000000\" stroke-opacity=\"1\" stroke-width=\"3.2\"/>\n",
              "<circle clip-path=\"url(#clip262)\" cx=\"958.581\" cy=\"868.021\" r=\"14.4\" fill=\"#009af9\" fill-rule=\"evenodd\" fill-opacity=\"1\" stroke=\"#000000\" stroke-opacity=\"1\" stroke-width=\"3.2\"/>\n",
              "<circle clip-path=\"url(#clip262)\" cx=\"1313.61\" cy=\"871.969\" r=\"14.4\" fill=\"#009af9\" fill-rule=\"evenodd\" fill-opacity=\"1\" stroke=\"#000000\" stroke-opacity=\"1\" stroke-width=\"3.2\"/>\n",
              "<circle clip-path=\"url(#clip262)\" cx=\"726.398\" cy=\"875.214\" r=\"14.4\" fill=\"#009af9\" fill-rule=\"evenodd\" fill-opacity=\"1\" stroke=\"#000000\" stroke-opacity=\"1\" stroke-width=\"3.2\"/>\n",
              "<circle clip-path=\"url(#clip262)\" cx=\"1068.8\" cy=\"877.396\" r=\"14.4\" fill=\"#009af9\" fill-rule=\"evenodd\" fill-opacity=\"1\" stroke=\"#000000\" stroke-opacity=\"1\" stroke-width=\"3.2\"/>\n",
              "<circle clip-path=\"url(#clip262)\" cx=\"1042.88\" cy=\"886.594\" r=\"14.4\" fill=\"#009af9\" fill-rule=\"evenodd\" fill-opacity=\"1\" stroke=\"#000000\" stroke-opacity=\"1\" stroke-width=\"3.2\"/>\n",
              "<circle clip-path=\"url(#clip262)\" cx=\"1040.76\" cy=\"901.987\" r=\"14.4\" fill=\"#009af9\" fill-rule=\"evenodd\" fill-opacity=\"1\" stroke=\"#000000\" stroke-opacity=\"1\" stroke-width=\"3.2\"/>\n",
              "<circle clip-path=\"url(#clip262)\" cx=\"963.755\" cy=\"906.741\" r=\"14.4\" fill=\"#009af9\" fill-rule=\"evenodd\" fill-opacity=\"1\" stroke=\"#000000\" stroke-opacity=\"1\" stroke-width=\"3.2\"/>\n",
              "<circle clip-path=\"url(#clip262)\" cx=\"925.979\" cy=\"913.551\" r=\"14.4\" fill=\"#009af9\" fill-rule=\"evenodd\" fill-opacity=\"1\" stroke=\"#000000\" stroke-opacity=\"1\" stroke-width=\"3.2\"/>\n",
              "<circle clip-path=\"url(#clip262)\" cx=\"1527.81\" cy=\"914.808\" r=\"14.4\" fill=\"#009af9\" fill-rule=\"evenodd\" fill-opacity=\"1\" stroke=\"#000000\" stroke-opacity=\"1\" stroke-width=\"3.2\"/>\n",
              "<circle clip-path=\"url(#clip262)\" cx=\"1078.75\" cy=\"915.985\" r=\"14.4\" fill=\"#009af9\" fill-rule=\"evenodd\" fill-opacity=\"1\" stroke=\"#000000\" stroke-opacity=\"1\" stroke-width=\"3.2\"/>\n",
              "<circle clip-path=\"url(#clip262)\" cx=\"643.138\" cy=\"916.34\" r=\"14.4\" fill=\"#009af9\" fill-rule=\"evenodd\" fill-opacity=\"1\" stroke=\"#000000\" stroke-opacity=\"1\" stroke-width=\"3.2\"/>\n",
              "<circle clip-path=\"url(#clip262)\" cx=\"1515.58\" cy=\"927.165\" r=\"14.4\" fill=\"#009af9\" fill-rule=\"evenodd\" fill-opacity=\"1\" stroke=\"#000000\" stroke-opacity=\"1\" stroke-width=\"3.2\"/>\n",
              "<circle clip-path=\"url(#clip262)\" cx=\"1513.31\" cy=\"927.814\" r=\"14.4\" fill=\"#009af9\" fill-rule=\"evenodd\" fill-opacity=\"1\" stroke=\"#000000\" stroke-opacity=\"1\" stroke-width=\"3.2\"/>\n",
              "<circle clip-path=\"url(#clip262)\" cx=\"971.71\" cy=\"935.017\" r=\"14.4\" fill=\"#009af9\" fill-rule=\"evenodd\" fill-opacity=\"1\" stroke=\"#000000\" stroke-opacity=\"1\" stroke-width=\"3.2\"/>\n",
              "<circle clip-path=\"url(#clip262)\" cx=\"956.916\" cy=\"937.985\" r=\"14.4\" fill=\"#009af9\" fill-rule=\"evenodd\" fill-opacity=\"1\" stroke=\"#000000\" stroke-opacity=\"1\" stroke-width=\"3.2\"/>\n",
              "<circle clip-path=\"url(#clip262)\" cx=\"1000.55\" cy=\"938.233\" r=\"14.4\" fill=\"#009af9\" fill-rule=\"evenodd\" fill-opacity=\"1\" stroke=\"#000000\" stroke-opacity=\"1\" stroke-width=\"3.2\"/>\n",
              "<circle clip-path=\"url(#clip262)\" cx=\"940.758\" cy=\"940.438\" r=\"14.4\" fill=\"#009af9\" fill-rule=\"evenodd\" fill-opacity=\"1\" stroke=\"#000000\" stroke-opacity=\"1\" stroke-width=\"3.2\"/>\n",
              "<circle clip-path=\"url(#clip262)\" cx=\"1502.37\" cy=\"942.03\" r=\"14.4\" fill=\"#009af9\" fill-rule=\"evenodd\" fill-opacity=\"1\" stroke=\"#000000\" stroke-opacity=\"1\" stroke-width=\"3.2\"/>\n",
              "<circle clip-path=\"url(#clip262)\" cx=\"952.579\" cy=\"946.526\" r=\"14.4\" fill=\"#009af9\" fill-rule=\"evenodd\" fill-opacity=\"1\" stroke=\"#000000\" stroke-opacity=\"1\" stroke-width=\"3.2\"/>\n",
              "<circle clip-path=\"url(#clip262)\" cx=\"953.594\" cy=\"951.621\" r=\"14.4\" fill=\"#009af9\" fill-rule=\"evenodd\" fill-opacity=\"1\" stroke=\"#000000\" stroke-opacity=\"1\" stroke-width=\"3.2\"/>\n",
              "<circle clip-path=\"url(#clip262)\" cx=\"864.417\" cy=\"953.902\" r=\"14.4\" fill=\"#009af9\" fill-rule=\"evenodd\" fill-opacity=\"1\" stroke=\"#000000\" stroke-opacity=\"1\" stroke-width=\"3.2\"/>\n",
              "<circle clip-path=\"url(#clip262)\" cx=\"1215.68\" cy=\"960\" r=\"14.4\" fill=\"#009af9\" fill-rule=\"evenodd\" fill-opacity=\"1\" stroke=\"#000000\" stroke-opacity=\"1\" stroke-width=\"3.2\"/>\n",
              "<circle clip-path=\"url(#clip262)\" cx=\"1127.8\" cy=\"962.594\" r=\"14.4\" fill=\"#009af9\" fill-rule=\"evenodd\" fill-opacity=\"1\" stroke=\"#000000\" stroke-opacity=\"1\" stroke-width=\"3.2\"/>\n",
              "<circle clip-path=\"url(#clip262)\" cx=\"969.1\" cy=\"964.588\" r=\"14.4\" fill=\"#009af9\" fill-rule=\"evenodd\" fill-opacity=\"1\" stroke=\"#000000\" stroke-opacity=\"1\" stroke-width=\"3.2\"/>\n",
              "<circle clip-path=\"url(#clip262)\" cx=\"1182.08\" cy=\"965.481\" r=\"14.4\" fill=\"#009af9\" fill-rule=\"evenodd\" fill-opacity=\"1\" stroke=\"#000000\" stroke-opacity=\"1\" stroke-width=\"3.2\"/>\n",
              "<circle clip-path=\"url(#clip262)\" cx=\"1077.86\" cy=\"966.068\" r=\"14.4\" fill=\"#009af9\" fill-rule=\"evenodd\" fill-opacity=\"1\" stroke=\"#000000\" stroke-opacity=\"1\" stroke-width=\"3.2\"/>\n",
              "<circle clip-path=\"url(#clip262)\" cx=\"1090.73\" cy=\"967.967\" r=\"14.4\" fill=\"#009af9\" fill-rule=\"evenodd\" fill-opacity=\"1\" stroke=\"#000000\" stroke-opacity=\"1\" stroke-width=\"3.2\"/>\n",
              "<circle clip-path=\"url(#clip262)\" cx=\"1112.56\" cy=\"968.412\" r=\"14.4\" fill=\"#009af9\" fill-rule=\"evenodd\" fill-opacity=\"1\" stroke=\"#000000\" stroke-opacity=\"1\" stroke-width=\"3.2\"/>\n",
              "<circle clip-path=\"url(#clip262)\" cx=\"1109.95\" cy=\"969.596\" r=\"14.4\" fill=\"#009af9\" fill-rule=\"evenodd\" fill-opacity=\"1\" stroke=\"#000000\" stroke-opacity=\"1\" stroke-width=\"3.2\"/>\n",
              "<circle clip-path=\"url(#clip262)\" cx=\"1084.77\" cy=\"970.242\" r=\"14.4\" fill=\"#009af9\" fill-rule=\"evenodd\" fill-opacity=\"1\" stroke=\"#000000\" stroke-opacity=\"1\" stroke-width=\"3.2\"/>\n",
              "<circle clip-path=\"url(#clip262)\" cx=\"1443.9\" cy=\"972.002\" r=\"14.4\" fill=\"#009af9\" fill-rule=\"evenodd\" fill-opacity=\"1\" stroke=\"#000000\" stroke-opacity=\"1\" stroke-width=\"3.2\"/>\n",
              "<circle clip-path=\"url(#clip262)\" cx=\"993.871\" cy=\"972.686\" r=\"14.4\" fill=\"#009af9\" fill-rule=\"evenodd\" fill-opacity=\"1\" stroke=\"#000000\" stroke-opacity=\"1\" stroke-width=\"3.2\"/>\n",
              "<circle clip-path=\"url(#clip262)\" cx=\"971.002\" cy=\"974.067\" r=\"14.4\" fill=\"#009af9\" fill-rule=\"evenodd\" fill-opacity=\"1\" stroke=\"#000000\" stroke-opacity=\"1\" stroke-width=\"3.2\"/>\n",
              "<circle clip-path=\"url(#clip262)\" cx=\"1393.7\" cy=\"975.147\" r=\"14.4\" fill=\"#009af9\" fill-rule=\"evenodd\" fill-opacity=\"1\" stroke=\"#000000\" stroke-opacity=\"1\" stroke-width=\"3.2\"/>\n",
              "<circle clip-path=\"url(#clip262)\" cx=\"1034.99\" cy=\"976.319\" r=\"14.4\" fill=\"#009af9\" fill-rule=\"evenodd\" fill-opacity=\"1\" stroke=\"#000000\" stroke-opacity=\"1\" stroke-width=\"3.2\"/>\n",
              "<circle clip-path=\"url(#clip262)\" cx=\"1038.12\" cy=\"976.766\" r=\"14.4\" fill=\"#009af9\" fill-rule=\"evenodd\" fill-opacity=\"1\" stroke=\"#000000\" stroke-opacity=\"1\" stroke-width=\"3.2\"/>\n",
              "<circle clip-path=\"url(#clip262)\" cx=\"773.263\" cy=\"979.463\" r=\"14.4\" fill=\"#009af9\" fill-rule=\"evenodd\" fill-opacity=\"1\" stroke=\"#000000\" stroke-opacity=\"1\" stroke-width=\"3.2\"/>\n",
              "<circle clip-path=\"url(#clip262)\" cx=\"1056.55\" cy=\"981.44\" r=\"14.4\" fill=\"#009af9\" fill-rule=\"evenodd\" fill-opacity=\"1\" stroke=\"#000000\" stroke-opacity=\"1\" stroke-width=\"3.2\"/>\n",
              "<circle clip-path=\"url(#clip262)\" cx=\"930.014\" cy=\"983.963\" r=\"14.4\" fill=\"#009af9\" fill-rule=\"evenodd\" fill-opacity=\"1\" stroke=\"#000000\" stroke-opacity=\"1\" stroke-width=\"3.2\"/>\n",
              "<circle clip-path=\"url(#clip262)\" cx=\"1106.15\" cy=\"986.143\" r=\"14.4\" fill=\"#009af9\" fill-rule=\"evenodd\" fill-opacity=\"1\" stroke=\"#000000\" stroke-opacity=\"1\" stroke-width=\"3.2\"/>\n",
              "<circle clip-path=\"url(#clip262)\" cx=\"1068.52\" cy=\"986.275\" r=\"14.4\" fill=\"#009af9\" fill-rule=\"evenodd\" fill-opacity=\"1\" stroke=\"#000000\" stroke-opacity=\"1\" stroke-width=\"3.2\"/>\n",
              "<circle clip-path=\"url(#clip262)\" cx=\"1182.21\" cy=\"988.809\" r=\"14.4\" fill=\"#009af9\" fill-rule=\"evenodd\" fill-opacity=\"1\" stroke=\"#000000\" stroke-opacity=\"1\" stroke-width=\"3.2\"/>\n",
              "<circle clip-path=\"url(#clip262)\" cx=\"957.923\" cy=\"989.884\" r=\"14.4\" fill=\"#009af9\" fill-rule=\"evenodd\" fill-opacity=\"1\" stroke=\"#000000\" stroke-opacity=\"1\" stroke-width=\"3.2\"/>\n",
              "<circle clip-path=\"url(#clip262)\" cx=\"1416.67\" cy=\"991.267\" r=\"14.4\" fill=\"#009af9\" fill-rule=\"evenodd\" fill-opacity=\"1\" stroke=\"#000000\" stroke-opacity=\"1\" stroke-width=\"3.2\"/>\n",
              "<circle clip-path=\"url(#clip262)\" cx=\"1135.11\" cy=\"991.506\" r=\"14.4\" fill=\"#009af9\" fill-rule=\"evenodd\" fill-opacity=\"1\" stroke=\"#000000\" stroke-opacity=\"1\" stroke-width=\"3.2\"/>\n",
              "<circle clip-path=\"url(#clip262)\" cx=\"940.622\" cy=\"993.743\" r=\"14.4\" fill=\"#009af9\" fill-rule=\"evenodd\" fill-opacity=\"1\" stroke=\"#000000\" stroke-opacity=\"1\" stroke-width=\"3.2\"/>\n",
              "<circle clip-path=\"url(#clip262)\" cx=\"1068.69\" cy=\"995.473\" r=\"14.4\" fill=\"#009af9\" fill-rule=\"evenodd\" fill-opacity=\"1\" stroke=\"#000000\" stroke-opacity=\"1\" stroke-width=\"3.2\"/>\n",
              "<circle clip-path=\"url(#clip262)\" cx=\"965.139\" cy=\"995.89\" r=\"14.4\" fill=\"#009af9\" fill-rule=\"evenodd\" fill-opacity=\"1\" stroke=\"#000000\" stroke-opacity=\"1\" stroke-width=\"3.2\"/>\n",
              "<circle clip-path=\"url(#clip262)\" cx=\"1153.15\" cy=\"995.893\" r=\"14.4\" fill=\"#009af9\" fill-rule=\"evenodd\" fill-opacity=\"1\" stroke=\"#000000\" stroke-opacity=\"1\" stroke-width=\"3.2\"/>\n",
              "<circle clip-path=\"url(#clip262)\" cx=\"1535.33\" cy=\"997.522\" r=\"14.4\" fill=\"#009af9\" fill-rule=\"evenodd\" fill-opacity=\"1\" stroke=\"#000000\" stroke-opacity=\"1\" stroke-width=\"3.2\"/>\n",
              "<circle clip-path=\"url(#clip262)\" cx=\"911.378\" cy=\"998.118\" r=\"14.4\" fill=\"#009af9\" fill-rule=\"evenodd\" fill-opacity=\"1\" stroke=\"#000000\" stroke-opacity=\"1\" stroke-width=\"3.2\"/>\n",
              "<circle clip-path=\"url(#clip262)\" cx=\"904.156\" cy=\"1000.38\" r=\"14.4\" fill=\"#009af9\" fill-rule=\"evenodd\" fill-opacity=\"1\" stroke=\"#000000\" stroke-opacity=\"1\" stroke-width=\"3.2\"/>\n",
              "<circle clip-path=\"url(#clip262)\" cx=\"944.327\" cy=\"1000.72\" r=\"14.4\" fill=\"#009af9\" fill-rule=\"evenodd\" fill-opacity=\"1\" stroke=\"#000000\" stroke-opacity=\"1\" stroke-width=\"3.2\"/>\n",
              "<circle clip-path=\"url(#clip262)\" cx=\"934.245\" cy=\"1001\" r=\"14.4\" fill=\"#009af9\" fill-rule=\"evenodd\" fill-opacity=\"1\" stroke=\"#000000\" stroke-opacity=\"1\" stroke-width=\"3.2\"/>\n",
              "<circle clip-path=\"url(#clip262)\" cx=\"1297.42\" cy=\"1001.41\" r=\"14.4\" fill=\"#009af9\" fill-rule=\"evenodd\" fill-opacity=\"1\" stroke=\"#000000\" stroke-opacity=\"1\" stroke-width=\"3.2\"/>\n",
              "<circle clip-path=\"url(#clip262)\" cx=\"1100.84\" cy=\"1002.66\" r=\"14.4\" fill=\"#009af9\" fill-rule=\"evenodd\" fill-opacity=\"1\" stroke=\"#000000\" stroke-opacity=\"1\" stroke-width=\"3.2\"/>\n",
              "<circle clip-path=\"url(#clip262)\" cx=\"1107.77\" cy=\"1003.33\" r=\"14.4\" fill=\"#009af9\" fill-rule=\"evenodd\" fill-opacity=\"1\" stroke=\"#000000\" stroke-opacity=\"1\" stroke-width=\"3.2\"/>\n",
              "<circle clip-path=\"url(#clip262)\" cx=\"1128.51\" cy=\"1006.18\" r=\"14.4\" fill=\"#009af9\" fill-rule=\"evenodd\" fill-opacity=\"1\" stroke=\"#000000\" stroke-opacity=\"1\" stroke-width=\"3.2\"/>\n",
              "<circle clip-path=\"url(#clip262)\" cx=\"911.701\" cy=\"1007.68\" r=\"14.4\" fill=\"#009af9\" fill-rule=\"evenodd\" fill-opacity=\"1\" stroke=\"#000000\" stroke-opacity=\"1\" stroke-width=\"3.2\"/>\n",
              "<circle clip-path=\"url(#clip262)\" cx=\"813.696\" cy=\"1009.99\" r=\"14.4\" fill=\"#009af9\" fill-rule=\"evenodd\" fill-opacity=\"1\" stroke=\"#000000\" stroke-opacity=\"1\" stroke-width=\"3.2\"/>\n",
              "<circle clip-path=\"url(#clip262)\" cx=\"950.925\" cy=\"1010.71\" r=\"14.4\" fill=\"#009af9\" fill-rule=\"evenodd\" fill-opacity=\"1\" stroke=\"#000000\" stroke-opacity=\"1\" stroke-width=\"3.2\"/>\n",
              "<circle clip-path=\"url(#clip262)\" cx=\"843.425\" cy=\"1011.22\" r=\"14.4\" fill=\"#009af9\" fill-rule=\"evenodd\" fill-opacity=\"1\" stroke=\"#000000\" stroke-opacity=\"1\" stroke-width=\"3.2\"/>\n",
              "<circle clip-path=\"url(#clip262)\" cx=\"934.183\" cy=\"1013.4\" r=\"14.4\" fill=\"#009af9\" fill-rule=\"evenodd\" fill-opacity=\"1\" stroke=\"#000000\" stroke-opacity=\"1\" stroke-width=\"3.2\"/>\n",
              "<circle clip-path=\"url(#clip262)\" cx=\"1040.81\" cy=\"1014.37\" r=\"14.4\" fill=\"#009af9\" fill-rule=\"evenodd\" fill-opacity=\"1\" stroke=\"#000000\" stroke-opacity=\"1\" stroke-width=\"3.2\"/>\n",
              "<circle clip-path=\"url(#clip262)\" cx=\"1197.03\" cy=\"1014.56\" r=\"14.4\" fill=\"#009af9\" fill-rule=\"evenodd\" fill-opacity=\"1\" stroke=\"#000000\" stroke-opacity=\"1\" stroke-width=\"3.2\"/>\n",
              "<circle clip-path=\"url(#clip262)\" cx=\"1119.6\" cy=\"1014.7\" r=\"14.4\" fill=\"#009af9\" fill-rule=\"evenodd\" fill-opacity=\"1\" stroke=\"#000000\" stroke-opacity=\"1\" stroke-width=\"3.2\"/>\n",
              "<circle clip-path=\"url(#clip262)\" cx=\"1184.76\" cy=\"1015.19\" r=\"14.4\" fill=\"#009af9\" fill-rule=\"evenodd\" fill-opacity=\"1\" stroke=\"#000000\" stroke-opacity=\"1\" stroke-width=\"3.2\"/>\n",
              "<circle clip-path=\"url(#clip262)\" cx=\"1275.93\" cy=\"1015.19\" r=\"14.4\" fill=\"#009af9\" fill-rule=\"evenodd\" fill-opacity=\"1\" stroke=\"#000000\" stroke-opacity=\"1\" stroke-width=\"3.2\"/>\n",
              "<circle clip-path=\"url(#clip262)\" cx=\"824.526\" cy=\"1015.39\" r=\"14.4\" fill=\"#009af9\" fill-rule=\"evenodd\" fill-opacity=\"1\" stroke=\"#000000\" stroke-opacity=\"1\" stroke-width=\"3.2\"/>\n",
              "<circle clip-path=\"url(#clip262)\" cx=\"1209.17\" cy=\"1015.56\" r=\"14.4\" fill=\"#009af9\" fill-rule=\"evenodd\" fill-opacity=\"1\" stroke=\"#000000\" stroke-opacity=\"1\" stroke-width=\"3.2\"/>\n",
              "<circle clip-path=\"url(#clip262)\" cx=\"1210.45\" cy=\"1015.58\" r=\"14.4\" fill=\"#009af9\" fill-rule=\"evenodd\" fill-opacity=\"1\" stroke=\"#000000\" stroke-opacity=\"1\" stroke-width=\"3.2\"/>\n",
              "<circle clip-path=\"url(#clip262)\" cx=\"802.07\" cy=\"1015.83\" r=\"14.4\" fill=\"#009af9\" fill-rule=\"evenodd\" fill-opacity=\"1\" stroke=\"#000000\" stroke-opacity=\"1\" stroke-width=\"3.2\"/>\n",
              "<circle clip-path=\"url(#clip262)\" cx=\"946.598\" cy=\"1016.12\" r=\"14.4\" fill=\"#009af9\" fill-rule=\"evenodd\" fill-opacity=\"1\" stroke=\"#000000\" stroke-opacity=\"1\" stroke-width=\"3.2\"/>\n",
              "<circle clip-path=\"url(#clip262)\" cx=\"796.654\" cy=\"1020.1\" r=\"14.4\" fill=\"#009af9\" fill-rule=\"evenodd\" fill-opacity=\"1\" stroke=\"#000000\" stroke-opacity=\"1\" stroke-width=\"3.2\"/>\n",
              "<circle clip-path=\"url(#clip262)\" cx=\"1004.84\" cy=\"1020.24\" r=\"14.4\" fill=\"#009af9\" fill-rule=\"evenodd\" fill-opacity=\"1\" stroke=\"#000000\" stroke-opacity=\"1\" stroke-width=\"3.2\"/>\n",
              "<circle clip-path=\"url(#clip262)\" cx=\"1098.57\" cy=\"1025.65\" r=\"14.4\" fill=\"#009af9\" fill-rule=\"evenodd\" fill-opacity=\"1\" stroke=\"#000000\" stroke-opacity=\"1\" stroke-width=\"3.2\"/>\n",
              "<circle clip-path=\"url(#clip262)\" cx=\"883.105\" cy=\"1027.1\" r=\"14.4\" fill=\"#009af9\" fill-rule=\"evenodd\" fill-opacity=\"1\" stroke=\"#000000\" stroke-opacity=\"1\" stroke-width=\"3.2\"/>\n",
              "<circle clip-path=\"url(#clip262)\" cx=\"926.9\" cy=\"1027.89\" r=\"14.4\" fill=\"#009af9\" fill-rule=\"evenodd\" fill-opacity=\"1\" stroke=\"#000000\" stroke-opacity=\"1\" stroke-width=\"3.2\"/>\n",
              "<circle clip-path=\"url(#clip262)\" cx=\"1210.27\" cy=\"1029.14\" r=\"14.4\" fill=\"#009af9\" fill-rule=\"evenodd\" fill-opacity=\"1\" stroke=\"#000000\" stroke-opacity=\"1\" stroke-width=\"3.2\"/>\n",
              "<circle clip-path=\"url(#clip262)\" cx=\"793.926\" cy=\"1029.9\" r=\"14.4\" fill=\"#009af9\" fill-rule=\"evenodd\" fill-opacity=\"1\" stroke=\"#000000\" stroke-opacity=\"1\" stroke-width=\"3.2\"/>\n",
              "<circle clip-path=\"url(#clip262)\" cx=\"1193.58\" cy=\"1030.72\" r=\"14.4\" fill=\"#009af9\" fill-rule=\"evenodd\" fill-opacity=\"1\" stroke=\"#000000\" stroke-opacity=\"1\" stroke-width=\"3.2\"/>\n",
              "<circle clip-path=\"url(#clip262)\" cx=\"1080.05\" cy=\"1031.04\" r=\"14.4\" fill=\"#009af9\" fill-rule=\"evenodd\" fill-opacity=\"1\" stroke=\"#000000\" stroke-opacity=\"1\" stroke-width=\"3.2\"/>\n",
              "<circle clip-path=\"url(#clip262)\" cx=\"894.12\" cy=\"1032.43\" r=\"14.4\" fill=\"#009af9\" fill-rule=\"evenodd\" fill-opacity=\"1\" stroke=\"#000000\" stroke-opacity=\"1\" stroke-width=\"3.2\"/>\n",
              "<circle clip-path=\"url(#clip262)\" cx=\"831.056\" cy=\"1033.57\" r=\"14.4\" fill=\"#009af9\" fill-rule=\"evenodd\" fill-opacity=\"1\" stroke=\"#000000\" stroke-opacity=\"1\" stroke-width=\"3.2\"/>\n",
              "<circle clip-path=\"url(#clip262)\" cx=\"1128.3\" cy=\"1033.6\" r=\"14.4\" fill=\"#009af9\" fill-rule=\"evenodd\" fill-opacity=\"1\" stroke=\"#000000\" stroke-opacity=\"1\" stroke-width=\"3.2\"/>\n",
              "<circle clip-path=\"url(#clip262)\" cx=\"1162.99\" cy=\"1033.65\" r=\"14.4\" fill=\"#009af9\" fill-rule=\"evenodd\" fill-opacity=\"1\" stroke=\"#000000\" stroke-opacity=\"1\" stroke-width=\"3.2\"/>\n",
              "<circle clip-path=\"url(#clip262)\" cx=\"1181.95\" cy=\"1033.71\" r=\"14.4\" fill=\"#009af9\" fill-rule=\"evenodd\" fill-opacity=\"1\" stroke=\"#000000\" stroke-opacity=\"1\" stroke-width=\"3.2\"/>\n",
              "<circle clip-path=\"url(#clip262)\" cx=\"1083.09\" cy=\"1043.3\" r=\"14.4\" fill=\"#009af9\" fill-rule=\"evenodd\" fill-opacity=\"1\" stroke=\"#000000\" stroke-opacity=\"1\" stroke-width=\"3.2\"/>\n",
              "<circle clip-path=\"url(#clip262)\" cx=\"1078.23\" cy=\"1043.89\" r=\"14.4\" fill=\"#009af9\" fill-rule=\"evenodd\" fill-opacity=\"1\" stroke=\"#000000\" stroke-opacity=\"1\" stroke-width=\"3.2\"/>\n",
              "<circle clip-path=\"url(#clip262)\" cx=\"1188.08\" cy=\"1045.04\" r=\"14.4\" fill=\"#009af9\" fill-rule=\"evenodd\" fill-opacity=\"1\" stroke=\"#000000\" stroke-opacity=\"1\" stroke-width=\"3.2\"/>\n",
              "<circle clip-path=\"url(#clip262)\" cx=\"1216.01\" cy=\"1047.39\" r=\"14.4\" fill=\"#009af9\" fill-rule=\"evenodd\" fill-opacity=\"1\" stroke=\"#000000\" stroke-opacity=\"1\" stroke-width=\"3.2\"/>\n",
              "<circle clip-path=\"url(#clip262)\" cx=\"1260.85\" cy=\"1047.99\" r=\"14.4\" fill=\"#009af9\" fill-rule=\"evenodd\" fill-opacity=\"1\" stroke=\"#000000\" stroke-opacity=\"1\" stroke-width=\"3.2\"/>\n",
              "<circle clip-path=\"url(#clip262)\" cx=\"969.174\" cy=\"1051.14\" r=\"14.4\" fill=\"#009af9\" fill-rule=\"evenodd\" fill-opacity=\"1\" stroke=\"#000000\" stroke-opacity=\"1\" stroke-width=\"3.2\"/>\n",
              "<circle clip-path=\"url(#clip262)\" cx=\"1307.68\" cy=\"1051.95\" r=\"14.4\" fill=\"#009af9\" fill-rule=\"evenodd\" fill-opacity=\"1\" stroke=\"#000000\" stroke-opacity=\"1\" stroke-width=\"3.2\"/>\n",
              "<circle clip-path=\"url(#clip262)\" cx=\"1196.96\" cy=\"1052.25\" r=\"14.4\" fill=\"#009af9\" fill-rule=\"evenodd\" fill-opacity=\"1\" stroke=\"#000000\" stroke-opacity=\"1\" stroke-width=\"3.2\"/>\n",
              "<circle clip-path=\"url(#clip262)\" cx=\"882.641\" cy=\"1052.49\" r=\"14.4\" fill=\"#009af9\" fill-rule=\"evenodd\" fill-opacity=\"1\" stroke=\"#000000\" stroke-opacity=\"1\" stroke-width=\"3.2\"/>\n",
              "<circle clip-path=\"url(#clip262)\" cx=\"1043.32\" cy=\"1056.89\" r=\"14.4\" fill=\"#009af9\" fill-rule=\"evenodd\" fill-opacity=\"1\" stroke=\"#000000\" stroke-opacity=\"1\" stroke-width=\"3.2\"/>\n",
              "<circle clip-path=\"url(#clip262)\" cx=\"1126.67\" cy=\"1062.05\" r=\"14.4\" fill=\"#009af9\" fill-rule=\"evenodd\" fill-opacity=\"1\" stroke=\"#000000\" stroke-opacity=\"1\" stroke-width=\"3.2\"/>\n",
              "<circle clip-path=\"url(#clip262)\" cx=\"1068.68\" cy=\"1063.84\" r=\"14.4\" fill=\"#009af9\" fill-rule=\"evenodd\" fill-opacity=\"1\" stroke=\"#000000\" stroke-opacity=\"1\" stroke-width=\"3.2\"/>\n",
              "<circle clip-path=\"url(#clip262)\" cx=\"1101.65\" cy=\"1064.08\" r=\"14.4\" fill=\"#009af9\" fill-rule=\"evenodd\" fill-opacity=\"1\" stroke=\"#000000\" stroke-opacity=\"1\" stroke-width=\"3.2\"/>\n",
              "<circle clip-path=\"url(#clip262)\" cx=\"1022.59\" cy=\"1064.46\" r=\"14.4\" fill=\"#009af9\" fill-rule=\"evenodd\" fill-opacity=\"1\" stroke=\"#000000\" stroke-opacity=\"1\" stroke-width=\"3.2\"/>\n",
              "<circle clip-path=\"url(#clip262)\" cx=\"1489.06\" cy=\"1065.05\" r=\"14.4\" fill=\"#009af9\" fill-rule=\"evenodd\" fill-opacity=\"1\" stroke=\"#000000\" stroke-opacity=\"1\" stroke-width=\"3.2\"/>\n",
              "<circle clip-path=\"url(#clip262)\" cx=\"894.115\" cy=\"1067.63\" r=\"14.4\" fill=\"#009af9\" fill-rule=\"evenodd\" fill-opacity=\"1\" stroke=\"#000000\" stroke-opacity=\"1\" stroke-width=\"3.2\"/>\n",
              "<circle clip-path=\"url(#clip262)\" cx=\"1243.63\" cy=\"1070.29\" r=\"14.4\" fill=\"#009af9\" fill-rule=\"evenodd\" fill-opacity=\"1\" stroke=\"#000000\" stroke-opacity=\"1\" stroke-width=\"3.2\"/>\n",
              "<circle clip-path=\"url(#clip262)\" cx=\"1031.65\" cy=\"1070.99\" r=\"14.4\" fill=\"#009af9\" fill-rule=\"evenodd\" fill-opacity=\"1\" stroke=\"#000000\" stroke-opacity=\"1\" stroke-width=\"3.2\"/>\n",
              "<circle clip-path=\"url(#clip262)\" cx=\"898.912\" cy=\"1072.4\" r=\"14.4\" fill=\"#009af9\" fill-rule=\"evenodd\" fill-opacity=\"1\" stroke=\"#000000\" stroke-opacity=\"1\" stroke-width=\"3.2\"/>\n",
              "<circle clip-path=\"url(#clip262)\" cx=\"1108.47\" cy=\"1072.58\" r=\"14.4\" fill=\"#009af9\" fill-rule=\"evenodd\" fill-opacity=\"1\" stroke=\"#000000\" stroke-opacity=\"1\" stroke-width=\"3.2\"/>\n",
              "<circle clip-path=\"url(#clip262)\" cx=\"1265.28\" cy=\"1074.81\" r=\"14.4\" fill=\"#009af9\" fill-rule=\"evenodd\" fill-opacity=\"1\" stroke=\"#000000\" stroke-opacity=\"1\" stroke-width=\"3.2\"/>\n",
              "<circle clip-path=\"url(#clip262)\" cx=\"1170.51\" cy=\"1078.55\" r=\"14.4\" fill=\"#009af9\" fill-rule=\"evenodd\" fill-opacity=\"1\" stroke=\"#000000\" stroke-opacity=\"1\" stroke-width=\"3.2\"/>\n",
              "<circle clip-path=\"url(#clip262)\" cx=\"859.24\" cy=\"1078.87\" r=\"14.4\" fill=\"#009af9\" fill-rule=\"evenodd\" fill-opacity=\"1\" stroke=\"#000000\" stroke-opacity=\"1\" stroke-width=\"3.2\"/>\n",
              "<circle clip-path=\"url(#clip262)\" cx=\"1184.92\" cy=\"1078.8\" r=\"14.4\" fill=\"#009af9\" fill-rule=\"evenodd\" fill-opacity=\"1\" stroke=\"#000000\" stroke-opacity=\"1\" stroke-width=\"3.2\"/>\n",
              "<circle clip-path=\"url(#clip262)\" cx=\"927.596\" cy=\"1106.34\" r=\"14.4\" fill=\"#009af9\" fill-rule=\"evenodd\" fill-opacity=\"1\" stroke=\"#000000\" stroke-opacity=\"1\" stroke-width=\"3.2\"/>\n",
              "<circle clip-path=\"url(#clip262)\" cx=\"1373.79\" cy=\"1107.29\" r=\"14.4\" fill=\"#009af9\" fill-rule=\"evenodd\" fill-opacity=\"1\" stroke=\"#000000\" stroke-opacity=\"1\" stroke-width=\"3.2\"/>\n",
              "<circle clip-path=\"url(#clip262)\" cx=\"1208.92\" cy=\"1107.53\" r=\"14.4\" fill=\"#009af9\" fill-rule=\"evenodd\" fill-opacity=\"1\" stroke=\"#000000\" stroke-opacity=\"1\" stroke-width=\"3.2\"/>\n",
              "<circle clip-path=\"url(#clip262)\" cx=\"1229.61\" cy=\"1108.51\" r=\"14.4\" fill=\"#009af9\" fill-rule=\"evenodd\" fill-opacity=\"1\" stroke=\"#000000\" stroke-opacity=\"1\" stroke-width=\"3.2\"/>\n",
              "<circle clip-path=\"url(#clip262)\" cx=\"1108.28\" cy=\"1108.93\" r=\"14.4\" fill=\"#009af9\" fill-rule=\"evenodd\" fill-opacity=\"1\" stroke=\"#000000\" stroke-opacity=\"1\" stroke-width=\"3.2\"/>\n",
              "<circle clip-path=\"url(#clip262)\" cx=\"1355.8\" cy=\"1110.77\" r=\"14.4\" fill=\"#009af9\" fill-rule=\"evenodd\" fill-opacity=\"1\" stroke=\"#000000\" stroke-opacity=\"1\" stroke-width=\"3.2\"/>\n",
              "<circle clip-path=\"url(#clip262)\" cx=\"982.838\" cy=\"1114.5\" r=\"14.4\" fill=\"#009af9\" fill-rule=\"evenodd\" fill-opacity=\"1\" stroke=\"#000000\" stroke-opacity=\"1\" stroke-width=\"3.2\"/>\n",
              "<circle clip-path=\"url(#clip262)\" cx=\"1119.89\" cy=\"1114.78\" r=\"14.4\" fill=\"#009af9\" fill-rule=\"evenodd\" fill-opacity=\"1\" stroke=\"#000000\" stroke-opacity=\"1\" stroke-width=\"3.2\"/>\n",
              "<circle clip-path=\"url(#clip262)\" cx=\"1369.02\" cy=\"1116\" r=\"14.4\" fill=\"#009af9\" fill-rule=\"evenodd\" fill-opacity=\"1\" stroke=\"#000000\" stroke-opacity=\"1\" stroke-width=\"3.2\"/>\n",
              "<circle clip-path=\"url(#clip262)\" cx=\"951.604\" cy=\"1116.17\" r=\"14.4\" fill=\"#009af9\" fill-rule=\"evenodd\" fill-opacity=\"1\" stroke=\"#000000\" stroke-opacity=\"1\" stroke-width=\"3.2\"/>\n",
              "<circle clip-path=\"url(#clip262)\" cx=\"1130.69\" cy=\"1116.35\" r=\"14.4\" fill=\"#009af9\" fill-rule=\"evenodd\" fill-opacity=\"1\" stroke=\"#000000\" stroke-opacity=\"1\" stroke-width=\"3.2\"/>\n",
              "<circle clip-path=\"url(#clip262)\" cx=\"1175.88\" cy=\"1121.45\" r=\"14.4\" fill=\"#009af9\" fill-rule=\"evenodd\" fill-opacity=\"1\" stroke=\"#000000\" stroke-opacity=\"1\" stroke-width=\"3.2\"/>\n",
              "<circle clip-path=\"url(#clip262)\" cx=\"1226.75\" cy=\"1123.03\" r=\"14.4\" fill=\"#009af9\" fill-rule=\"evenodd\" fill-opacity=\"1\" stroke=\"#000000\" stroke-opacity=\"1\" stroke-width=\"3.2\"/>\n",
              "<circle clip-path=\"url(#clip262)\" cx=\"1360.4\" cy=\"1128.7\" r=\"14.4\" fill=\"#009af9\" fill-rule=\"evenodd\" fill-opacity=\"1\" stroke=\"#000000\" stroke-opacity=\"1\" stroke-width=\"3.2\"/>\n",
              "<circle clip-path=\"url(#clip262)\" cx=\"1349.08\" cy=\"1128.98\" r=\"14.4\" fill=\"#009af9\" fill-rule=\"evenodd\" fill-opacity=\"1\" stroke=\"#000000\" stroke-opacity=\"1\" stroke-width=\"3.2\"/>\n",
              "<circle clip-path=\"url(#clip262)\" cx=\"1173\" cy=\"1145\" r=\"14.4\" fill=\"#009af9\" fill-rule=\"evenodd\" fill-opacity=\"1\" stroke=\"#000000\" stroke-opacity=\"1\" stroke-width=\"3.2\"/>\n",
              "<circle clip-path=\"url(#clip262)\" cx=\"1487.24\" cy=\"1183.16\" r=\"14.4\" fill=\"#009af9\" fill-rule=\"evenodd\" fill-opacity=\"1\" stroke=\"#000000\" stroke-opacity=\"1\" stroke-width=\"3.2\"/>\n",
              "<circle clip-path=\"url(#clip262)\" cx=\"1590.32\" cy=\"1217.42\" r=\"14.4\" fill=\"#009af9\" fill-rule=\"evenodd\" fill-opacity=\"1\" stroke=\"#000000\" stroke-opacity=\"1\" stroke-width=\"3.2\"/>\n",
              "<circle clip-path=\"url(#clip262)\" cx=\"1488.08\" cy=\"1224.7\" r=\"14.4\" fill=\"#009af9\" fill-rule=\"evenodd\" fill-opacity=\"1\" stroke=\"#000000\" stroke-opacity=\"1\" stroke-width=\"3.2\"/>\n",
              "<circle clip-path=\"url(#clip262)\" cx=\"1444.89\" cy=\"1244.37\" r=\"14.4\" fill=\"#009af9\" fill-rule=\"evenodd\" fill-opacity=\"1\" stroke=\"#000000\" stroke-opacity=\"1\" stroke-width=\"3.2\"/>\n",
              "<circle clip-path=\"url(#clip262)\" cx=\"2294.08\" cy=\"1247.51\" r=\"14.4\" fill=\"#009af9\" fill-rule=\"evenodd\" fill-opacity=\"1\" stroke=\"#000000\" stroke-opacity=\"1\" stroke-width=\"3.2\"/>\n",
              "<circle clip-path=\"url(#clip262)\" cx=\"1261.11\" cy=\"1251.93\" r=\"14.4\" fill=\"#009af9\" fill-rule=\"evenodd\" fill-opacity=\"1\" stroke=\"#000000\" stroke-opacity=\"1\" stroke-width=\"3.2\"/>\n",
              "<circle clip-path=\"url(#clip262)\" cx=\"1208.49\" cy=\"1273.8\" r=\"14.4\" fill=\"#009af9\" fill-rule=\"evenodd\" fill-opacity=\"1\" stroke=\"#000000\" stroke-opacity=\"1\" stroke-width=\"3.2\"/>\n",
              "<circle clip-path=\"url(#clip262)\" cx=\"1302.15\" cy=\"1277.44\" r=\"14.4\" fill=\"#009af9\" fill-rule=\"evenodd\" fill-opacity=\"1\" stroke=\"#000000\" stroke-opacity=\"1\" stroke-width=\"3.2\"/>\n",
              "<circle clip-path=\"url(#clip262)\" cx=\"1140.94\" cy=\"1277.59\" r=\"14.4\" fill=\"#009af9\" fill-rule=\"evenodd\" fill-opacity=\"1\" stroke=\"#000000\" stroke-opacity=\"1\" stroke-width=\"3.2\"/>\n",
              "<circle clip-path=\"url(#clip262)\" cx=\"1566.61\" cy=\"1280.58\" r=\"14.4\" fill=\"#009af9\" fill-rule=\"evenodd\" fill-opacity=\"1\" stroke=\"#000000\" stroke-opacity=\"1\" stroke-width=\"3.2\"/>\n",
              "<circle clip-path=\"url(#clip262)\" cx=\"1279.57\" cy=\"1284.44\" r=\"14.4\" fill=\"#009af9\" fill-rule=\"evenodd\" fill-opacity=\"1\" stroke=\"#000000\" stroke-opacity=\"1\" stroke-width=\"3.2\"/>\n",
              "<circle clip-path=\"url(#clip262)\" cx=\"1200.92\" cy=\"1330.51\" r=\"14.4\" fill=\"#009af9\" fill-rule=\"evenodd\" fill-opacity=\"1\" stroke=\"#000000\" stroke-opacity=\"1\" stroke-width=\"3.2\"/>\n",
              "<circle clip-path=\"url(#clip262)\" cx=\"1370.99\" cy=\"1335.39\" r=\"14.4\" fill=\"#009af9\" fill-rule=\"evenodd\" fill-opacity=\"1\" stroke=\"#000000\" stroke-opacity=\"1\" stroke-width=\"3.2\"/>\n",
              "<circle clip-path=\"url(#clip262)\" cx=\"1218.85\" cy=\"1341.65\" r=\"14.4\" fill=\"#009af9\" fill-rule=\"evenodd\" fill-opacity=\"1\" stroke=\"#000000\" stroke-opacity=\"1\" stroke-width=\"3.2\"/>\n",
              "<circle clip-path=\"url(#clip262)\" cx=\"1435.05\" cy=\"1352.08\" r=\"14.4\" fill=\"#009af9\" fill-rule=\"evenodd\" fill-opacity=\"1\" stroke=\"#000000\" stroke-opacity=\"1\" stroke-width=\"3.2\"/>\n",
              "<circle clip-path=\"url(#clip262)\" cx=\"1398.35\" cy=\"1365.1\" r=\"14.4\" fill=\"#009af9\" fill-rule=\"evenodd\" fill-opacity=\"1\" stroke=\"#000000\" stroke-opacity=\"1\" stroke-width=\"3.2\"/>\n",
              "<circle clip-path=\"url(#clip262)\" cx=\"1410.16\" cy=\"1374.58\" r=\"14.4\" fill=\"#009af9\" fill-rule=\"evenodd\" fill-opacity=\"1\" stroke=\"#000000\" stroke-opacity=\"1\" stroke-width=\"3.2\"/>\n",
              "<circle clip-path=\"url(#clip262)\" cx=\"1410.32\" cy=\"1386.4\" r=\"14.4\" fill=\"#009af9\" fill-rule=\"evenodd\" fill-opacity=\"1\" stroke=\"#000000\" stroke-opacity=\"1\" stroke-width=\"3.2\"/>\n",
              "</svg>\n"
            ]
          },
          "execution_count": 5,
          "metadata": {},
          "output_type": "execute_result"
        }
      ],
      "source": [
        "scatter(hotelsxy[:, 1], hotelsxy[:, 2], \n",
        "    legend = false, \n",
        "    title = \"Hotel locations\",\n",
        "    xlabel = \"longitude\",\n",
        "    ylabel = \"latitude\")"
      ]
    },
    {
      "cell_type": "markdown",
      "id": "dc74a200",
      "metadata": {
        "id": "dc74a200"
      },
      "source": [
        "En este punto comienza el análisis.\n",
        "\n",
        "Llamamos a la librería Eirene. Ella espera que los datos (en este caso los puntos que identifican a los hoteles) estén dados como columnas y no como filas, por lo que hacemos una trasposición para poder colocar la información como argumento de la función.\n",
        "\n",
        "Usamos model para especificar el tipo de datos que le estamos entregando. En este caso estamos usando una nube de puntos, por tanto escribimos pc (point cloud)."
      ]
    },
    {
      "cell_type": "code",
      "execution_count": null,
      "id": "2449e0cb",
      "metadata": {
        "id": "2449e0cb",
        "outputId": "187566e3-1f5e-48e7-a49b-f92e04908828"
      },
      "outputs": [
        {
          "data": {
            "text/plain": [
              "Dict{String, Any} with 12 entries:\n",
              "  \"symmat\"   => [13960 13944 … 404 0; 13944 13960 … 432 0; … ; 404 432 … 13960 …\n",
              "  \"maxnz\"    => [0, 5069, 212888, 1, 0]\n",
              "  \"firstv\"   => [[1, 2, 3, 4, 5, 6, 7, 8, 9, 10  …  161, 162, 163, 164, 165, 16…\n",
              "  \"cyclerep\" => [Vector{Int64}[], [[1, 2], [13, 18], [40, 34], [4, 8], [15, 12]…\n",
              "  \"phi\"      => [Int64[], [1, 1943, 4989, 502, 1785, 335, 1944, 6, 1006, 13952 …\n",
              "  \"plo\"      => [Int64[], [2, 18, 34, 8, 12, 5, 19, 7, 26, 164  …  1, 149, 114,…\n",
              "  \"ocg2rad\"  => [0.0913222, 0.0912357, 0.0909622, 0.090881, 0.0908798, 0.090581…\n",
              "  \"farfaces\" => [[1, 2, 3, 4, 5, 6, 7, 8, 9, 10  …  160, 161, 162, 163, 164, 16…\n",
              "  \"nvl2ovl\"  => [71, 65, 106, 80, 100, 62, 88, 81, 112, 113  …  21, 4, 18, 3, 2…\n",
              "  \"input\"    => Dict{String, Any}(\"genera\"=>[-77.0268 -77.0849 … -77.0062 -77.0…\n",
              "  \"tid\"      => [Int64[], [2, 18, 34, 8, 12, 5, 19, 7, 26, 164  …  149, 114, 3,…\n",
              "  \"grain\"    => [[13960, 13960, 13960, 13960, 13960, 13960, 13960, 13960, 13960…"
            ]
          },
          "execution_count": 6,
          "metadata": {},
          "output_type": "execute_result"
        }
      ],
      "source": [
        "eireneoutput = eirene(transpose(hotelsxy), model = \"pc\")\n"
      ]
    },
    {
      "cell_type": "markdown",
      "id": "29c43ac9",
      "metadata": {
        "id": "29c43ac9"
      },
      "source": [
        "Queremos una versión resumida de toda la información que se obtiene en la línea anterior.\n",
        "\n",
        "Usamos $dim = 1$ para analizar ciclos. Usar $dim = 0$ nos daba información acerca de componentes conexas.\n",
        "\n",
        "Observemos que para cada ciclo nos da 2 números. Estos números nos están ofreciendo información acerca del rango de los valores que nos dan ciclos.\n",
        "\n",
        "Un rango muy grande nos conecta todos los ciclos y uno muy pequeño los desaparece. Acá se calculó el rango ideal."
      ]
    },
    {
      "cell_type": "code",
      "execution_count": null,
      "id": "c4c3f13b",
      "metadata": {
        "id": "c4c3f13b",
        "outputId": "02b1bc2f-cb09-49bf-d97c-a67dc6f0ea80"
      },
      "outputs": [
        {
          "data": {
            "text/plain": [
              "34×2 Matrix{Float64}:\n",
              " 0.00150878  0.00165984\n",
              " 0.00173635  0.00176505\n",
              " 0.00175794  0.00218756\n",
              " 0.00279334  0.00351816\n",
              " 0.00343089  0.00347307\n",
              " 0.00996504  0.0106152\n",
              " 0.0103512   0.0106323\n",
              " 0.012491    0.0125514\n",
              " 0.00113868  0.00135763\n",
              " 0.0016926   0.00172603\n",
              " 0.00207491  0.00209796\n",
              " 0.0023452   0.00340424\n",
              " 0.00238183  0.00269836\n",
              " ⋮           \n",
              " 0.00462077  0.0060454\n",
              " 0.00513321  0.00553646\n",
              " 0.00516484  0.00621101\n",
              " 0.0062538   0.00636612\n",
              " 0.00841547  0.00847825\n",
              " 0.0106867   0.0116031\n",
              " 0.011907    0.0122099\n",
              " 0.0179066   0.0193982\n",
              " 0.0316682   0.0328436\n",
              " 0.0384261   0.0393731\n",
              " 0.00389228  0.00441162\n",
              " 0.0106646   0.0131199"
            ]
          },
          "execution_count": 7,
          "metadata": {},
          "output_type": "execute_result"
        }
      ],
      "source": [
        "bc = barcode(eireneoutput, dim = 1)\n"
      ]
    },
    {
      "cell_type": "markdown",
      "id": "cbc1c8cb",
      "metadata": {
        "id": "cbc1c8cb"
      },
      "source": [
        "El rango más grande nos dará el ciclo más persistente."
      ]
    },
    {
      "cell_type": "code",
      "execution_count": null,
      "id": "3af773f4",
      "metadata": {
        "id": "3af773f4",
        "outputId": "7633ff65-5d89-4b32-f99d-a6b959945c66"
      },
      "outputs": [
        {
          "data": {
            "text/plain": [
              "34-element Vector{Float64}:\n",
              " 0.00015106376880259114\n",
              " 2.8697907842755886e-5\n",
              " 0.00042961727252648855\n",
              " 0.0007248191072139376\n",
              " 4.2185820940380484e-5\n",
              " 0.0006501467946888207\n",
              " 0.0002811764623567893\n",
              " 6.047579349287638e-5\n",
              " 0.0002189557262330811\n",
              " 3.343337005122515e-5\n",
              " 2.305124045387649e-5\n",
              " 0.0010590461739548042\n",
              " 0.00031653029984167816\n",
              " ⋮\n",
              " 0.0014246261238011907\n",
              " 0.0004032546135380108\n",
              " 0.001046173412737405\n",
              " 0.00011231623919499834\n",
              " 6.278145781155042e-5\n",
              " 0.0009164807633711379\n",
              " 0.0003028911705202971\n",
              " 0.001491579456282352\n",
              " 0.0011754034143628203\n",
              " 0.0009469637678818504\n",
              " 0.0005193358613183618\n",
              " 0.0024552788524434682"
            ]
          },
          "execution_count": 8,
          "metadata": {},
          "output_type": "execute_result"
        }
      ],
      "source": [
        "persistence = bc[:, 2] - bc[:, 1] "
      ]
    },
    {
      "cell_type": "markdown",
      "id": "61bf9dba",
      "metadata": {
        "id": "61bf9dba"
      },
      "source": [
        "Tomamos el valor más grande."
      ]
    },
    {
      "cell_type": "code",
      "execution_count": null,
      "id": "30840b17",
      "metadata": {
        "id": "30840b17",
        "outputId": "42393e17-dd3a-4343-cbaf-8a899b14a0d9"
      },
      "outputs": [
        {
          "data": {
            "text/plain": [
              "34"
            ]
          },
          "execution_count": 9,
          "metadata": {},
          "output_type": "execute_result"
        }
      ],
      "source": [
        "mpcindex = argmax(persistence) "
      ]
    },
    {
      "cell_type": "markdown",
      "id": "dfe5345c",
      "metadata": {
        "id": "dfe5345c"
      },
      "source": [
        "Nos da las parejas de hoteles conectados que generan ese ciclo."
      ]
    },
    {
      "cell_type": "code",
      "execution_count": null,
      "id": "9e173739",
      "metadata": {
        "id": "9e173739",
        "outputId": "aa6398db-112a-48c0-cbb2-035133cd6b85"
      },
      "outputs": [
        {
          "data": {
            "text/plain": [
              "2×34 Matrix{Int64}:\n",
              " 105  74  68  79  154  154  132  119  94  …  115  128  164  58  166  152  157\n",
              " 111  42  58  92  152  155  128  114  89     103  115  159  79  155  126  148"
            ]
          },
          "execution_count": 14,
          "metadata": {},
          "output_type": "execute_result"
        }
      ],
      "source": [
        "classrep(eireneoutput, class = mpcindex, dim = 1) "
      ]
    },
    {
      "cell_type": "markdown",
      "id": "0da7256a",
      "metadata": {
        "id": "0da7256a"
      },
      "source": [
        "Miramos los valores de los hoteles en específico (saber cuáles hoteles son)."
      ]
    },
    {
      "cell_type": "code",
      "execution_count": null,
      "id": "85da08e9",
      "metadata": {
        "id": "85da08e9",
        "outputId": "5621d22f-49f9-46b3-ade0-befe78c14cbf"
      },
      "outputs": [
        {
          "data": {
            "text/plain": [
              "34-element Vector{Int64}:\n",
              " 105\n",
              " 111\n",
              "  74\n",
              "  42\n",
              "  68\n",
              "  58\n",
              "  79\n",
              "  92\n",
              " 154\n",
              " 152\n",
              " 155\n",
              " 132\n",
              " 128\n",
              "   ⋮\n",
              " 159\n",
              " 162\n",
              " 135\n",
              " 116\n",
              " 126\n",
              "  55\n",
              " 138\n",
              " 103\n",
              " 157\n",
              " 166\n",
              " 164\n",
              " 115"
            ]
          },
          "execution_count": 15,
          "metadata": {},
          "output_type": "execute_result"
        }
      ],
      "source": [
        "mpchotels = unique(classrep(eireneoutput, class = mpcindex, dim = 1)) "
      ]
    },
    {
      "cell_type": "markdown",
      "id": "9f5d442f",
      "metadata": {
        "id": "9f5d442f"
      },
      "source": [
        "Acá obtenemos la información sobre la ubicación de dichos hoteles."
      ]
    },
    {
      "cell_type": "code",
      "execution_count": null,
      "id": "8fbb98ce",
      "metadata": {
        "scrolled": true,
        "id": "8fbb98ce",
        "outputId": "4ebaf287-2a0f-4f7c-b47d-4bcb8aff1156"
      },
      "outputs": [
        {
          "data": {
            "text/plain": [
              "34×2 Matrix{Float64}:\n",
              " -77.0257  38.9032\n",
              " -77.0268  38.9029\n",
              " -76.9949  38.9058\n",
              " -76.9979  38.9102\n",
              " -77.0056  38.9063\n",
              " -77.0077  38.9076\n",
              " -77.0164  38.9055\n",
              " -77.0183  38.9044\n",
              " -76.9992  38.8878\n",
              " -76.9993  38.8911\n",
              " -77.0031  38.8862\n",
              " -77.0193  38.8997\n",
              " -77.0212  38.9\n",
              "   ⋮       \n",
              " -77.0159  38.8836\n",
              " -77.018   38.8831\n",
              " -77.0265  38.8993\n",
              " -77.0197  38.9018\n",
              " -76.9991  38.9004\n",
              " -77.0032  38.9078\n",
              " -77.0243  38.8971\n",
              " -77.0242  38.9033\n",
              " -77.0196  38.8856\n",
              " -77.004   38.8777\n",
              " -77.0097  38.879\n",
              " -77.0237  38.9018"
            ]
          },
          "execution_count": 16,
          "metadata": {},
          "output_type": "execute_result"
        }
      ],
      "source": [
        "mpcxy = hotelsxy[mpchotels, :] "
      ]
    },
    {
      "cell_type": "markdown",
      "id": "fad79210",
      "metadata": {
        "id": "fad79210"
      },
      "source": [
        "Graficamos la información obtenida en naranja."
      ]
    },
    {
      "cell_type": "code",
      "execution_count": null,
      "id": "cedc633a",
      "metadata": {
        "id": "cedc633a",
        "outputId": "b6da03fe-b3ef-4ee9-c0b6-2cef23ae7db4"
      },
      "outputs": [
        {
          "data": {
            "image/svg+xml": [
              "<?xml version=\"1.0\" encoding=\"utf-8\"?>\n",
              "<svg xmlns=\"http://www.w3.org/2000/svg\" xmlns:xlink=\"http://www.w3.org/1999/xlink\" width=\"600\" height=\"400\" viewBox=\"0 0 2400 1600\">\n",
              "<defs>\n",
              "  <clipPath id=\"clip300\">\n",
              "    <rect x=\"0\" y=\"0\" width=\"2400\" height=\"1600\"/>\n",
              "  </clipPath>\n",
              "</defs>\n",
              "<path clip-path=\"url(#clip300)\" d=\"\n",
              "M0 1600 L2400 1600 L2400 0 L0 0  Z\n",
              "  \" fill=\"#ffffff\" fill-rule=\"evenodd\" fill-opacity=\"1\"/>\n",
              "<defs>\n",
              "  <clipPath id=\"clip301\">\n",
              "    <rect x=\"480\" y=\"0\" width=\"1681\" height=\"1600\"/>\n",
              "  </clipPath>\n",
              "</defs>\n",
              "<path clip-path=\"url(#clip300)\" d=\"\n",
              "M279.704 1423.18 L2352.76 1423.18 L2352.76 123.472 L279.704 123.472  Z\n",
              "  \" fill=\"#ffffff\" fill-rule=\"evenodd\" fill-opacity=\"1\"/>\n",
              "<defs>\n",
              "  <clipPath id=\"clip302\">\n",
              "    <rect x=\"279\" y=\"123\" width=\"2074\" height=\"1301\"/>\n",
              "  </clipPath>\n",
              "</defs>\n",
              "<polyline clip-path=\"url(#clip302)\" style=\"stroke:#000000; stroke-linecap:round; stroke-linejoin:round; stroke-width:2; stroke-opacity:0.1; fill:none\" points=\"\n",
              "  368.708,1423.18 368.708,123.472 \n",
              "  \"/>\n",
              "<polyline clip-path=\"url(#clip302)\" style=\"stroke:#000000; stroke-linecap:round; stroke-linejoin:round; stroke-width:2; stroke-opacity:0.1; fill:none\" points=\"\n",
              "  923.881,1423.18 923.881,123.472 \n",
              "  \"/>\n",
              "<polyline clip-path=\"url(#clip302)\" style=\"stroke:#000000; stroke-linecap:round; stroke-linejoin:round; stroke-width:2; stroke-opacity:0.1; fill:none\" points=\"\n",
              "  1479.05,1423.18 1479.05,123.472 \n",
              "  \"/>\n",
              "<polyline clip-path=\"url(#clip302)\" style=\"stroke:#000000; stroke-linecap:round; stroke-linejoin:round; stroke-width:2; stroke-opacity:0.1; fill:none\" points=\"\n",
              "  2034.23,1423.18 2034.23,123.472 \n",
              "  \"/>\n",
              "<polyline clip-path=\"url(#clip300)\" style=\"stroke:#000000; stroke-linecap:round; stroke-linejoin:round; stroke-width:4; stroke-opacity:1; fill:none\" points=\"\n",
              "  279.704,1423.18 2352.76,1423.18 \n",
              "  \"/>\n",
              "<polyline clip-path=\"url(#clip300)\" style=\"stroke:#000000; stroke-linecap:round; stroke-linejoin:round; stroke-width:4; stroke-opacity:1; fill:none\" points=\"\n",
              "  368.708,1423.18 368.708,1404.28 \n",
              "  \"/>\n",
              "<polyline clip-path=\"url(#clip300)\" style=\"stroke:#000000; stroke-linecap:round; stroke-linejoin:round; stroke-width:4; stroke-opacity:1; fill:none\" points=\"\n",
              "  923.881,1423.18 923.881,1404.28 \n",
              "  \"/>\n",
              "<polyline clip-path=\"url(#clip300)\" style=\"stroke:#000000; stroke-linecap:round; stroke-linejoin:round; stroke-width:4; stroke-opacity:1; fill:none\" points=\"\n",
              "  1479.05,1423.18 1479.05,1404.28 \n",
              "  \"/>\n",
              "<polyline clip-path=\"url(#clip300)\" style=\"stroke:#000000; stroke-linecap:round; stroke-linejoin:round; stroke-width:4; stroke-opacity:1; fill:none\" points=\"\n",
              "  2034.23,1423.18 2034.23,1404.28 \n",
              "  \"/>\n",
              "<path clip-path=\"url(#clip300)\" d=\"M285.074 1468.75 L314.75 1468.75 L314.75 1472.69 L285.074 1472.69 L285.074 1468.75 Z\" fill=\"#000000\" fill-rule=\"evenodd\" fill-opacity=\"1\" /><path clip-path=\"url(#clip300)\" d=\"M323.662 1451.02 L345.884 1451.02 L345.884 1453.01 L333.337 1485.58 L328.453 1485.58 L340.259 1454.96 L323.662 1454.96 L323.662 1451.02 Z\" fill=\"#000000\" fill-rule=\"evenodd\" fill-opacity=\"1\" /><path clip-path=\"url(#clip300)\" d=\"M353.823 1451.02 L376.045 1451.02 L376.045 1453.01 L363.499 1485.58 L358.615 1485.58 L370.421 1454.96 L353.823 1454.96 L353.823 1451.02 Z\" fill=\"#000000\" fill-rule=\"evenodd\" fill-opacity=\"1\" /><path clip-path=\"url(#clip300)\" d=\"M385.166 1479.7 L390.05 1479.7 L390.05 1485.58 L385.166 1485.58 L385.166 1479.7 Z\" fill=\"#000000\" fill-rule=\"evenodd\" fill-opacity=\"1\" /><path clip-path=\"url(#clip300)\" d=\"M401.045 1481.64 L408.684 1481.64 L408.684 1455.28 L400.374 1456.95 L400.374 1452.69 L408.638 1451.02 L413.314 1451.02 L413.314 1481.64 L420.953 1481.64 L420.953 1485.58 L401.045 1485.58 L401.045 1481.64 Z\" fill=\"#000000\" fill-rule=\"evenodd\" fill-opacity=\"1\" /><path clip-path=\"url(#clip300)\" d=\"M440.397 1454.1 Q436.786 1454.1 434.957 1457.66 Q433.152 1461.2 433.152 1468.33 Q433.152 1475.44 434.957 1479.01 Q436.786 1482.55 440.397 1482.55 Q444.031 1482.55 445.837 1479.01 Q447.665 1475.44 447.665 1468.33 Q447.665 1461.2 445.837 1457.66 Q444.031 1454.1 440.397 1454.1 M440.397 1450.39 Q446.207 1450.39 449.263 1455 Q452.341 1459.58 452.341 1468.33 Q452.341 1477.06 449.263 1481.67 Q446.207 1486.25 440.397 1486.25 Q434.587 1486.25 431.508 1481.67 Q428.453 1477.06 428.453 1468.33 Q428.453 1459.58 431.508 1455 Q434.587 1450.39 440.397 1450.39 Z\" fill=\"#000000\" fill-rule=\"evenodd\" fill-opacity=\"1\" /><path clip-path=\"url(#clip300)\" d=\"M840.745 1468.75 L870.42 1468.75 L870.42 1472.69 L840.745 1472.69 L840.745 1468.75 Z\" fill=\"#000000\" fill-rule=\"evenodd\" fill-opacity=\"1\" /><path clip-path=\"url(#clip300)\" d=\"M879.332 1451.02 L901.555 1451.02 L901.555 1453.01 L889.008 1485.58 L884.124 1485.58 L895.93 1454.96 L879.332 1454.96 L879.332 1451.02 Z\" fill=\"#000000\" fill-rule=\"evenodd\" fill-opacity=\"1\" /><path clip-path=\"url(#clip300)\" d=\"M909.494 1451.02 L931.716 1451.02 L931.716 1453.01 L919.17 1485.58 L914.286 1485.58 L926.091 1454.96 L909.494 1454.96 L909.494 1451.02 Z\" fill=\"#000000\" fill-rule=\"evenodd\" fill-opacity=\"1\" /><path clip-path=\"url(#clip300)\" d=\"M940.837 1479.7 L945.721 1479.7 L945.721 1485.58 L940.837 1485.58 L940.837 1479.7 Z\" fill=\"#000000\" fill-rule=\"evenodd\" fill-opacity=\"1\" /><path clip-path=\"url(#clip300)\" d=\"M965.906 1454.1 Q962.295 1454.1 960.466 1457.66 Q958.661 1461.2 958.661 1468.33 Q958.661 1475.44 960.466 1479.01 Q962.295 1482.55 965.906 1482.55 Q969.54 1482.55 971.346 1479.01 Q973.174 1475.44 973.174 1468.33 Q973.174 1461.2 971.346 1457.66 Q969.54 1454.1 965.906 1454.1 M965.906 1450.39 Q971.716 1450.39 974.772 1455 Q977.85 1459.58 977.85 1468.33 Q977.85 1477.06 974.772 1481.67 Q971.716 1486.25 965.906 1486.25 Q960.096 1486.25 957.017 1481.67 Q953.962 1477.06 953.962 1468.33 Q953.962 1459.58 957.017 1455 Q960.096 1450.39 965.906 1450.39 Z\" fill=\"#000000\" fill-rule=\"evenodd\" fill-opacity=\"1\" /><path clip-path=\"url(#clip300)\" d=\"M986.114 1451.02 L1004.47 1451.02 L1004.47 1454.96 L990.397 1454.96 L990.397 1463.43 Q991.415 1463.08 992.434 1462.92 Q993.452 1462.73 994.471 1462.73 Q1000.26 1462.73 1003.64 1465.9 Q1007.02 1469.08 1007.02 1474.49 Q1007.02 1480.07 1003.54 1483.17 Q1000.07 1486.25 993.753 1486.25 Q991.577 1486.25 989.309 1485.88 Q987.063 1485.51 984.656 1484.77 L984.656 1480.07 Q986.739 1481.2 988.961 1481.76 Q991.184 1482.32 993.66 1482.32 Q997.665 1482.32 1000 1480.21 Q1002.34 1478.1 1002.34 1474.49 Q1002.34 1470.88 1000 1468.77 Q997.665 1466.67 993.66 1466.67 Q991.786 1466.67 989.911 1467.08 Q988.059 1467.5 986.114 1468.38 L986.114 1451.02 Z\" fill=\"#000000\" fill-rule=\"evenodd\" fill-opacity=\"1\" /><path clip-path=\"url(#clip300)\" d=\"M1395.42 1468.75 L1425.1 1468.75 L1425.1 1472.69 L1395.42 1472.69 L1395.42 1468.75 Z\" fill=\"#000000\" fill-rule=\"evenodd\" fill-opacity=\"1\" /><path clip-path=\"url(#clip300)\" d=\"M1434.01 1451.02 L1456.23 1451.02 L1456.23 1453.01 L1443.68 1485.58 L1438.8 1485.58 L1450.61 1454.96 L1434.01 1454.96 L1434.01 1451.02 Z\" fill=\"#000000\" fill-rule=\"evenodd\" fill-opacity=\"1\" /><path clip-path=\"url(#clip300)\" d=\"M1464.17 1451.02 L1486.39 1451.02 L1486.39 1453.01 L1473.85 1485.58 L1468.96 1485.58 L1480.77 1454.96 L1464.17 1454.96 L1464.17 1451.02 Z\" fill=\"#000000\" fill-rule=\"evenodd\" fill-opacity=\"1\" /><path clip-path=\"url(#clip300)\" d=\"M1495.51 1479.7 L1500.4 1479.7 L1500.4 1485.58 L1495.51 1485.58 L1495.51 1479.7 Z\" fill=\"#000000\" fill-rule=\"evenodd\" fill-opacity=\"1\" /><path clip-path=\"url(#clip300)\" d=\"M1520.58 1454.1 Q1516.97 1454.1 1515.14 1457.66 Q1513.34 1461.2 1513.34 1468.33 Q1513.34 1475.44 1515.14 1479.01 Q1516.97 1482.55 1520.58 1482.55 Q1524.22 1482.55 1526.02 1479.01 Q1527.85 1475.44 1527.85 1468.33 Q1527.85 1461.2 1526.02 1457.66 Q1524.22 1454.1 1520.58 1454.1 M1520.58 1450.39 Q1526.39 1450.39 1529.45 1455 Q1532.53 1459.58 1532.53 1468.33 Q1532.53 1477.06 1529.45 1481.67 Q1526.39 1486.25 1520.58 1486.25 Q1514.77 1486.25 1511.69 1481.67 Q1508.64 1477.06 1508.64 1468.33 Q1508.64 1459.58 1511.69 1455 Q1514.77 1450.39 1520.58 1450.39 Z\" fill=\"#000000\" fill-rule=\"evenodd\" fill-opacity=\"1\" /><path clip-path=\"url(#clip300)\" d=\"M1550.74 1454.1 Q1547.13 1454.1 1545.3 1457.66 Q1543.5 1461.2 1543.5 1468.33 Q1543.5 1475.44 1545.3 1479.01 Q1547.13 1482.55 1550.74 1482.55 Q1554.38 1482.55 1556.18 1479.01 Q1558.01 1475.44 1558.01 1468.33 Q1558.01 1461.2 1556.18 1457.66 Q1554.38 1454.1 1550.74 1454.1 M1550.74 1450.39 Q1556.55 1450.39 1559.61 1455 Q1562.69 1459.58 1562.69 1468.33 Q1562.69 1477.06 1559.61 1481.67 Q1556.55 1486.25 1550.74 1486.25 Q1544.93 1486.25 1541.85 1481.67 Q1538.8 1477.06 1538.8 1468.33 Q1538.8 1459.58 1541.85 1455 Q1544.93 1450.39 1550.74 1450.39 Z\" fill=\"#000000\" fill-rule=\"evenodd\" fill-opacity=\"1\" /><path clip-path=\"url(#clip300)\" d=\"M1951.09 1468.75 L1980.77 1468.75 L1980.77 1472.69 L1951.09 1472.69 L1951.09 1468.75 Z\" fill=\"#000000\" fill-rule=\"evenodd\" fill-opacity=\"1\" /><path clip-path=\"url(#clip300)\" d=\"M1989.68 1451.02 L2011.9 1451.02 L2011.9 1453.01 L1999.35 1485.58 L1994.47 1485.58 L2006.28 1454.96 L1989.68 1454.96 L1989.68 1451.02 Z\" fill=\"#000000\" fill-rule=\"evenodd\" fill-opacity=\"1\" /><path clip-path=\"url(#clip300)\" d=\"M2031.6 1466.44 Q2028.45 1466.44 2026.6 1468.59 Q2024.77 1470.74 2024.77 1474.49 Q2024.77 1478.22 2026.6 1480.39 Q2028.45 1482.55 2031.6 1482.55 Q2034.75 1482.55 2036.58 1480.39 Q2038.43 1478.22 2038.43 1474.49 Q2038.43 1470.74 2036.58 1468.59 Q2034.75 1466.44 2031.6 1466.44 M2040.88 1451.78 L2040.88 1456.04 Q2039.12 1455.21 2037.32 1454.77 Q2035.54 1454.33 2033.78 1454.33 Q2029.15 1454.33 2026.69 1457.45 Q2024.26 1460.58 2023.91 1466.9 Q2025.28 1464.89 2027.34 1463.82 Q2029.4 1462.73 2031.88 1462.73 Q2037.09 1462.73 2040.1 1465.9 Q2043.13 1469.05 2043.13 1474.49 Q2043.13 1479.82 2039.98 1483.03 Q2036.83 1486.25 2031.6 1486.25 Q2025.6 1486.25 2022.43 1481.67 Q2019.26 1477.06 2019.26 1468.33 Q2019.26 1460.14 2023.15 1455.28 Q2027.04 1450.39 2033.59 1450.39 Q2035.35 1450.39 2037.13 1450.74 Q2038.94 1451.09 2040.88 1451.78 Z\" fill=\"#000000\" fill-rule=\"evenodd\" fill-opacity=\"1\" /><path clip-path=\"url(#clip300)\" d=\"M2051.18 1479.7 L2056.07 1479.7 L2056.07 1485.58 L2051.18 1485.58 L2051.18 1479.7 Z\" fill=\"#000000\" fill-rule=\"evenodd\" fill-opacity=\"1\" /><path clip-path=\"url(#clip300)\" d=\"M2066.39 1484.86 L2066.39 1480.6 Q2068.15 1481.44 2069.96 1481.88 Q2071.76 1482.32 2073.5 1482.32 Q2078.13 1482.32 2080.56 1479.21 Q2083.01 1476.09 2083.36 1469.75 Q2082.02 1471.74 2079.96 1472.8 Q2077.9 1473.87 2075.4 1473.87 Q2070.21 1473.87 2067.18 1470.74 Q2064.17 1467.59 2064.17 1462.15 Q2064.17 1456.83 2067.32 1453.61 Q2070.47 1450.39 2075.7 1450.39 Q2081.69 1450.39 2084.84 1455 Q2088.01 1459.58 2088.01 1468.33 Q2088.01 1476.51 2084.12 1481.39 Q2080.26 1486.25 2073.71 1486.25 Q2071.95 1486.25 2070.14 1485.9 Q2068.34 1485.56 2066.39 1484.86 M2075.7 1470.21 Q2078.85 1470.21 2080.67 1468.06 Q2082.53 1465.9 2082.53 1462.15 Q2082.53 1458.43 2080.67 1456.27 Q2078.85 1454.1 2075.7 1454.1 Q2072.55 1454.1 2070.7 1456.27 Q2068.87 1458.43 2068.87 1462.15 Q2068.87 1465.9 2070.7 1468.06 Q2072.55 1470.21 2075.7 1470.21 Z\" fill=\"#000000\" fill-rule=\"evenodd\" fill-opacity=\"1\" /><path clip-path=\"url(#clip300)\" d=\"M2096.46 1451.02 L2114.82 1451.02 L2114.82 1454.96 L2100.74 1454.96 L2100.74 1463.43 Q2101.76 1463.08 2102.78 1462.92 Q2103.8 1462.73 2104.82 1462.73 Q2110.6 1462.73 2113.98 1465.9 Q2117.36 1469.08 2117.36 1474.49 Q2117.36 1480.07 2113.89 1483.17 Q2110.42 1486.25 2104.1 1486.25 Q2101.92 1486.25 2099.66 1485.88 Q2097.41 1485.51 2095 1484.77 L2095 1480.07 Q2097.09 1481.2 2099.31 1481.76 Q2101.53 1482.32 2104.01 1482.32 Q2108.01 1482.32 2110.35 1480.21 Q2112.69 1478.1 2112.69 1474.49 Q2112.69 1470.88 2110.35 1468.77 Q2108.01 1466.67 2104.01 1466.67 Q2102.13 1466.67 2100.26 1467.08 Q2098.41 1467.5 2096.46 1468.38 L2096.46 1451.02 Z\" fill=\"#000000\" fill-rule=\"evenodd\" fill-opacity=\"1\" /><path clip-path=\"url(#clip300)\" d=\"M1167.46 1518.52 L1173.32 1518.52 L1173.32 1568.04 L1167.46 1568.04 L1167.46 1518.52 Z\" fill=\"#000000\" fill-rule=\"evenodd\" fill-opacity=\"1\" /><path clip-path=\"url(#clip300)\" d=\"M1199.39 1536.5 Q1194.68 1536.5 1191.94 1540.19 Q1189.2 1543.85 1189.2 1550.25 Q1189.2 1556.65 1191.91 1560.34 Q1194.64 1564 1199.39 1564 Q1204.07 1564 1206.8 1560.31 Q1209.54 1556.62 1209.54 1550.25 Q1209.54 1543.92 1206.8 1540.23 Q1204.07 1536.5 1199.39 1536.5 M1199.39 1531.54 Q1207.03 1531.54 1211.39 1536.5 Q1215.75 1541.47 1215.75 1550.25 Q1215.75 1559 1211.39 1564 Q1207.03 1568.97 1199.39 1568.97 Q1191.72 1568.97 1187.36 1564 Q1183.03 1559 1183.03 1550.25 Q1183.03 1541.47 1187.36 1536.5 Q1191.72 1531.54 1199.39 1531.54 Z\" fill=\"#000000\" fill-rule=\"evenodd\" fill-opacity=\"1\" /><path clip-path=\"url(#clip300)\" d=\"M1255.09 1546.53 L1255.09 1568.04 L1249.23 1568.04 L1249.23 1546.72 Q1249.23 1541.66 1247.26 1539.14 Q1245.28 1536.63 1241.34 1536.63 Q1236.59 1536.63 1233.86 1539.65 Q1231.12 1542.68 1231.12 1547.9 L1231.12 1568.04 L1225.23 1568.04 L1225.23 1532.4 L1231.12 1532.4 L1231.12 1537.93 Q1233.22 1534.72 1236.05 1533.13 Q1238.92 1531.54 1242.64 1531.54 Q1248.79 1531.54 1251.94 1535.36 Q1255.09 1539.14 1255.09 1546.53 Z\" fill=\"#000000\" fill-rule=\"evenodd\" fill-opacity=\"1\" /><path clip-path=\"url(#clip300)\" d=\"M1290.23 1549.81 Q1290.23 1543.44 1287.58 1539.94 Q1284.97 1536.44 1280.23 1536.44 Q1275.52 1536.44 1272.88 1539.94 Q1270.27 1543.44 1270.27 1549.81 Q1270.27 1556.14 1272.88 1559.64 Q1275.52 1563.14 1280.23 1563.14 Q1284.97 1563.14 1287.58 1559.64 Q1290.23 1556.14 1290.23 1549.81 M1296.08 1563.62 Q1296.08 1572.72 1292.04 1577.15 Q1288 1581.6 1279.66 1581.6 Q1276.57 1581.6 1273.83 1581.13 Q1271.1 1580.68 1268.52 1579.72 L1268.52 1574.03 Q1271.1 1575.43 1273.61 1576.1 Q1276.13 1576.76 1278.74 1576.76 Q1284.5 1576.76 1287.36 1573.74 Q1290.23 1570.75 1290.23 1564.67 L1290.23 1561.77 Q1288.41 1564.92 1285.58 1566.48 Q1282.75 1568.04 1278.8 1568.04 Q1272.24 1568.04 1268.23 1563.05 Q1264.22 1558.05 1264.22 1549.81 Q1264.22 1541.53 1268.23 1536.53 Q1272.24 1531.54 1278.8 1531.54 Q1282.75 1531.54 1285.58 1533.1 Q1288.41 1534.66 1290.23 1537.81 L1290.23 1532.4 L1296.08 1532.4 L1296.08 1563.62 Z\" fill=\"#000000\" fill-rule=\"evenodd\" fill-opacity=\"1\" /><path clip-path=\"url(#clip300)\" d=\"M1308.15 1532.4 L1314 1532.4 L1314 1568.04 L1308.15 1568.04 L1308.15 1532.4 M1308.15 1518.52 L1314 1518.52 L1314 1525.93 L1308.15 1525.93 L1308.15 1518.52 Z\" fill=\"#000000\" fill-rule=\"evenodd\" fill-opacity=\"1\" /><path clip-path=\"url(#clip300)\" d=\"M1332.05 1522.27 L1332.05 1532.4 L1344.11 1532.4 L1344.11 1536.95 L1332.05 1536.95 L1332.05 1556.3 Q1332.05 1560.66 1333.23 1561.9 Q1334.44 1563.14 1338.1 1563.14 L1344.11 1563.14 L1344.11 1568.04 L1338.1 1568.04 Q1331.32 1568.04 1328.74 1565.53 Q1326.16 1562.98 1326.16 1556.3 L1326.16 1536.95 L1321.86 1536.95 L1321.86 1532.4 L1326.16 1532.4 L1326.16 1522.27 L1332.05 1522.27 Z\" fill=\"#000000\" fill-rule=\"evenodd\" fill-opacity=\"1\" /><path clip-path=\"url(#clip300)\" d=\"M1351.21 1553.98 L1351.21 1532.4 L1357.07 1532.4 L1357.07 1553.75 Q1357.07 1558.81 1359.04 1561.36 Q1361.01 1563.87 1364.96 1563.87 Q1369.7 1563.87 1372.44 1560.85 Q1375.21 1557.83 1375.21 1552.61 L1375.21 1532.4 L1381.06 1532.4 L1381.06 1568.04 L1375.21 1568.04 L1375.21 1562.57 Q1373.08 1565.82 1370.24 1567.41 Q1367.44 1568.97 1363.72 1568.97 Q1357.58 1568.97 1354.39 1565.15 Q1351.21 1561.33 1351.21 1553.98 M1365.95 1531.54 L1365.95 1531.54 Z\" fill=\"#000000\" fill-rule=\"evenodd\" fill-opacity=\"1\" /><path clip-path=\"url(#clip300)\" d=\"M1416.59 1537.81 L1416.59 1518.52 L1422.44 1518.52 L1422.44 1568.04 L1416.59 1568.04 L1416.59 1562.7 Q1414.74 1565.88 1411.91 1567.44 Q1409.11 1568.97 1405.16 1568.97 Q1398.7 1568.97 1394.62 1563.81 Q1390.58 1558.65 1390.58 1550.25 Q1390.58 1541.85 1394.62 1536.69 Q1398.7 1531.54 1405.16 1531.54 Q1409.11 1531.54 1411.91 1533.1 Q1414.74 1534.62 1416.59 1537.81 M1396.63 1550.25 Q1396.63 1556.71 1399.27 1560.4 Q1401.94 1564.07 1406.59 1564.07 Q1411.24 1564.07 1413.91 1560.4 Q1416.59 1556.71 1416.59 1550.25 Q1416.59 1543.79 1413.91 1540.13 Q1411.24 1536.44 1406.59 1536.44 Q1401.94 1536.44 1399.27 1540.13 Q1396.63 1543.79 1396.63 1550.25 Z\" fill=\"#000000\" fill-rule=\"evenodd\" fill-opacity=\"1\" /><path clip-path=\"url(#clip300)\" d=\"M1465 1548.76 L1465 1551.62 L1438.07 1551.62 Q1438.45 1557.67 1441.7 1560.85 Q1444.98 1564 1450.8 1564 Q1454.17 1564 1457.33 1563.17 Q1460.51 1562.35 1463.63 1560.69 L1463.63 1566.23 Q1460.48 1567.57 1457.17 1568.27 Q1453.86 1568.97 1450.45 1568.97 Q1441.92 1568.97 1436.92 1564 Q1431.96 1559.04 1431.96 1550.57 Q1431.96 1541.82 1436.67 1536.69 Q1441.41 1531.54 1449.43 1531.54 Q1456.63 1531.54 1460.8 1536.18 Q1465 1540.8 1465 1548.76 M1459.14 1547.04 Q1459.08 1542.23 1456.43 1539.37 Q1453.82 1536.5 1449.5 1536.5 Q1444.59 1536.5 1441.63 1539.27 Q1438.71 1542.04 1438.26 1547.07 L1459.14 1547.04 Z\" fill=\"#000000\" fill-rule=\"evenodd\" fill-opacity=\"1\" /><polyline clip-path=\"url(#clip302)\" style=\"stroke:#000000; stroke-linecap:round; stroke-linejoin:round; stroke-width:2; stroke-opacity:0.1; fill:none\" points=\"\n",
              "  279.704,1323.18 2352.76,1323.18 \n",
              "  \"/>\n",
              "<polyline clip-path=\"url(#clip302)\" style=\"stroke:#000000; stroke-linecap:round; stroke-linejoin:round; stroke-width:2; stroke-opacity:0.1; fill:none\" points=\"\n",
              "  279.704,1070.57 2352.76,1070.57 \n",
              "  \"/>\n",
              "<polyline clip-path=\"url(#clip302)\" style=\"stroke:#000000; stroke-linecap:round; stroke-linejoin:round; stroke-width:2; stroke-opacity:0.1; fill:none\" points=\"\n",
              "  279.704,817.962 2352.76,817.962 \n",
              "  \"/>\n",
              "<polyline clip-path=\"url(#clip302)\" style=\"stroke:#000000; stroke-linecap:round; stroke-linejoin:round; stroke-width:2; stroke-opacity:0.1; fill:none\" points=\"\n",
              "  279.704,565.355 2352.76,565.355 \n",
              "  \"/>\n",
              "<polyline clip-path=\"url(#clip302)\" style=\"stroke:#000000; stroke-linecap:round; stroke-linejoin:round; stroke-width:2; stroke-opacity:0.1; fill:none\" points=\"\n",
              "  279.704,312.748 2352.76,312.748 \n",
              "  \"/>\n",
              "<polyline clip-path=\"url(#clip300)\" style=\"stroke:#000000; stroke-linecap:round; stroke-linejoin:round; stroke-width:4; stroke-opacity:1; fill:none\" points=\"\n",
              "  279.704,1423.18 279.704,123.472 \n",
              "  \"/>\n",
              "<polyline clip-path=\"url(#clip300)\" style=\"stroke:#000000; stroke-linecap:round; stroke-linejoin:round; stroke-width:4; stroke-opacity:1; fill:none\" points=\"\n",
              "  279.704,1323.18 298.602,1323.18 \n",
              "  \"/>\n",
              "<polyline clip-path=\"url(#clip300)\" style=\"stroke:#000000; stroke-linecap:round; stroke-linejoin:round; stroke-width:4; stroke-opacity:1; fill:none\" points=\"\n",
              "  279.704,1070.57 298.602,1070.57 \n",
              "  \"/>\n",
              "<polyline clip-path=\"url(#clip300)\" style=\"stroke:#000000; stroke-linecap:round; stroke-linejoin:round; stroke-width:4; stroke-opacity:1; fill:none\" points=\"\n",
              "  279.704,817.962 298.602,817.962 \n",
              "  \"/>\n",
              "<polyline clip-path=\"url(#clip300)\" style=\"stroke:#000000; stroke-linecap:round; stroke-linejoin:round; stroke-width:4; stroke-opacity:1; fill:none\" points=\"\n",
              "  279.704,565.355 298.602,565.355 \n",
              "  \"/>\n",
              "<polyline clip-path=\"url(#clip300)\" style=\"stroke:#000000; stroke-linecap:round; stroke-linejoin:round; stroke-width:4; stroke-opacity:1; fill:none\" points=\"\n",
              "  279.704,312.748 298.602,312.748 \n",
              "  \"/>\n",
              "<path clip-path=\"url(#clip300)\" d=\"M130.464 1321.82 Q133.82 1322.54 135.695 1324.81 Q137.593 1327.08 137.593 1330.41 Q137.593 1335.53 134.075 1338.33 Q130.556 1341.13 124.075 1341.13 Q121.899 1341.13 119.584 1340.69 Q117.293 1340.27 114.839 1339.41 L114.839 1334.9 Q116.783 1336.04 119.098 1336.61 Q121.413 1337.19 123.936 1337.19 Q128.334 1337.19 130.626 1335.46 Q132.941 1333.72 132.941 1330.41 Q132.941 1327.35 130.788 1325.64 Q128.658 1323.91 124.839 1323.91 L120.811 1323.91 L120.811 1320.06 L125.024 1320.06 Q128.473 1320.06 130.302 1318.7 Q132.13 1317.31 132.13 1314.72 Q132.13 1312.05 130.232 1310.64 Q128.357 1309.21 124.839 1309.21 Q122.918 1309.21 120.718 1309.62 Q118.519 1310.04 115.881 1310.92 L115.881 1306.75 Q118.543 1306.01 120.857 1305.64 Q123.195 1305.27 125.255 1305.27 Q130.58 1305.27 133.681 1307.7 Q136.783 1310.11 136.783 1314.23 Q136.783 1317.1 135.14 1319.09 Q133.496 1321.06 130.464 1321.82 Z\" fill=\"#000000\" fill-rule=\"evenodd\" fill-opacity=\"1\" /><path clip-path=\"url(#clip300)\" d=\"M156.459 1324.04 Q153.126 1324.04 151.204 1325.83 Q149.306 1327.61 149.306 1330.73 Q149.306 1333.86 151.204 1335.64 Q153.126 1337.42 156.459 1337.42 Q159.792 1337.42 161.714 1335.64 Q163.635 1333.84 163.635 1330.73 Q163.635 1327.61 161.714 1325.83 Q159.815 1324.04 156.459 1324.04 M151.783 1322.05 Q148.774 1321.31 147.084 1319.25 Q145.417 1317.19 145.417 1314.23 Q145.417 1310.09 148.357 1307.68 Q151.32 1305.27 156.459 1305.27 Q161.621 1305.27 164.561 1307.68 Q167.501 1310.09 167.501 1314.23 Q167.501 1317.19 165.811 1319.25 Q164.144 1321.31 161.158 1322.05 Q164.538 1322.84 166.413 1325.13 Q168.311 1327.42 168.311 1330.73 Q168.311 1335.76 165.232 1338.44 Q162.177 1341.13 156.459 1341.13 Q150.741 1341.13 147.663 1338.44 Q144.607 1335.76 144.607 1330.73 Q144.607 1327.42 146.505 1325.13 Q148.403 1322.84 151.783 1322.05 M150.07 1314.67 Q150.07 1317.35 151.737 1318.86 Q153.427 1320.36 156.459 1320.36 Q159.468 1320.36 161.158 1318.86 Q162.871 1317.35 162.871 1314.67 Q162.871 1311.98 161.158 1310.48 Q159.468 1308.98 156.459 1308.98 Q153.427 1308.98 151.737 1310.48 Q150.07 1311.98 150.07 1314.67 Z\" fill=\"#000000\" fill-rule=\"evenodd\" fill-opacity=\"1\" /><path clip-path=\"url(#clip300)\" d=\"M176.621 1334.58 L181.505 1334.58 L181.505 1340.46 L176.621 1340.46 L176.621 1334.58 Z\" fill=\"#000000\" fill-rule=\"evenodd\" fill-opacity=\"1\" /><path clip-path=\"url(#clip300)\" d=\"M201.69 1324.04 Q198.357 1324.04 196.436 1325.83 Q194.538 1327.61 194.538 1330.73 Q194.538 1333.86 196.436 1335.64 Q198.357 1337.42 201.69 1337.42 Q205.024 1337.42 206.945 1335.64 Q208.866 1333.84 208.866 1330.73 Q208.866 1327.61 206.945 1325.83 Q205.047 1324.04 201.69 1324.04 M197.014 1322.05 Q194.005 1321.31 192.315 1319.25 Q190.649 1317.19 190.649 1314.23 Q190.649 1310.09 193.588 1307.68 Q196.551 1305.27 201.69 1305.27 Q206.852 1305.27 209.792 1307.68 Q212.732 1310.09 212.732 1314.23 Q212.732 1317.19 211.042 1319.25 Q209.375 1321.31 206.389 1322.05 Q209.769 1322.84 211.644 1325.13 Q213.542 1327.42 213.542 1330.73 Q213.542 1335.76 210.463 1338.44 Q207.408 1341.13 201.69 1341.13 Q195.973 1341.13 192.894 1338.44 Q189.838 1335.76 189.838 1330.73 Q189.838 1327.42 191.737 1325.13 Q193.635 1322.84 197.014 1322.05 M195.301 1314.67 Q195.301 1317.35 196.968 1318.86 Q198.658 1320.36 201.69 1320.36 Q204.699 1320.36 206.389 1318.86 Q208.102 1317.35 208.102 1314.67 Q208.102 1311.98 206.389 1310.48 Q204.699 1308.98 201.69 1308.98 Q198.658 1308.98 196.968 1310.48 Q195.301 1311.98 195.301 1314.67 Z\" fill=\"#000000\" fill-rule=\"evenodd\" fill-opacity=\"1\" /><path clip-path=\"url(#clip300)\" d=\"M231.852 1324.04 Q228.519 1324.04 226.598 1325.83 Q224.699 1327.61 224.699 1330.73 Q224.699 1333.86 226.598 1335.64 Q228.519 1337.42 231.852 1337.42 Q235.185 1337.42 237.107 1335.64 Q239.028 1333.84 239.028 1330.73 Q239.028 1327.61 237.107 1325.83 Q235.209 1324.04 231.852 1324.04 M227.176 1322.05 Q224.167 1321.31 222.477 1319.25 Q220.811 1317.19 220.811 1314.23 Q220.811 1310.09 223.75 1307.68 Q226.713 1305.27 231.852 1305.27 Q237.014 1305.27 239.954 1307.68 Q242.894 1310.09 242.894 1314.23 Q242.894 1317.19 241.204 1319.25 Q239.537 1321.31 236.551 1322.05 Q239.931 1322.84 241.806 1325.13 Q243.704 1327.42 243.704 1330.73 Q243.704 1335.76 240.625 1338.44 Q237.57 1341.13 231.852 1341.13 Q226.135 1341.13 223.056 1338.44 Q220 1335.76 220 1330.73 Q220 1327.42 221.898 1325.13 Q223.797 1322.84 227.176 1322.05 M225.463 1314.67 Q225.463 1317.35 227.13 1318.86 Q228.82 1320.36 231.852 1320.36 Q234.861 1320.36 236.551 1318.86 Q238.264 1317.35 238.264 1314.67 Q238.264 1311.98 236.551 1310.48 Q234.861 1308.98 231.852 1308.98 Q228.82 1308.98 227.13 1310.48 Q225.463 1311.98 225.463 1314.67 Z\" fill=\"#000000\" fill-rule=\"evenodd\" fill-opacity=\"1\" /><path clip-path=\"url(#clip300)\" d=\"M130.371 1069.22 Q133.728 1069.93 135.603 1072.2 Q137.501 1074.47 137.501 1077.8 Q137.501 1082.92 133.982 1085.72 Q130.464 1088.52 123.982 1088.52 Q121.806 1088.52 119.492 1088.08 Q117.2 1087.66 114.746 1086.81 L114.746 1082.29 Q116.691 1083.43 119.006 1084.01 Q121.32 1084.59 123.843 1084.59 Q128.242 1084.59 130.533 1082.85 Q132.848 1081.11 132.848 1077.8 Q132.848 1074.75 130.695 1073.03 Q128.566 1071.3 124.746 1071.3 L120.718 1071.3 L120.718 1067.46 L124.931 1067.46 Q128.38 1067.46 130.209 1066.09 Q132.038 1064.7 132.038 1062.11 Q132.038 1059.45 130.14 1058.03 Q128.265 1056.6 124.746 1056.6 Q122.825 1056.6 120.626 1057.02 Q118.427 1057.43 115.788 1058.31 L115.788 1054.15 Q118.45 1053.41 120.765 1053.03 Q123.103 1052.66 125.163 1052.66 Q130.487 1052.66 133.589 1055.1 Q136.691 1057.5 136.691 1061.62 Q136.691 1064.49 135.047 1066.48 Q133.404 1068.45 130.371 1069.22 Z\" fill=\"#000000\" fill-rule=\"evenodd\" fill-opacity=\"1\" /><path clip-path=\"url(#clip300)\" d=\"M156.366 1071.44 Q153.033 1071.44 151.112 1073.22 Q149.214 1075 149.214 1078.13 Q149.214 1081.25 151.112 1083.03 Q153.033 1084.82 156.366 1084.82 Q159.7 1084.82 161.621 1083.03 Q163.542 1081.23 163.542 1078.13 Q163.542 1075 161.621 1073.22 Q159.723 1071.44 156.366 1071.44 M151.691 1069.45 Q148.681 1068.71 146.991 1066.65 Q145.325 1064.59 145.325 1061.62 Q145.325 1057.48 148.265 1055.07 Q151.228 1052.66 156.366 1052.66 Q161.528 1052.66 164.468 1055.07 Q167.408 1057.48 167.408 1061.62 Q167.408 1064.59 165.718 1066.65 Q164.052 1068.71 161.065 1069.45 Q164.445 1070.23 166.32 1072.53 Q168.218 1074.82 168.218 1078.13 Q168.218 1083.15 165.14 1085.84 Q162.084 1088.52 156.366 1088.52 Q150.649 1088.52 147.57 1085.84 Q144.515 1083.15 144.515 1078.13 Q144.515 1074.82 146.413 1072.53 Q148.311 1070.23 151.691 1069.45 M149.978 1062.06 Q149.978 1064.75 151.644 1066.25 Q153.334 1067.76 156.366 1067.76 Q159.376 1067.76 161.065 1066.25 Q162.778 1064.75 162.778 1062.06 Q162.778 1059.38 161.065 1057.87 Q159.376 1056.37 156.366 1056.37 Q153.334 1056.37 151.644 1057.87 Q149.978 1059.38 149.978 1062.06 Z\" fill=\"#000000\" fill-rule=\"evenodd\" fill-opacity=\"1\" /><path clip-path=\"url(#clip300)\" d=\"M176.528 1081.97 L181.413 1081.97 L181.413 1087.85 L176.528 1087.85 L176.528 1081.97 Z\" fill=\"#000000\" fill-rule=\"evenodd\" fill-opacity=\"1\" /><path clip-path=\"url(#clip300)\" d=\"M191.737 1087.13 L191.737 1082.87 Q193.496 1083.71 195.301 1084.15 Q197.107 1084.59 198.843 1084.59 Q203.473 1084.59 205.903 1081.48 Q208.357 1078.36 208.704 1072.02 Q207.362 1074.01 205.301 1075.07 Q203.241 1076.14 200.741 1076.14 Q195.556 1076.14 192.524 1073.01 Q189.514 1069.86 189.514 1064.42 Q189.514 1059.1 192.663 1055.88 Q195.811 1052.66 201.042 1052.66 Q207.037 1052.66 210.186 1057.27 Q213.357 1061.85 213.357 1070.6 Q213.357 1078.78 209.468 1083.66 Q205.602 1088.52 199.051 1088.52 Q197.292 1088.52 195.487 1088.17 Q193.681 1087.83 191.737 1087.13 M201.042 1072.48 Q204.19 1072.48 206.019 1070.33 Q207.871 1068.17 207.871 1064.42 Q207.871 1060.7 206.019 1058.54 Q204.19 1056.37 201.042 1056.37 Q197.894 1056.37 196.042 1058.54 Q194.213 1060.7 194.213 1064.42 Q194.213 1068.17 196.042 1070.33 Q197.894 1072.48 201.042 1072.48 Z\" fill=\"#000000\" fill-rule=\"evenodd\" fill-opacity=\"1\" /><path clip-path=\"url(#clip300)\" d=\"M231.76 1056.37 Q228.148 1056.37 226.32 1059.93 Q224.514 1063.47 224.514 1070.6 Q224.514 1077.71 226.32 1081.28 Q228.148 1084.82 231.76 1084.82 Q235.394 1084.82 237.199 1081.28 Q239.028 1077.71 239.028 1070.6 Q239.028 1063.47 237.199 1059.93 Q235.394 1056.37 231.76 1056.37 M231.76 1052.66 Q237.57 1052.66 240.625 1057.27 Q243.704 1061.85 243.704 1070.6 Q243.704 1079.33 240.625 1083.94 Q237.57 1088.52 231.76 1088.52 Q225.949 1088.52 222.871 1083.94 Q219.815 1079.33 219.815 1070.6 Q219.815 1061.85 222.871 1057.27 Q225.949 1052.66 231.76 1052.66 Z\" fill=\"#000000\" fill-rule=\"evenodd\" fill-opacity=\"1\" /><path clip-path=\"url(#clip300)\" d=\"M131.968 816.608 Q135.325 817.326 137.2 819.594 Q139.098 821.863 139.098 825.196 Q139.098 830.312 135.579 833.113 Q132.061 835.914 125.58 835.914 Q123.404 835.914 121.089 835.474 Q118.797 835.057 116.343 834.201 L116.343 829.687 Q118.288 830.821 120.603 831.4 Q122.918 831.979 125.441 831.979 Q129.839 831.979 132.13 830.242 Q134.445 828.506 134.445 825.196 Q134.445 822.141 132.292 820.428 Q130.163 818.692 126.343 818.692 L122.316 818.692 L122.316 814.849 L126.529 814.849 Q129.978 814.849 131.806 813.483 Q133.635 812.094 133.635 809.502 Q133.635 806.84 131.737 805.428 Q129.862 803.993 126.343 803.993 Q124.422 803.993 122.223 804.409 Q120.024 804.826 117.385 805.706 L117.385 801.539 Q120.047 800.798 122.362 800.428 Q124.7 800.057 126.76 800.057 Q132.084 800.057 135.186 802.488 Q138.288 804.895 138.288 809.016 Q138.288 811.886 136.644 813.877 Q135.001 815.844 131.968 816.608 Z\" fill=\"#000000\" fill-rule=\"evenodd\" fill-opacity=\"1\" /><path clip-path=\"url(#clip300)\" d=\"M157.964 818.83 Q154.63 818.83 152.709 820.613 Q150.811 822.395 150.811 825.52 Q150.811 828.645 152.709 830.428 Q154.63 832.21 157.964 832.21 Q161.297 832.21 163.218 830.428 Q165.14 828.622 165.14 825.52 Q165.14 822.395 163.218 820.613 Q161.32 818.83 157.964 818.83 M153.288 816.84 Q150.278 816.099 148.589 814.039 Q146.922 811.979 146.922 809.016 Q146.922 804.872 149.862 802.465 Q152.825 800.057 157.964 800.057 Q163.126 800.057 166.065 802.465 Q169.005 804.872 169.005 809.016 Q169.005 811.979 167.315 814.039 Q165.649 816.099 162.663 816.84 Q166.042 817.627 167.917 819.918 Q169.815 822.21 169.815 825.52 Q169.815 830.543 166.737 833.229 Q163.681 835.914 157.964 835.914 Q152.246 835.914 149.167 833.229 Q146.112 830.543 146.112 825.52 Q146.112 822.21 148.01 819.918 Q149.908 817.627 153.288 816.84 M151.575 809.455 Q151.575 812.141 153.241 813.645 Q154.931 815.15 157.964 815.15 Q160.973 815.15 162.663 813.645 Q164.376 812.141 164.376 809.455 Q164.376 806.77 162.663 805.266 Q160.973 803.761 157.964 803.761 Q154.931 803.761 153.241 805.266 Q151.575 806.77 151.575 809.455 Z\" fill=\"#000000\" fill-rule=\"evenodd\" fill-opacity=\"1\" /><path clip-path=\"url(#clip300)\" d=\"M178.126 829.363 L183.01 829.363 L183.01 835.242 L178.126 835.242 L178.126 829.363 Z\" fill=\"#000000\" fill-rule=\"evenodd\" fill-opacity=\"1\" /><path clip-path=\"url(#clip300)\" d=\"M193.334 834.525 L193.334 830.266 Q195.093 831.099 196.899 831.539 Q198.704 831.979 200.44 831.979 Q205.07 831.979 207.5 828.877 Q209.954 825.752 210.301 819.409 Q208.959 821.4 206.899 822.465 Q204.838 823.529 202.338 823.529 Q197.153 823.529 194.121 820.405 Q191.112 817.256 191.112 811.817 Q191.112 806.493 194.26 803.275 Q197.408 800.057 202.639 800.057 Q208.635 800.057 211.783 804.664 Q214.954 809.247 214.954 817.997 Q214.954 826.168 211.065 831.053 Q207.199 835.914 200.649 835.914 Q198.889 835.914 197.084 835.566 Q195.278 835.219 193.334 834.525 M202.639 819.872 Q205.787 819.872 207.616 817.719 Q209.468 815.567 209.468 811.817 Q209.468 808.09 207.616 805.937 Q205.787 803.761 202.639 803.761 Q199.491 803.761 197.639 805.937 Q195.811 808.09 195.811 811.817 Q195.811 815.567 197.639 817.719 Q199.491 819.872 202.639 819.872 Z\" fill=\"#000000\" fill-rule=\"evenodd\" fill-opacity=\"1\" /><path clip-path=\"url(#clip300)\" d=\"M227.385 831.307 L243.704 831.307 L243.704 835.242 L221.76 835.242 L221.76 831.307 Q224.422 828.553 229.005 823.923 Q233.611 819.27 234.792 817.928 Q237.037 815.405 237.917 813.668 Q238.82 811.909 238.82 810.219 Q238.82 807.465 236.875 805.729 Q234.954 803.993 231.852 803.993 Q229.653 803.993 227.199 804.756 Q224.769 805.52 221.991 807.071 L221.991 802.349 Q224.815 801.215 227.269 800.636 Q229.723 800.057 231.76 800.057 Q237.13 800.057 240.324 802.743 Q243.519 805.428 243.519 809.918 Q243.519 812.048 242.709 813.969 Q241.922 815.868 239.815 818.46 Q239.236 819.131 236.135 822.349 Q233.033 825.543 227.385 831.307 Z\" fill=\"#000000\" fill-rule=\"evenodd\" fill-opacity=\"1\" /><path clip-path=\"url(#clip300)\" d=\"M129.885 564.001 Q133.242 564.719 135.117 566.987 Q137.015 569.256 137.015 572.589 Q137.015 577.705 133.496 580.506 Q129.978 583.307 123.496 583.307 Q121.32 583.307 119.006 582.867 Q116.714 582.45 114.26 581.594 L114.26 577.08 Q116.205 578.214 118.519 578.793 Q120.834 579.371 123.357 579.371 Q127.755 579.371 130.047 577.635 Q132.362 575.899 132.362 572.589 Q132.362 569.534 130.209 567.821 Q128.08 566.084 124.26 566.084 L120.232 566.084 L120.232 562.242 L124.445 562.242 Q127.894 562.242 129.723 560.876 Q131.552 559.487 131.552 556.895 Q131.552 554.233 129.654 552.821 Q127.779 551.385 124.26 551.385 Q122.339 551.385 120.14 551.802 Q117.941 552.219 115.302 553.098 L115.302 548.932 Q117.964 548.191 120.279 547.821 Q122.617 547.45 124.677 547.45 Q130.001 547.45 133.103 549.881 Q136.204 552.288 136.204 556.409 Q136.204 559.279 134.561 561.27 Q132.917 563.237 129.885 564.001 Z\" fill=\"#000000\" fill-rule=\"evenodd\" fill-opacity=\"1\" /><path clip-path=\"url(#clip300)\" d=\"M155.88 566.223 Q152.547 566.223 150.626 568.006 Q148.728 569.788 148.728 572.913 Q148.728 576.038 150.626 577.821 Q152.547 579.603 155.88 579.603 Q159.214 579.603 161.135 577.821 Q163.056 576.015 163.056 572.913 Q163.056 569.788 161.135 568.006 Q159.237 566.223 155.88 566.223 M151.204 564.233 Q148.195 563.492 146.505 561.432 Q144.839 559.372 144.839 556.409 Q144.839 552.265 147.778 549.858 Q150.741 547.45 155.88 547.45 Q161.042 547.45 163.982 549.858 Q166.922 552.265 166.922 556.409 Q166.922 559.372 165.232 561.432 Q163.565 563.492 160.579 564.233 Q163.959 565.02 165.834 567.311 Q167.732 569.603 167.732 572.913 Q167.732 577.936 164.653 580.621 Q161.598 583.307 155.88 583.307 Q150.163 583.307 147.084 580.621 Q144.029 577.936 144.029 572.913 Q144.029 569.603 145.927 567.311 Q147.825 565.02 151.204 564.233 M149.491 556.848 Q149.491 559.534 151.158 561.038 Q152.848 562.543 155.88 562.543 Q158.89 562.543 160.579 561.038 Q162.292 559.534 162.292 556.848 Q162.292 554.163 160.579 552.659 Q158.89 551.154 155.88 551.154 Q152.848 551.154 151.158 552.659 Q149.491 554.163 149.491 556.848 Z\" fill=\"#000000\" fill-rule=\"evenodd\" fill-opacity=\"1\" /><path clip-path=\"url(#clip300)\" d=\"M176.042 576.756 L180.926 576.756 L180.926 582.635 L176.042 582.635 L176.042 576.756 Z\" fill=\"#000000\" fill-rule=\"evenodd\" fill-opacity=\"1\" /><path clip-path=\"url(#clip300)\" d=\"M191.25 581.918 L191.25 577.658 Q193.01 578.492 194.815 578.932 Q196.621 579.371 198.357 579.371 Q202.987 579.371 205.417 576.27 Q207.871 573.145 208.218 566.802 Q206.875 568.793 204.815 569.858 Q202.755 570.922 200.255 570.922 Q195.07 570.922 192.038 567.797 Q189.028 564.649 189.028 559.21 Q189.028 553.885 192.176 550.668 Q195.325 547.45 200.556 547.45 Q206.551 547.45 209.699 552.057 Q212.871 556.64 212.871 565.39 Q212.871 573.561 208.982 578.446 Q205.116 583.307 198.565 583.307 Q196.806 583.307 195 582.959 Q193.195 582.612 191.25 581.918 M200.556 567.265 Q203.704 567.265 205.533 565.112 Q207.385 562.959 207.385 559.21 Q207.385 555.483 205.533 553.33 Q203.704 551.154 200.556 551.154 Q197.408 551.154 195.556 553.33 Q193.727 555.483 193.727 559.21 Q193.727 562.959 195.556 565.112 Q197.408 567.265 200.556 567.265 Z\" fill=\"#000000\" fill-rule=\"evenodd\" fill-opacity=\"1\" /><path clip-path=\"url(#clip300)\" d=\"M234.121 552.149 L222.315 570.598 L234.121 570.598 L234.121 552.149 M232.894 548.075 L238.773 548.075 L238.773 570.598 L243.704 570.598 L243.704 574.487 L238.773 574.487 L238.773 582.635 L234.121 582.635 L234.121 574.487 L218.519 574.487 L218.519 569.973 L232.894 548.075 Z\" fill=\"#000000\" fill-rule=\"evenodd\" fill-opacity=\"1\" /><path clip-path=\"url(#clip300)\" d=\"M130.209 311.394 Q133.566 312.112 135.441 314.38 Q137.339 316.649 137.339 319.982 Q137.339 325.098 133.82 327.899 Q130.302 330.699 123.82 330.699 Q121.644 330.699 119.33 330.26 Q117.038 329.843 114.584 328.987 L114.584 324.473 Q116.529 325.607 118.843 326.186 Q121.158 326.764 123.681 326.764 Q128.08 326.764 130.371 325.028 Q132.686 323.292 132.686 319.982 Q132.686 316.926 130.533 315.213 Q128.404 313.477 124.584 313.477 L120.556 313.477 L120.556 309.635 L124.769 309.635 Q128.218 309.635 130.047 308.269 Q131.876 306.88 131.876 304.288 Q131.876 301.626 129.978 300.214 Q128.103 298.778 124.584 298.778 Q122.663 298.778 120.464 299.195 Q118.265 299.612 115.626 300.491 L115.626 296.325 Q118.288 295.584 120.603 295.214 Q122.941 294.843 125.001 294.843 Q130.325 294.843 133.427 297.274 Q136.529 299.681 136.529 303.801 Q136.529 306.672 134.885 308.663 Q133.242 310.63 130.209 311.394 Z\" fill=\"#000000\" fill-rule=\"evenodd\" fill-opacity=\"1\" /><path clip-path=\"url(#clip300)\" d=\"M156.204 313.616 Q152.871 313.616 150.95 315.399 Q149.052 317.181 149.052 320.306 Q149.052 323.431 150.95 325.213 Q152.871 326.996 156.204 326.996 Q159.538 326.996 161.459 325.213 Q163.38 323.408 163.38 320.306 Q163.38 317.181 161.459 315.399 Q159.561 313.616 156.204 313.616 M151.528 311.626 Q148.519 310.885 146.829 308.825 Q145.163 306.764 145.163 303.801 Q145.163 299.658 148.103 297.251 Q151.066 294.843 156.204 294.843 Q161.366 294.843 164.306 297.251 Q167.246 299.658 167.246 303.801 Q167.246 306.764 165.556 308.825 Q163.89 310.885 160.903 311.626 Q164.283 312.413 166.158 314.704 Q168.056 316.996 168.056 320.306 Q168.056 325.329 164.977 328.014 Q161.922 330.699 156.204 330.699 Q150.487 330.699 147.408 328.014 Q144.353 325.329 144.353 320.306 Q144.353 316.996 146.251 314.704 Q148.149 312.413 151.528 311.626 M149.816 304.241 Q149.816 306.926 151.482 308.431 Q153.172 309.936 156.204 309.936 Q159.214 309.936 160.903 308.431 Q162.616 306.926 162.616 304.241 Q162.616 301.556 160.903 300.052 Q159.214 298.547 156.204 298.547 Q153.172 298.547 151.482 300.052 Q149.816 301.556 149.816 304.241 Z\" fill=\"#000000\" fill-rule=\"evenodd\" fill-opacity=\"1\" /><path clip-path=\"url(#clip300)\" d=\"M176.366 324.149 L181.251 324.149 L181.251 330.028 L176.366 330.028 L176.366 324.149 Z\" fill=\"#000000\" fill-rule=\"evenodd\" fill-opacity=\"1\" /><path clip-path=\"url(#clip300)\" d=\"M191.575 329.311 L191.575 325.051 Q193.334 325.885 195.139 326.325 Q196.945 326.764 198.681 326.764 Q203.311 326.764 205.741 323.662 Q208.195 320.538 208.542 314.195 Q207.199 316.186 205.139 317.25 Q203.079 318.315 200.579 318.315 Q195.394 318.315 192.362 315.19 Q189.352 312.042 189.352 306.602 Q189.352 301.278 192.5 298.061 Q195.649 294.843 200.88 294.843 Q206.875 294.843 210.024 299.45 Q213.195 304.033 213.195 312.783 Q213.195 320.954 209.306 325.838 Q205.44 330.699 198.889 330.699 Q197.13 330.699 195.325 330.352 Q193.519 330.005 191.575 329.311 M200.88 314.658 Q204.028 314.658 205.857 312.505 Q207.709 310.352 207.709 306.602 Q207.709 302.876 205.857 300.723 Q204.028 298.547 200.88 298.547 Q197.732 298.547 195.88 300.723 Q194.051 302.876 194.051 306.602 Q194.051 310.352 195.88 312.505 Q197.732 314.658 200.88 314.658 Z\" fill=\"#000000\" fill-rule=\"evenodd\" fill-opacity=\"1\" /><path clip-path=\"url(#clip300)\" d=\"M232.176 310.885 Q229.028 310.885 227.176 313.038 Q225.348 315.19 225.348 318.94 Q225.348 322.667 227.176 324.843 Q229.028 326.996 232.176 326.996 Q235.324 326.996 237.153 324.843 Q239.005 322.667 239.005 318.94 Q239.005 315.19 237.153 313.038 Q235.324 310.885 232.176 310.885 M241.459 296.232 L241.459 300.491 Q239.699 299.658 237.894 299.218 Q236.111 298.778 234.352 298.778 Q229.723 298.778 227.269 301.903 Q224.838 305.028 224.491 311.348 Q225.857 309.334 227.917 308.269 Q229.977 307.181 232.454 307.181 Q237.662 307.181 240.672 310.352 Q243.704 313.501 243.704 318.94 Q243.704 324.264 240.556 327.482 Q237.408 330.699 232.176 330.699 Q226.181 330.699 223.01 326.116 Q219.838 321.51 219.838 312.783 Q219.838 304.589 223.727 299.727 Q227.616 294.843 234.167 294.843 Q235.926 294.843 237.709 295.19 Q239.514 295.538 241.459 296.232 Z\" fill=\"#000000\" fill-rule=\"evenodd\" fill-opacity=\"1\" /><path clip-path=\"url(#clip300)\" d=\"M14.479 893.558 L14.479 887.702 L64.0042 887.702 L64.0042 893.558 L14.479 893.558 Z\" fill=\"#000000\" fill-rule=\"evenodd\" fill-opacity=\"1\" /><path clip-path=\"url(#clip300)\" d=\"M46.0847 859.247 Q46.0847 866.345 47.7079 869.082 Q49.3312 871.819 53.2461 871.819 Q56.3653 871.819 58.2114 869.782 Q60.0256 867.713 60.0256 864.181 Q60.0256 859.311 56.5881 856.383 Q53.1188 853.422 47.3897 853.422 L46.0847 853.422 L46.0847 859.247 M43.6657 847.566 L64.0042 847.566 L64.0042 853.422 L58.5933 853.422 Q61.8398 855.428 63.3994 858.42 Q64.9272 861.411 64.9272 865.74 Q64.9272 871.215 61.8716 874.461 Q58.7843 877.676 53.6281 877.676 Q47.6125 877.676 44.5569 873.665 Q41.5014 869.623 41.5014 861.634 L41.5014 853.422 L40.9285 853.422 Q36.8862 853.422 34.6901 856.096 Q32.4621 858.738 32.4621 863.544 Q32.4621 866.6 33.1941 869.496 Q33.9262 872.392 35.3903 875.066 L29.9795 875.066 Q28.7381 871.851 28.1334 868.827 Q27.4968 865.804 27.4968 862.939 Q27.4968 855.205 31.5072 851.385 Q35.5176 847.566 43.6657 847.566 Z\" fill=\"#000000\" fill-rule=\"evenodd\" fill-opacity=\"1\" /><path clip-path=\"url(#clip300)\" d=\"M18.2347 829.71 L28.3562 829.71 L28.3562 817.647 L32.9077 817.647 L32.9077 829.71 L52.2594 829.71 Q56.6199 829.71 57.8613 828.533 Q59.1026 827.323 59.1026 823.663 L59.1026 817.647 L64.0042 817.647 L64.0042 823.663 Q64.0042 830.442 61.4897 833.02 Q58.9434 835.599 52.2594 835.599 L32.9077 835.599 L32.9077 839.895 L28.3562 839.895 L28.3562 835.599 L18.2347 835.599 L18.2347 829.71 Z\" fill=\"#000000\" fill-rule=\"evenodd\" fill-opacity=\"1\" /><path clip-path=\"url(#clip300)\" d=\"M28.3562 809.945 L28.3562 804.088 L64.0042 804.088 L64.0042 809.945 L28.3562 809.945 M14.479 809.945 L14.479 804.088 L21.895 804.088 L21.895 809.945 L14.479 809.945 Z\" fill=\"#000000\" fill-rule=\"evenodd\" fill-opacity=\"1\" /><path clip-path=\"url(#clip300)\" d=\"M18.2347 786.041 L28.3562 786.041 L28.3562 773.978 L32.9077 773.978 L32.9077 786.041 L52.2594 786.041 Q56.6199 786.041 57.8613 784.864 Q59.1026 783.654 59.1026 779.994 L59.1026 773.978 L64.0042 773.978 L64.0042 779.994 Q64.0042 786.774 61.4897 789.352 Q58.9434 791.93 52.2594 791.93 L32.9077 791.93 L32.9077 796.227 L28.3562 796.227 L28.3562 791.93 L18.2347 791.93 L18.2347 786.041 Z\" fill=\"#000000\" fill-rule=\"evenodd\" fill-opacity=\"1\" /><path clip-path=\"url(#clip300)\" d=\"M49.9359 766.881 L28.3562 766.881 L28.3562 761.024 L49.7131 761.024 Q54.7739 761.024 57.3202 759.051 Q59.8346 757.078 59.8346 753.131 Q59.8346 748.388 56.8109 745.651 Q53.7872 742.882 48.5673 742.882 L28.3562 742.882 L28.3562 737.026 L64.0042 737.026 L64.0042 742.882 L58.5296 742.882 Q61.7762 745.015 63.3676 747.847 Q64.9272 750.648 64.9272 754.372 Q64.9272 760.515 61.1078 763.698 Q57.2883 766.881 49.9359 766.881 M27.4968 752.144 L27.4968 752.144 Z\" fill=\"#000000\" fill-rule=\"evenodd\" fill-opacity=\"1\" /><path clip-path=\"url(#clip300)\" d=\"M33.7671 701.505 L14.479 701.505 L14.479 695.648 L64.0042 695.648 L64.0042 701.505 L58.657 701.505 Q61.8398 703.351 63.3994 706.184 Q64.9272 708.985 64.9272 712.931 Q64.9272 719.393 59.771 723.467 Q54.6147 727.509 46.212 727.509 Q37.8093 727.509 32.6531 723.467 Q27.4968 719.393 27.4968 712.931 Q27.4968 708.985 29.0564 706.184 Q30.5842 703.351 33.7671 701.505 M46.212 721.461 Q52.6732 721.461 56.3653 718.82 Q60.0256 716.146 60.0256 711.499 Q60.0256 706.852 56.3653 704.178 Q52.6732 701.505 46.212 701.505 Q39.7508 701.505 36.0905 704.178 Q32.3984 706.852 32.3984 711.499 Q32.3984 716.146 36.0905 718.82 Q39.7508 721.461 46.212 721.461 Z\" fill=\"#000000\" fill-rule=\"evenodd\" fill-opacity=\"1\" /><path clip-path=\"url(#clip300)\" d=\"M44.7161 653.094 L47.5806 653.094 L47.5806 680.021 Q53.6281 679.639 56.8109 676.392 Q59.9619 673.114 59.9619 667.289 Q59.9619 663.915 59.1344 660.764 Q58.3069 657.582 56.6518 654.462 L62.1899 654.462 Q63.5267 657.613 64.227 660.924 Q64.9272 664.234 64.9272 667.639 Q64.9272 676.169 59.9619 681.166 Q54.9967 686.132 46.5303 686.132 Q37.7774 686.132 32.6531 681.421 Q27.4968 676.679 27.4968 668.658 Q27.4968 661.465 32.1438 657.295 Q36.7589 653.094 44.7161 653.094 M42.9973 658.95 Q38.1912 659.014 35.3266 661.656 Q32.4621 664.266 32.4621 668.594 Q32.4621 673.496 35.2312 676.456 Q38.0002 679.384 43.0292 679.83 L42.9973 658.95 Z\" fill=\"#000000\" fill-rule=\"evenodd\" fill-opacity=\"1\" /><path clip-path=\"url(#clip300)\" d=\"M1013.06 12.096 L1021.24 12.096 L1021.24 36.8875 L1050.98 36.8875 L1050.98 12.096 L1059.16 12.096 L1059.16 72.576 L1050.98 72.576 L1050.98 43.7741 L1021.24 43.7741 L1021.24 72.576 L1013.06 72.576 L1013.06 12.096 Z\" fill=\"#000000\" fill-rule=\"evenodd\" fill-opacity=\"1\" /><path clip-path=\"url(#clip300)\" d=\"M1092.7 32.4315 Q1086.71 32.4315 1083.22 37.1306 Q1079.74 41.7891 1079.74 49.9314 Q1079.74 58.0738 1083.18 62.7728 Q1086.67 67.4314 1092.7 67.4314 Q1098.66 67.4314 1102.14 62.7323 Q1105.62 58.0333 1105.62 49.9314 Q1105.62 41.8701 1102.14 37.1711 Q1098.66 32.4315 1092.7 32.4315 M1092.7 26.1121 Q1102.42 26.1121 1107.97 32.4315 Q1113.52 38.7509 1113.52 49.9314 Q1113.52 61.0714 1107.97 67.4314 Q1102.42 73.7508 1092.7 73.7508 Q1082.94 73.7508 1077.39 67.4314 Q1071.88 61.0714 1071.88 49.9314 Q1071.88 38.7509 1077.39 32.4315 Q1082.94 26.1121 1092.7 26.1121 Z\" fill=\"#000000\" fill-rule=\"evenodd\" fill-opacity=\"1\" /><path clip-path=\"url(#clip300)\" d=\"M1133.25 14.324 L1133.25 27.2059 L1148.6 27.2059 L1148.6 32.9987 L1133.25 32.9987 L1133.25 57.6282 Q1133.25 63.1779 1134.75 64.7578 Q1136.29 66.3376 1140.95 66.3376 L1148.6 66.3376 L1148.6 72.576 L1140.95 72.576 Q1132.32 72.576 1129.04 69.3758 Q1125.76 66.1351 1125.76 57.6282 L1125.76 32.9987 L1120.29 32.9987 L1120.29 27.2059 L1125.76 27.2059 L1125.76 14.324 L1133.25 14.324 Z\" fill=\"#000000\" fill-rule=\"evenodd\" fill-opacity=\"1\" /><path clip-path=\"url(#clip300)\" d=\"M1197.21 48.0275 L1197.21 51.6733 L1162.94 51.6733 Q1163.43 59.3701 1167.56 63.421 Q1171.73 67.4314 1179.15 67.4314 Q1183.44 67.4314 1187.45 66.3781 Q1191.5 65.3249 1195.47 63.2184 L1195.47 70.267 Q1191.46 71.9684 1187.25 72.8596 Q1183.04 73.7508 1178.7 73.7508 Q1167.85 73.7508 1161.49 67.4314 Q1155.17 61.1119 1155.17 50.3365 Q1155.17 39.1965 1161.16 32.6746 Q1167.2 26.1121 1177.41 26.1121 Q1186.56 26.1121 1191.87 32.0264 Q1197.21 37.9003 1197.21 48.0275 M1189.76 45.84 Q1189.68 39.7232 1186.32 36.0774 Q1183 32.4315 1177.49 32.4315 Q1171.25 32.4315 1167.48 35.9558 Q1163.75 39.4801 1163.19 45.8805 L1189.76 45.84 Z\" fill=\"#000000\" fill-rule=\"evenodd\" fill-opacity=\"1\" /><path clip-path=\"url(#clip300)\" d=\"M1209.45 9.54393 L1216.9 9.54393 L1216.9 72.576 L1209.45 72.576 L1209.45 9.54393 Z\" fill=\"#000000\" fill-rule=\"evenodd\" fill-opacity=\"1\" /><path clip-path=\"url(#clip300)\" d=\"M1258.87 9.54393 L1266.32 9.54393 L1266.32 72.576 L1258.87 72.576 L1258.87 9.54393 Z\" fill=\"#000000\" fill-rule=\"evenodd\" fill-opacity=\"1\" /><path clip-path=\"url(#clip300)\" d=\"M1299.5 32.4315 Q1293.5 32.4315 1290.02 37.1306 Q1286.54 41.7891 1286.54 49.9314 Q1286.54 58.0738 1289.98 62.7728 Q1293.46 67.4314 1299.5 67.4314 Q1305.45 67.4314 1308.94 62.7323 Q1312.42 58.0333 1312.42 49.9314 Q1312.42 41.8701 1308.94 37.1711 Q1305.45 32.4315 1299.5 32.4315 M1299.5 26.1121 Q1309.22 26.1121 1314.77 32.4315 Q1320.32 38.7509 1320.32 49.9314 Q1320.32 61.0714 1314.77 67.4314 Q1309.22 73.7508 1299.5 73.7508 Q1289.74 73.7508 1284.19 67.4314 Q1278.68 61.0714 1278.68 49.9314 Q1278.68 38.7509 1284.19 32.4315 Q1289.74 26.1121 1299.5 26.1121 Z\" fill=\"#000000\" fill-rule=\"evenodd\" fill-opacity=\"1\" /><path clip-path=\"url(#clip300)\" d=\"M1365.33 28.9478 L1365.33 35.9153 Q1362.17 34.1734 1358.97 33.3227 Q1355.81 32.4315 1352.57 32.4315 Q1345.32 32.4315 1341.31 37.0496 Q1337.29 41.6271 1337.29 49.9314 Q1337.29 58.2358 1341.31 62.8538 Q1345.32 67.4314 1352.57 67.4314 Q1355.81 67.4314 1358.97 66.5807 Q1362.17 65.6895 1365.33 63.9476 L1365.33 70.8341 Q1362.21 72.2924 1358.85 73.0216 Q1355.52 73.7508 1351.76 73.7508 Q1341.51 73.7508 1335.47 67.3098 Q1329.44 60.8689 1329.44 49.9314 Q1329.44 38.832 1335.51 32.472 Q1341.63 26.1121 1352.24 26.1121 Q1355.69 26.1121 1358.97 26.8413 Q1362.25 27.5299 1365.33 28.9478 Z\" fill=\"#000000\" fill-rule=\"evenodd\" fill-opacity=\"1\" /><path clip-path=\"url(#clip300)\" d=\"M1398.91 49.7694 Q1389.88 49.7694 1386.39 51.8354 Q1382.91 53.9013 1382.91 58.8839 Q1382.91 62.8538 1385.5 65.2034 Q1388.13 67.5124 1392.63 67.5124 Q1398.83 67.5124 1402.55 63.1374 Q1406.32 58.7219 1406.32 51.4303 L1406.32 49.7694 L1398.91 49.7694 M1413.78 46.6907 L1413.78 72.576 L1406.32 72.576 L1406.32 65.6895 Q1403.77 69.8214 1399.96 71.8063 Q1396.15 73.7508 1390.65 73.7508 Q1383.68 73.7508 1379.55 69.8619 Q1375.45 65.9325 1375.45 59.3701 Q1375.45 51.7138 1380.56 47.825 Q1385.7 43.9361 1395.87 43.9361 L1406.32 43.9361 L1406.32 43.2069 Q1406.32 38.0623 1402.92 35.2672 Q1399.56 32.4315 1393.44 32.4315 Q1389.55 32.4315 1385.86 33.3632 Q1382.18 34.295 1378.78 36.1584 L1378.78 29.2718 Q1382.87 27.692 1386.72 26.9223 Q1390.56 26.1121 1394.21 26.1121 Q1404.05 26.1121 1408.91 31.2163 Q1413.78 36.3204 1413.78 46.6907 Z\" fill=\"#000000\" fill-rule=\"evenodd\" fill-opacity=\"1\" /><path clip-path=\"url(#clip300)\" d=\"M1436.5 14.324 L1436.5 27.2059 L1451.85 27.2059 L1451.85 32.9987 L1436.5 32.9987 L1436.5 57.6282 Q1436.5 63.1779 1438 64.7578 Q1439.54 66.3376 1444.2 66.3376 L1451.85 66.3376 L1451.85 72.576 L1444.2 72.576 Q1435.57 72.576 1432.29 69.3758 Q1429.01 66.1351 1429.01 57.6282 L1429.01 32.9987 L1423.54 32.9987 L1423.54 27.2059 L1429.01 27.2059 L1429.01 14.324 L1436.5 14.324 Z\" fill=\"#000000\" fill-rule=\"evenodd\" fill-opacity=\"1\" /><path clip-path=\"url(#clip300)\" d=\"M1461.66 27.2059 L1469.11 27.2059 L1469.11 72.576 L1461.66 72.576 L1461.66 27.2059 M1461.66 9.54393 L1469.11 9.54393 L1469.11 18.9825 L1461.66 18.9825 L1461.66 9.54393 Z\" fill=\"#000000\" fill-rule=\"evenodd\" fill-opacity=\"1\" /><path clip-path=\"url(#clip300)\" d=\"M1502.29 32.4315 Q1496.29 32.4315 1492.81 37.1306 Q1489.33 41.7891 1489.33 49.9314 Q1489.33 58.0738 1492.77 62.7728 Q1496.25 67.4314 1502.29 67.4314 Q1508.24 67.4314 1511.73 62.7323 Q1515.21 58.0333 1515.21 49.9314 Q1515.21 41.8701 1511.73 37.1711 Q1508.24 32.4315 1502.29 32.4315 M1502.29 26.1121 Q1512.01 26.1121 1517.56 32.4315 Q1523.11 38.7509 1523.11 49.9314 Q1523.11 61.0714 1517.56 67.4314 Q1512.01 73.7508 1502.29 73.7508 Q1492.53 73.7508 1486.98 67.4314 Q1481.47 61.0714 1481.47 49.9314 Q1481.47 38.7509 1486.98 32.4315 Q1492.53 26.1121 1502.29 26.1121 Z\" fill=\"#000000\" fill-rule=\"evenodd\" fill-opacity=\"1\" /><path clip-path=\"url(#clip300)\" d=\"M1573.18 45.1919 L1573.18 72.576 L1565.73 72.576 L1565.73 45.4349 Q1565.73 38.994 1563.21 35.7938 Q1560.7 32.5936 1555.68 32.5936 Q1549.64 32.5936 1546.16 36.4419 Q1542.68 40.2903 1542.68 46.9338 L1542.68 72.576 L1535.18 72.576 L1535.18 27.2059 L1542.68 27.2059 L1542.68 34.2544 Q1545.35 30.163 1548.95 28.1376 Q1552.6 26.1121 1557.34 26.1121 Q1565.16 26.1121 1569.17 30.9732 Q1573.18 35.7938 1573.18 45.1919 Z\" fill=\"#000000\" fill-rule=\"evenodd\" fill-opacity=\"1\" /><path clip-path=\"url(#clip300)\" d=\"M1616.97 28.5427 L1616.97 35.5912 Q1613.81 33.9709 1610.41 33.1607 Q1607 32.3505 1603.36 32.3505 Q1597.81 32.3505 1595.01 34.0519 Q1592.26 35.7533 1592.26 39.156 Q1592.26 41.7486 1594.24 43.2475 Q1596.23 44.7058 1602.22 46.0426 L1604.78 46.6097 Q1612.72 48.3111 1616.04 51.4303 Q1619.4 54.509 1619.4 60.0587 Q1619.4 66.3781 1614.38 70.0644 Q1609.39 73.7508 1600.64 73.7508 Q1597 73.7508 1593.03 73.0216 Q1589.1 72.3329 1584.72 70.9151 L1584.72 63.2184 Q1588.86 65.3654 1592.87 66.4591 Q1596.88 67.5124 1600.81 67.5124 Q1606.07 67.5124 1608.91 65.73 Q1611.74 63.9071 1611.74 60.6258 Q1611.74 57.5877 1609.68 55.9673 Q1607.65 54.3469 1600.72 52.8481 L1598.13 52.2405 Q1591.21 50.7821 1588.13 47.7845 Q1585.05 44.7463 1585.05 39.4801 Q1585.05 33.0797 1589.58 29.5959 Q1594.12 26.1121 1602.47 26.1121 Q1606.6 26.1121 1610.24 26.7198 Q1613.89 27.3274 1616.97 28.5427 Z\" fill=\"#000000\" fill-rule=\"evenodd\" fill-opacity=\"1\" /><circle clip-path=\"url(#clip302)\" cx=\"1181.55\" cy=\"160.256\" r=\"14.4\" fill=\"#009af9\" fill-rule=\"evenodd\" fill-opacity=\"1\" stroke=\"#000000\" stroke-opacity=\"1\" stroke-width=\"3.2\"/>\n",
              "<circle clip-path=\"url(#clip302)\" cx=\"536.539\" cy=\"302.975\" r=\"14.4\" fill=\"#009af9\" fill-rule=\"evenodd\" fill-opacity=\"1\" stroke=\"#000000\" stroke-opacity=\"1\" stroke-width=\"3.2\"/>\n",
              "<circle clip-path=\"url(#clip302)\" cx=\"1086.09\" cy=\"357.836\" r=\"14.4\" fill=\"#009af9\" fill-rule=\"evenodd\" fill-opacity=\"1\" stroke=\"#000000\" stroke-opacity=\"1\" stroke-width=\"3.2\"/>\n",
              "<circle clip-path=\"url(#clip302)\" cx=\"750.568\" cy=\"477.485\" r=\"14.4\" fill=\"#009af9\" fill-rule=\"evenodd\" fill-opacity=\"1\" stroke=\"#000000\" stroke-opacity=\"1\" stroke-width=\"3.2\"/>\n",
              "<circle clip-path=\"url(#clip302)\" cx=\"1163.66\" cy=\"692.622\" r=\"14.4\" fill=\"#009af9\" fill-rule=\"evenodd\" fill-opacity=\"1\" stroke=\"#000000\" stroke-opacity=\"1\" stroke-width=\"3.2\"/>\n",
              "<circle clip-path=\"url(#clip302)\" cx=\"862.455\" cy=\"714.864\" r=\"14.4\" fill=\"#009af9\" fill-rule=\"evenodd\" fill-opacity=\"1\" stroke=\"#000000\" stroke-opacity=\"1\" stroke-width=\"3.2\"/>\n",
              "<circle clip-path=\"url(#clip302)\" cx=\"338.375\" cy=\"732.788\" r=\"14.4\" fill=\"#009af9\" fill-rule=\"evenodd\" fill-opacity=\"1\" stroke=\"#000000\" stroke-opacity=\"1\" stroke-width=\"3.2\"/>\n",
              "<circle clip-path=\"url(#clip302)\" cx=\"882.384\" cy=\"743.743\" r=\"14.4\" fill=\"#009af9\" fill-rule=\"evenodd\" fill-opacity=\"1\" stroke=\"#000000\" stroke-opacity=\"1\" stroke-width=\"3.2\"/>\n",
              "<circle clip-path=\"url(#clip302)\" cx=\"871.682\" cy=\"758.296\" r=\"14.4\" fill=\"#009af9\" fill-rule=\"evenodd\" fill-opacity=\"1\" stroke=\"#000000\" stroke-opacity=\"1\" stroke-width=\"3.2\"/>\n",
              "<circle clip-path=\"url(#clip302)\" cx=\"1017.15\" cy=\"760.556\" r=\"14.4\" fill=\"#009af9\" fill-rule=\"evenodd\" fill-opacity=\"1\" stroke=\"#000000\" stroke-opacity=\"1\" stroke-width=\"3.2\"/>\n",
              "<circle clip-path=\"url(#clip302)\" cx=\"671.199\" cy=\"776.093\" r=\"14.4\" fill=\"#009af9\" fill-rule=\"evenodd\" fill-opacity=\"1\" stroke=\"#000000\" stroke-opacity=\"1\" stroke-width=\"3.2\"/>\n",
              "<circle clip-path=\"url(#clip302)\" cx=\"1015.99\" cy=\"782.946\" r=\"14.4\" fill=\"#009af9\" fill-rule=\"evenodd\" fill-opacity=\"1\" stroke=\"#000000\" stroke-opacity=\"1\" stroke-width=\"3.2\"/>\n",
              "<circle clip-path=\"url(#clip302)\" cx=\"883.168\" cy=\"784.703\" r=\"14.4\" fill=\"#009af9\" fill-rule=\"evenodd\" fill-opacity=\"1\" stroke=\"#000000\" stroke-opacity=\"1\" stroke-width=\"3.2\"/>\n",
              "<circle clip-path=\"url(#clip302)\" cx=\"1009.47\" cy=\"812.732\" r=\"14.4\" fill=\"#009af9\" fill-rule=\"evenodd\" fill-opacity=\"1\" stroke=\"#000000\" stroke-opacity=\"1\" stroke-width=\"3.2\"/>\n",
              "<circle clip-path=\"url(#clip302)\" cx=\"939.967\" cy=\"841.213\" r=\"14.4\" fill=\"#009af9\" fill-rule=\"evenodd\" fill-opacity=\"1\" stroke=\"#000000\" stroke-opacity=\"1\" stroke-width=\"3.2\"/>\n",
              "<circle clip-path=\"url(#clip302)\" cx=\"1805.48\" cy=\"843.417\" r=\"14.4\" fill=\"#009af9\" fill-rule=\"evenodd\" fill-opacity=\"1\" stroke=\"#000000\" stroke-opacity=\"1\" stroke-width=\"3.2\"/>\n",
              "<circle clip-path=\"url(#clip302)\" cx=\"968.904\" cy=\"846.761\" r=\"14.4\" fill=\"#009af9\" fill-rule=\"evenodd\" fill-opacity=\"1\" stroke=\"#000000\" stroke-opacity=\"1\" stroke-width=\"3.2\"/>\n",
              "<circle clip-path=\"url(#clip302)\" cx=\"1701.41\" cy=\"850.389\" r=\"14.4\" fill=\"#009af9\" fill-rule=\"evenodd\" fill-opacity=\"1\" stroke=\"#000000\" stroke-opacity=\"1\" stroke-width=\"3.2\"/>\n",
              "<circle clip-path=\"url(#clip302)\" cx=\"951.218\" cy=\"852.093\" r=\"14.4\" fill=\"#009af9\" fill-rule=\"evenodd\" fill-opacity=\"1\" stroke=\"#000000\" stroke-opacity=\"1\" stroke-width=\"3.2\"/>\n",
              "<circle clip-path=\"url(#clip302)\" cx=\"1795.6\" cy=\"857.85\" r=\"14.4\" fill=\"#009af9\" fill-rule=\"evenodd\" fill-opacity=\"1\" stroke=\"#000000\" stroke-opacity=\"1\" stroke-width=\"3.2\"/>\n",
              "<circle clip-path=\"url(#clip302)\" cx=\"1695.87\" cy=\"860.114\" r=\"14.4\" fill=\"#009af9\" fill-rule=\"evenodd\" fill-opacity=\"1\" stroke=\"#000000\" stroke-opacity=\"1\" stroke-width=\"3.2\"/>\n",
              "<circle clip-path=\"url(#clip302)\" cx=\"976.743\" cy=\"862.525\" r=\"14.4\" fill=\"#009af9\" fill-rule=\"evenodd\" fill-opacity=\"1\" stroke=\"#000000\" stroke-opacity=\"1\" stroke-width=\"3.2\"/>\n",
              "<circle clip-path=\"url(#clip302)\" cx=\"957.604\" cy=\"863.66\" r=\"14.4\" fill=\"#009af9\" fill-rule=\"evenodd\" fill-opacity=\"1\" stroke=\"#000000\" stroke-opacity=\"1\" stroke-width=\"3.2\"/>\n",
              "<circle clip-path=\"url(#clip302)\" cx=\"1289.86\" cy=\"867.391\" r=\"14.4\" fill=\"#009af9\" fill-rule=\"evenodd\" fill-opacity=\"1\" stroke=\"#000000\" stroke-opacity=\"1\" stroke-width=\"3.2\"/>\n",
              "<circle clip-path=\"url(#clip302)\" cx=\"958.581\" cy=\"868.021\" r=\"14.4\" fill=\"#009af9\" fill-rule=\"evenodd\" fill-opacity=\"1\" stroke=\"#000000\" stroke-opacity=\"1\" stroke-width=\"3.2\"/>\n",
              "<circle clip-path=\"url(#clip302)\" cx=\"1313.61\" cy=\"871.969\" r=\"14.4\" fill=\"#009af9\" fill-rule=\"evenodd\" fill-opacity=\"1\" stroke=\"#000000\" stroke-opacity=\"1\" stroke-width=\"3.2\"/>\n",
              "<circle clip-path=\"url(#clip302)\" cx=\"726.398\" cy=\"875.214\" r=\"14.4\" fill=\"#009af9\" fill-rule=\"evenodd\" fill-opacity=\"1\" stroke=\"#000000\" stroke-opacity=\"1\" stroke-width=\"3.2\"/>\n",
              "<circle clip-path=\"url(#clip302)\" cx=\"1068.8\" cy=\"877.396\" r=\"14.4\" fill=\"#009af9\" fill-rule=\"evenodd\" fill-opacity=\"1\" stroke=\"#000000\" stroke-opacity=\"1\" stroke-width=\"3.2\"/>\n",
              "<circle clip-path=\"url(#clip302)\" cx=\"1042.88\" cy=\"886.594\" r=\"14.4\" fill=\"#009af9\" fill-rule=\"evenodd\" fill-opacity=\"1\" stroke=\"#000000\" stroke-opacity=\"1\" stroke-width=\"3.2\"/>\n",
              "<circle clip-path=\"url(#clip302)\" cx=\"1040.76\" cy=\"901.987\" r=\"14.4\" fill=\"#009af9\" fill-rule=\"evenodd\" fill-opacity=\"1\" stroke=\"#000000\" stroke-opacity=\"1\" stroke-width=\"3.2\"/>\n",
              "<circle clip-path=\"url(#clip302)\" cx=\"963.755\" cy=\"906.741\" r=\"14.4\" fill=\"#009af9\" fill-rule=\"evenodd\" fill-opacity=\"1\" stroke=\"#000000\" stroke-opacity=\"1\" stroke-width=\"3.2\"/>\n",
              "<circle clip-path=\"url(#clip302)\" cx=\"925.979\" cy=\"913.551\" r=\"14.4\" fill=\"#009af9\" fill-rule=\"evenodd\" fill-opacity=\"1\" stroke=\"#000000\" stroke-opacity=\"1\" stroke-width=\"3.2\"/>\n",
              "<circle clip-path=\"url(#clip302)\" cx=\"1527.81\" cy=\"914.808\" r=\"14.4\" fill=\"#009af9\" fill-rule=\"evenodd\" fill-opacity=\"1\" stroke=\"#000000\" stroke-opacity=\"1\" stroke-width=\"3.2\"/>\n",
              "<circle clip-path=\"url(#clip302)\" cx=\"1078.75\" cy=\"915.985\" r=\"14.4\" fill=\"#009af9\" fill-rule=\"evenodd\" fill-opacity=\"1\" stroke=\"#000000\" stroke-opacity=\"1\" stroke-width=\"3.2\"/>\n",
              "<circle clip-path=\"url(#clip302)\" cx=\"643.138\" cy=\"916.34\" r=\"14.4\" fill=\"#009af9\" fill-rule=\"evenodd\" fill-opacity=\"1\" stroke=\"#000000\" stroke-opacity=\"1\" stroke-width=\"3.2\"/>\n",
              "<circle clip-path=\"url(#clip302)\" cx=\"1515.58\" cy=\"927.165\" r=\"14.4\" fill=\"#009af9\" fill-rule=\"evenodd\" fill-opacity=\"1\" stroke=\"#000000\" stroke-opacity=\"1\" stroke-width=\"3.2\"/>\n",
              "<circle clip-path=\"url(#clip302)\" cx=\"1513.31\" cy=\"927.814\" r=\"14.4\" fill=\"#009af9\" fill-rule=\"evenodd\" fill-opacity=\"1\" stroke=\"#000000\" stroke-opacity=\"1\" stroke-width=\"3.2\"/>\n",
              "<circle clip-path=\"url(#clip302)\" cx=\"971.71\" cy=\"935.017\" r=\"14.4\" fill=\"#009af9\" fill-rule=\"evenodd\" fill-opacity=\"1\" stroke=\"#000000\" stroke-opacity=\"1\" stroke-width=\"3.2\"/>\n",
              "<circle clip-path=\"url(#clip302)\" cx=\"956.916\" cy=\"937.985\" r=\"14.4\" fill=\"#009af9\" fill-rule=\"evenodd\" fill-opacity=\"1\" stroke=\"#000000\" stroke-opacity=\"1\" stroke-width=\"3.2\"/>\n",
              "<circle clip-path=\"url(#clip302)\" cx=\"1000.55\" cy=\"938.233\" r=\"14.4\" fill=\"#009af9\" fill-rule=\"evenodd\" fill-opacity=\"1\" stroke=\"#000000\" stroke-opacity=\"1\" stroke-width=\"3.2\"/>\n",
              "<circle clip-path=\"url(#clip302)\" cx=\"940.758\" cy=\"940.438\" r=\"14.4\" fill=\"#009af9\" fill-rule=\"evenodd\" fill-opacity=\"1\" stroke=\"#000000\" stroke-opacity=\"1\" stroke-width=\"3.2\"/>\n",
              "<circle clip-path=\"url(#clip302)\" cx=\"1502.37\" cy=\"942.03\" r=\"14.4\" fill=\"#009af9\" fill-rule=\"evenodd\" fill-opacity=\"1\" stroke=\"#000000\" stroke-opacity=\"1\" stroke-width=\"3.2\"/>\n",
              "<circle clip-path=\"url(#clip302)\" cx=\"952.579\" cy=\"946.526\" r=\"14.4\" fill=\"#009af9\" fill-rule=\"evenodd\" fill-opacity=\"1\" stroke=\"#000000\" stroke-opacity=\"1\" stroke-width=\"3.2\"/>\n",
              "<circle clip-path=\"url(#clip302)\" cx=\"953.594\" cy=\"951.621\" r=\"14.4\" fill=\"#009af9\" fill-rule=\"evenodd\" fill-opacity=\"1\" stroke=\"#000000\" stroke-opacity=\"1\" stroke-width=\"3.2\"/>\n",
              "<circle clip-path=\"url(#clip302)\" cx=\"864.417\" cy=\"953.902\" r=\"14.4\" fill=\"#009af9\" fill-rule=\"evenodd\" fill-opacity=\"1\" stroke=\"#000000\" stroke-opacity=\"1\" stroke-width=\"3.2\"/>\n",
              "<circle clip-path=\"url(#clip302)\" cx=\"1215.68\" cy=\"960\" r=\"14.4\" fill=\"#009af9\" fill-rule=\"evenodd\" fill-opacity=\"1\" stroke=\"#000000\" stroke-opacity=\"1\" stroke-width=\"3.2\"/>\n",
              "<circle clip-path=\"url(#clip302)\" cx=\"1127.8\" cy=\"962.594\" r=\"14.4\" fill=\"#009af9\" fill-rule=\"evenodd\" fill-opacity=\"1\" stroke=\"#000000\" stroke-opacity=\"1\" stroke-width=\"3.2\"/>\n",
              "<circle clip-path=\"url(#clip302)\" cx=\"969.1\" cy=\"964.588\" r=\"14.4\" fill=\"#009af9\" fill-rule=\"evenodd\" fill-opacity=\"1\" stroke=\"#000000\" stroke-opacity=\"1\" stroke-width=\"3.2\"/>\n",
              "<circle clip-path=\"url(#clip302)\" cx=\"1182.08\" cy=\"965.481\" r=\"14.4\" fill=\"#009af9\" fill-rule=\"evenodd\" fill-opacity=\"1\" stroke=\"#000000\" stroke-opacity=\"1\" stroke-width=\"3.2\"/>\n",
              "<circle clip-path=\"url(#clip302)\" cx=\"1077.86\" cy=\"966.068\" r=\"14.4\" fill=\"#009af9\" fill-rule=\"evenodd\" fill-opacity=\"1\" stroke=\"#000000\" stroke-opacity=\"1\" stroke-width=\"3.2\"/>\n",
              "<circle clip-path=\"url(#clip302)\" cx=\"1090.73\" cy=\"967.967\" r=\"14.4\" fill=\"#009af9\" fill-rule=\"evenodd\" fill-opacity=\"1\" stroke=\"#000000\" stroke-opacity=\"1\" stroke-width=\"3.2\"/>\n",
              "<circle clip-path=\"url(#clip302)\" cx=\"1112.56\" cy=\"968.412\" r=\"14.4\" fill=\"#009af9\" fill-rule=\"evenodd\" fill-opacity=\"1\" stroke=\"#000000\" stroke-opacity=\"1\" stroke-width=\"3.2\"/>\n",
              "<circle clip-path=\"url(#clip302)\" cx=\"1109.95\" cy=\"969.596\" r=\"14.4\" fill=\"#009af9\" fill-rule=\"evenodd\" fill-opacity=\"1\" stroke=\"#000000\" stroke-opacity=\"1\" stroke-width=\"3.2\"/>\n",
              "<circle clip-path=\"url(#clip302)\" cx=\"1084.77\" cy=\"970.242\" r=\"14.4\" fill=\"#009af9\" fill-rule=\"evenodd\" fill-opacity=\"1\" stroke=\"#000000\" stroke-opacity=\"1\" stroke-width=\"3.2\"/>\n",
              "<circle clip-path=\"url(#clip302)\" cx=\"1443.9\" cy=\"972.002\" r=\"14.4\" fill=\"#009af9\" fill-rule=\"evenodd\" fill-opacity=\"1\" stroke=\"#000000\" stroke-opacity=\"1\" stroke-width=\"3.2\"/>\n",
              "<circle clip-path=\"url(#clip302)\" cx=\"993.871\" cy=\"972.686\" r=\"14.4\" fill=\"#009af9\" fill-rule=\"evenodd\" fill-opacity=\"1\" stroke=\"#000000\" stroke-opacity=\"1\" stroke-width=\"3.2\"/>\n",
              "<circle clip-path=\"url(#clip302)\" cx=\"971.002\" cy=\"974.067\" r=\"14.4\" fill=\"#009af9\" fill-rule=\"evenodd\" fill-opacity=\"1\" stroke=\"#000000\" stroke-opacity=\"1\" stroke-width=\"3.2\"/>\n",
              "<circle clip-path=\"url(#clip302)\" cx=\"1393.7\" cy=\"975.147\" r=\"14.4\" fill=\"#009af9\" fill-rule=\"evenodd\" fill-opacity=\"1\" stroke=\"#000000\" stroke-opacity=\"1\" stroke-width=\"3.2\"/>\n",
              "<circle clip-path=\"url(#clip302)\" cx=\"1034.99\" cy=\"976.319\" r=\"14.4\" fill=\"#009af9\" fill-rule=\"evenodd\" fill-opacity=\"1\" stroke=\"#000000\" stroke-opacity=\"1\" stroke-width=\"3.2\"/>\n",
              "<circle clip-path=\"url(#clip302)\" cx=\"1038.12\" cy=\"976.766\" r=\"14.4\" fill=\"#009af9\" fill-rule=\"evenodd\" fill-opacity=\"1\" stroke=\"#000000\" stroke-opacity=\"1\" stroke-width=\"3.2\"/>\n",
              "<circle clip-path=\"url(#clip302)\" cx=\"773.263\" cy=\"979.463\" r=\"14.4\" fill=\"#009af9\" fill-rule=\"evenodd\" fill-opacity=\"1\" stroke=\"#000000\" stroke-opacity=\"1\" stroke-width=\"3.2\"/>\n",
              "<circle clip-path=\"url(#clip302)\" cx=\"1056.55\" cy=\"981.44\" r=\"14.4\" fill=\"#009af9\" fill-rule=\"evenodd\" fill-opacity=\"1\" stroke=\"#000000\" stroke-opacity=\"1\" stroke-width=\"3.2\"/>\n",
              "<circle clip-path=\"url(#clip302)\" cx=\"930.014\" cy=\"983.963\" r=\"14.4\" fill=\"#009af9\" fill-rule=\"evenodd\" fill-opacity=\"1\" stroke=\"#000000\" stroke-opacity=\"1\" stroke-width=\"3.2\"/>\n",
              "<circle clip-path=\"url(#clip302)\" cx=\"1106.15\" cy=\"986.143\" r=\"14.4\" fill=\"#009af9\" fill-rule=\"evenodd\" fill-opacity=\"1\" stroke=\"#000000\" stroke-opacity=\"1\" stroke-width=\"3.2\"/>\n",
              "<circle clip-path=\"url(#clip302)\" cx=\"1068.52\" cy=\"986.275\" r=\"14.4\" fill=\"#009af9\" fill-rule=\"evenodd\" fill-opacity=\"1\" stroke=\"#000000\" stroke-opacity=\"1\" stroke-width=\"3.2\"/>\n",
              "<circle clip-path=\"url(#clip302)\" cx=\"1182.21\" cy=\"988.809\" r=\"14.4\" fill=\"#009af9\" fill-rule=\"evenodd\" fill-opacity=\"1\" stroke=\"#000000\" stroke-opacity=\"1\" stroke-width=\"3.2\"/>\n",
              "<circle clip-path=\"url(#clip302)\" cx=\"957.923\" cy=\"989.884\" r=\"14.4\" fill=\"#009af9\" fill-rule=\"evenodd\" fill-opacity=\"1\" stroke=\"#000000\" stroke-opacity=\"1\" stroke-width=\"3.2\"/>\n",
              "<circle clip-path=\"url(#clip302)\" cx=\"1416.67\" cy=\"991.267\" r=\"14.4\" fill=\"#009af9\" fill-rule=\"evenodd\" fill-opacity=\"1\" stroke=\"#000000\" stroke-opacity=\"1\" stroke-width=\"3.2\"/>\n",
              "<circle clip-path=\"url(#clip302)\" cx=\"1135.11\" cy=\"991.506\" r=\"14.4\" fill=\"#009af9\" fill-rule=\"evenodd\" fill-opacity=\"1\" stroke=\"#000000\" stroke-opacity=\"1\" stroke-width=\"3.2\"/>\n",
              "<circle clip-path=\"url(#clip302)\" cx=\"940.622\" cy=\"993.743\" r=\"14.4\" fill=\"#009af9\" fill-rule=\"evenodd\" fill-opacity=\"1\" stroke=\"#000000\" stroke-opacity=\"1\" stroke-width=\"3.2\"/>\n",
              "<circle clip-path=\"url(#clip302)\" cx=\"1068.69\" cy=\"995.473\" r=\"14.4\" fill=\"#009af9\" fill-rule=\"evenodd\" fill-opacity=\"1\" stroke=\"#000000\" stroke-opacity=\"1\" stroke-width=\"3.2\"/>\n",
              "<circle clip-path=\"url(#clip302)\" cx=\"965.139\" cy=\"995.89\" r=\"14.4\" fill=\"#009af9\" fill-rule=\"evenodd\" fill-opacity=\"1\" stroke=\"#000000\" stroke-opacity=\"1\" stroke-width=\"3.2\"/>\n",
              "<circle clip-path=\"url(#clip302)\" cx=\"1153.15\" cy=\"995.893\" r=\"14.4\" fill=\"#009af9\" fill-rule=\"evenodd\" fill-opacity=\"1\" stroke=\"#000000\" stroke-opacity=\"1\" stroke-width=\"3.2\"/>\n",
              "<circle clip-path=\"url(#clip302)\" cx=\"1535.33\" cy=\"997.522\" r=\"14.4\" fill=\"#009af9\" fill-rule=\"evenodd\" fill-opacity=\"1\" stroke=\"#000000\" stroke-opacity=\"1\" stroke-width=\"3.2\"/>\n",
              "<circle clip-path=\"url(#clip302)\" cx=\"911.378\" cy=\"998.118\" r=\"14.4\" fill=\"#009af9\" fill-rule=\"evenodd\" fill-opacity=\"1\" stroke=\"#000000\" stroke-opacity=\"1\" stroke-width=\"3.2\"/>\n",
              "<circle clip-path=\"url(#clip302)\" cx=\"904.156\" cy=\"1000.38\" r=\"14.4\" fill=\"#009af9\" fill-rule=\"evenodd\" fill-opacity=\"1\" stroke=\"#000000\" stroke-opacity=\"1\" stroke-width=\"3.2\"/>\n",
              "<circle clip-path=\"url(#clip302)\" cx=\"944.327\" cy=\"1000.72\" r=\"14.4\" fill=\"#009af9\" fill-rule=\"evenodd\" fill-opacity=\"1\" stroke=\"#000000\" stroke-opacity=\"1\" stroke-width=\"3.2\"/>\n",
              "<circle clip-path=\"url(#clip302)\" cx=\"934.245\" cy=\"1001\" r=\"14.4\" fill=\"#009af9\" fill-rule=\"evenodd\" fill-opacity=\"1\" stroke=\"#000000\" stroke-opacity=\"1\" stroke-width=\"3.2\"/>\n",
              "<circle clip-path=\"url(#clip302)\" cx=\"1297.42\" cy=\"1001.41\" r=\"14.4\" fill=\"#009af9\" fill-rule=\"evenodd\" fill-opacity=\"1\" stroke=\"#000000\" stroke-opacity=\"1\" stroke-width=\"3.2\"/>\n",
              "<circle clip-path=\"url(#clip302)\" cx=\"1100.84\" cy=\"1002.66\" r=\"14.4\" fill=\"#009af9\" fill-rule=\"evenodd\" fill-opacity=\"1\" stroke=\"#000000\" stroke-opacity=\"1\" stroke-width=\"3.2\"/>\n",
              "<circle clip-path=\"url(#clip302)\" cx=\"1107.77\" cy=\"1003.33\" r=\"14.4\" fill=\"#009af9\" fill-rule=\"evenodd\" fill-opacity=\"1\" stroke=\"#000000\" stroke-opacity=\"1\" stroke-width=\"3.2\"/>\n",
              "<circle clip-path=\"url(#clip302)\" cx=\"1128.51\" cy=\"1006.18\" r=\"14.4\" fill=\"#009af9\" fill-rule=\"evenodd\" fill-opacity=\"1\" stroke=\"#000000\" stroke-opacity=\"1\" stroke-width=\"3.2\"/>\n",
              "<circle clip-path=\"url(#clip302)\" cx=\"911.701\" cy=\"1007.68\" r=\"14.4\" fill=\"#009af9\" fill-rule=\"evenodd\" fill-opacity=\"1\" stroke=\"#000000\" stroke-opacity=\"1\" stroke-width=\"3.2\"/>\n",
              "<circle clip-path=\"url(#clip302)\" cx=\"813.696\" cy=\"1009.99\" r=\"14.4\" fill=\"#009af9\" fill-rule=\"evenodd\" fill-opacity=\"1\" stroke=\"#000000\" stroke-opacity=\"1\" stroke-width=\"3.2\"/>\n",
              "<circle clip-path=\"url(#clip302)\" cx=\"950.925\" cy=\"1010.71\" r=\"14.4\" fill=\"#009af9\" fill-rule=\"evenodd\" fill-opacity=\"1\" stroke=\"#000000\" stroke-opacity=\"1\" stroke-width=\"3.2\"/>\n",
              "<circle clip-path=\"url(#clip302)\" cx=\"843.425\" cy=\"1011.22\" r=\"14.4\" fill=\"#009af9\" fill-rule=\"evenodd\" fill-opacity=\"1\" stroke=\"#000000\" stroke-opacity=\"1\" stroke-width=\"3.2\"/>\n",
              "<circle clip-path=\"url(#clip302)\" cx=\"934.183\" cy=\"1013.4\" r=\"14.4\" fill=\"#009af9\" fill-rule=\"evenodd\" fill-opacity=\"1\" stroke=\"#000000\" stroke-opacity=\"1\" stroke-width=\"3.2\"/>\n",
              "<circle clip-path=\"url(#clip302)\" cx=\"1040.81\" cy=\"1014.37\" r=\"14.4\" fill=\"#009af9\" fill-rule=\"evenodd\" fill-opacity=\"1\" stroke=\"#000000\" stroke-opacity=\"1\" stroke-width=\"3.2\"/>\n",
              "<circle clip-path=\"url(#clip302)\" cx=\"1197.03\" cy=\"1014.56\" r=\"14.4\" fill=\"#009af9\" fill-rule=\"evenodd\" fill-opacity=\"1\" stroke=\"#000000\" stroke-opacity=\"1\" stroke-width=\"3.2\"/>\n",
              "<circle clip-path=\"url(#clip302)\" cx=\"1119.6\" cy=\"1014.7\" r=\"14.4\" fill=\"#009af9\" fill-rule=\"evenodd\" fill-opacity=\"1\" stroke=\"#000000\" stroke-opacity=\"1\" stroke-width=\"3.2\"/>\n",
              "<circle clip-path=\"url(#clip302)\" cx=\"1184.76\" cy=\"1015.19\" r=\"14.4\" fill=\"#009af9\" fill-rule=\"evenodd\" fill-opacity=\"1\" stroke=\"#000000\" stroke-opacity=\"1\" stroke-width=\"3.2\"/>\n",
              "<circle clip-path=\"url(#clip302)\" cx=\"1275.93\" cy=\"1015.19\" r=\"14.4\" fill=\"#009af9\" fill-rule=\"evenodd\" fill-opacity=\"1\" stroke=\"#000000\" stroke-opacity=\"1\" stroke-width=\"3.2\"/>\n",
              "<circle clip-path=\"url(#clip302)\" cx=\"824.526\" cy=\"1015.39\" r=\"14.4\" fill=\"#009af9\" fill-rule=\"evenodd\" fill-opacity=\"1\" stroke=\"#000000\" stroke-opacity=\"1\" stroke-width=\"3.2\"/>\n",
              "<circle clip-path=\"url(#clip302)\" cx=\"1209.17\" cy=\"1015.56\" r=\"14.4\" fill=\"#009af9\" fill-rule=\"evenodd\" fill-opacity=\"1\" stroke=\"#000000\" stroke-opacity=\"1\" stroke-width=\"3.2\"/>\n",
              "<circle clip-path=\"url(#clip302)\" cx=\"1210.45\" cy=\"1015.58\" r=\"14.4\" fill=\"#009af9\" fill-rule=\"evenodd\" fill-opacity=\"1\" stroke=\"#000000\" stroke-opacity=\"1\" stroke-width=\"3.2\"/>\n",
              "<circle clip-path=\"url(#clip302)\" cx=\"802.07\" cy=\"1015.83\" r=\"14.4\" fill=\"#009af9\" fill-rule=\"evenodd\" fill-opacity=\"1\" stroke=\"#000000\" stroke-opacity=\"1\" stroke-width=\"3.2\"/>\n",
              "<circle clip-path=\"url(#clip302)\" cx=\"946.598\" cy=\"1016.12\" r=\"14.4\" fill=\"#009af9\" fill-rule=\"evenodd\" fill-opacity=\"1\" stroke=\"#000000\" stroke-opacity=\"1\" stroke-width=\"3.2\"/>\n",
              "<circle clip-path=\"url(#clip302)\" cx=\"796.654\" cy=\"1020.1\" r=\"14.4\" fill=\"#009af9\" fill-rule=\"evenodd\" fill-opacity=\"1\" stroke=\"#000000\" stroke-opacity=\"1\" stroke-width=\"3.2\"/>\n",
              "<circle clip-path=\"url(#clip302)\" cx=\"1004.84\" cy=\"1020.24\" r=\"14.4\" fill=\"#009af9\" fill-rule=\"evenodd\" fill-opacity=\"1\" stroke=\"#000000\" stroke-opacity=\"1\" stroke-width=\"3.2\"/>\n",
              "<circle clip-path=\"url(#clip302)\" cx=\"1098.57\" cy=\"1025.65\" r=\"14.4\" fill=\"#009af9\" fill-rule=\"evenodd\" fill-opacity=\"1\" stroke=\"#000000\" stroke-opacity=\"1\" stroke-width=\"3.2\"/>\n",
              "<circle clip-path=\"url(#clip302)\" cx=\"883.105\" cy=\"1027.1\" r=\"14.4\" fill=\"#009af9\" fill-rule=\"evenodd\" fill-opacity=\"1\" stroke=\"#000000\" stroke-opacity=\"1\" stroke-width=\"3.2\"/>\n",
              "<circle clip-path=\"url(#clip302)\" cx=\"926.9\" cy=\"1027.89\" r=\"14.4\" fill=\"#009af9\" fill-rule=\"evenodd\" fill-opacity=\"1\" stroke=\"#000000\" stroke-opacity=\"1\" stroke-width=\"3.2\"/>\n",
              "<circle clip-path=\"url(#clip302)\" cx=\"1210.27\" cy=\"1029.14\" r=\"14.4\" fill=\"#009af9\" fill-rule=\"evenodd\" fill-opacity=\"1\" stroke=\"#000000\" stroke-opacity=\"1\" stroke-width=\"3.2\"/>\n",
              "<circle clip-path=\"url(#clip302)\" cx=\"793.926\" cy=\"1029.9\" r=\"14.4\" fill=\"#009af9\" fill-rule=\"evenodd\" fill-opacity=\"1\" stroke=\"#000000\" stroke-opacity=\"1\" stroke-width=\"3.2\"/>\n",
              "<circle clip-path=\"url(#clip302)\" cx=\"1193.58\" cy=\"1030.72\" r=\"14.4\" fill=\"#009af9\" fill-rule=\"evenodd\" fill-opacity=\"1\" stroke=\"#000000\" stroke-opacity=\"1\" stroke-width=\"3.2\"/>\n",
              "<circle clip-path=\"url(#clip302)\" cx=\"1080.05\" cy=\"1031.04\" r=\"14.4\" fill=\"#009af9\" fill-rule=\"evenodd\" fill-opacity=\"1\" stroke=\"#000000\" stroke-opacity=\"1\" stroke-width=\"3.2\"/>\n",
              "<circle clip-path=\"url(#clip302)\" cx=\"894.12\" cy=\"1032.43\" r=\"14.4\" fill=\"#009af9\" fill-rule=\"evenodd\" fill-opacity=\"1\" stroke=\"#000000\" stroke-opacity=\"1\" stroke-width=\"3.2\"/>\n",
              "<circle clip-path=\"url(#clip302)\" cx=\"831.056\" cy=\"1033.57\" r=\"14.4\" fill=\"#009af9\" fill-rule=\"evenodd\" fill-opacity=\"1\" stroke=\"#000000\" stroke-opacity=\"1\" stroke-width=\"3.2\"/>\n",
              "<circle clip-path=\"url(#clip302)\" cx=\"1128.3\" cy=\"1033.6\" r=\"14.4\" fill=\"#009af9\" fill-rule=\"evenodd\" fill-opacity=\"1\" stroke=\"#000000\" stroke-opacity=\"1\" stroke-width=\"3.2\"/>\n",
              "<circle clip-path=\"url(#clip302)\" cx=\"1162.99\" cy=\"1033.65\" r=\"14.4\" fill=\"#009af9\" fill-rule=\"evenodd\" fill-opacity=\"1\" stroke=\"#000000\" stroke-opacity=\"1\" stroke-width=\"3.2\"/>\n",
              "<circle clip-path=\"url(#clip302)\" cx=\"1181.95\" cy=\"1033.71\" r=\"14.4\" fill=\"#009af9\" fill-rule=\"evenodd\" fill-opacity=\"1\" stroke=\"#000000\" stroke-opacity=\"1\" stroke-width=\"3.2\"/>\n",
              "<circle clip-path=\"url(#clip302)\" cx=\"1083.09\" cy=\"1043.3\" r=\"14.4\" fill=\"#009af9\" fill-rule=\"evenodd\" fill-opacity=\"1\" stroke=\"#000000\" stroke-opacity=\"1\" stroke-width=\"3.2\"/>\n",
              "<circle clip-path=\"url(#clip302)\" cx=\"1078.23\" cy=\"1043.89\" r=\"14.4\" fill=\"#009af9\" fill-rule=\"evenodd\" fill-opacity=\"1\" stroke=\"#000000\" stroke-opacity=\"1\" stroke-width=\"3.2\"/>\n",
              "<circle clip-path=\"url(#clip302)\" cx=\"1188.08\" cy=\"1045.04\" r=\"14.4\" fill=\"#009af9\" fill-rule=\"evenodd\" fill-opacity=\"1\" stroke=\"#000000\" stroke-opacity=\"1\" stroke-width=\"3.2\"/>\n",
              "<circle clip-path=\"url(#clip302)\" cx=\"1216.01\" cy=\"1047.39\" r=\"14.4\" fill=\"#009af9\" fill-rule=\"evenodd\" fill-opacity=\"1\" stroke=\"#000000\" stroke-opacity=\"1\" stroke-width=\"3.2\"/>\n",
              "<circle clip-path=\"url(#clip302)\" cx=\"1260.85\" cy=\"1047.99\" r=\"14.4\" fill=\"#009af9\" fill-rule=\"evenodd\" fill-opacity=\"1\" stroke=\"#000000\" stroke-opacity=\"1\" stroke-width=\"3.2\"/>\n",
              "<circle clip-path=\"url(#clip302)\" cx=\"969.174\" cy=\"1051.14\" r=\"14.4\" fill=\"#009af9\" fill-rule=\"evenodd\" fill-opacity=\"1\" stroke=\"#000000\" stroke-opacity=\"1\" stroke-width=\"3.2\"/>\n",
              "<circle clip-path=\"url(#clip302)\" cx=\"1307.68\" cy=\"1051.95\" r=\"14.4\" fill=\"#009af9\" fill-rule=\"evenodd\" fill-opacity=\"1\" stroke=\"#000000\" stroke-opacity=\"1\" stroke-width=\"3.2\"/>\n",
              "<circle clip-path=\"url(#clip302)\" cx=\"1196.96\" cy=\"1052.25\" r=\"14.4\" fill=\"#009af9\" fill-rule=\"evenodd\" fill-opacity=\"1\" stroke=\"#000000\" stroke-opacity=\"1\" stroke-width=\"3.2\"/>\n",
              "<circle clip-path=\"url(#clip302)\" cx=\"882.641\" cy=\"1052.49\" r=\"14.4\" fill=\"#009af9\" fill-rule=\"evenodd\" fill-opacity=\"1\" stroke=\"#000000\" stroke-opacity=\"1\" stroke-width=\"3.2\"/>\n",
              "<circle clip-path=\"url(#clip302)\" cx=\"1043.32\" cy=\"1056.89\" r=\"14.4\" fill=\"#009af9\" fill-rule=\"evenodd\" fill-opacity=\"1\" stroke=\"#000000\" stroke-opacity=\"1\" stroke-width=\"3.2\"/>\n",
              "<circle clip-path=\"url(#clip302)\" cx=\"1126.67\" cy=\"1062.05\" r=\"14.4\" fill=\"#009af9\" fill-rule=\"evenodd\" fill-opacity=\"1\" stroke=\"#000000\" stroke-opacity=\"1\" stroke-width=\"3.2\"/>\n",
              "<circle clip-path=\"url(#clip302)\" cx=\"1068.68\" cy=\"1063.84\" r=\"14.4\" fill=\"#009af9\" fill-rule=\"evenodd\" fill-opacity=\"1\" stroke=\"#000000\" stroke-opacity=\"1\" stroke-width=\"3.2\"/>\n",
              "<circle clip-path=\"url(#clip302)\" cx=\"1101.65\" cy=\"1064.08\" r=\"14.4\" fill=\"#009af9\" fill-rule=\"evenodd\" fill-opacity=\"1\" stroke=\"#000000\" stroke-opacity=\"1\" stroke-width=\"3.2\"/>\n",
              "<circle clip-path=\"url(#clip302)\" cx=\"1022.59\" cy=\"1064.46\" r=\"14.4\" fill=\"#009af9\" fill-rule=\"evenodd\" fill-opacity=\"1\" stroke=\"#000000\" stroke-opacity=\"1\" stroke-width=\"3.2\"/>\n",
              "<circle clip-path=\"url(#clip302)\" cx=\"1489.06\" cy=\"1065.05\" r=\"14.4\" fill=\"#009af9\" fill-rule=\"evenodd\" fill-opacity=\"1\" stroke=\"#000000\" stroke-opacity=\"1\" stroke-width=\"3.2\"/>\n",
              "<circle clip-path=\"url(#clip302)\" cx=\"894.115\" cy=\"1067.63\" r=\"14.4\" fill=\"#009af9\" fill-rule=\"evenodd\" fill-opacity=\"1\" stroke=\"#000000\" stroke-opacity=\"1\" stroke-width=\"3.2\"/>\n",
              "<circle clip-path=\"url(#clip302)\" cx=\"1243.63\" cy=\"1070.29\" r=\"14.4\" fill=\"#009af9\" fill-rule=\"evenodd\" fill-opacity=\"1\" stroke=\"#000000\" stroke-opacity=\"1\" stroke-width=\"3.2\"/>\n",
              "<circle clip-path=\"url(#clip302)\" cx=\"1031.65\" cy=\"1070.99\" r=\"14.4\" fill=\"#009af9\" fill-rule=\"evenodd\" fill-opacity=\"1\" stroke=\"#000000\" stroke-opacity=\"1\" stroke-width=\"3.2\"/>\n",
              "<circle clip-path=\"url(#clip302)\" cx=\"898.912\" cy=\"1072.4\" r=\"14.4\" fill=\"#009af9\" fill-rule=\"evenodd\" fill-opacity=\"1\" stroke=\"#000000\" stroke-opacity=\"1\" stroke-width=\"3.2\"/>\n",
              "<circle clip-path=\"url(#clip302)\" cx=\"1108.47\" cy=\"1072.58\" r=\"14.4\" fill=\"#009af9\" fill-rule=\"evenodd\" fill-opacity=\"1\" stroke=\"#000000\" stroke-opacity=\"1\" stroke-width=\"3.2\"/>\n",
              "<circle clip-path=\"url(#clip302)\" cx=\"1265.28\" cy=\"1074.81\" r=\"14.4\" fill=\"#009af9\" fill-rule=\"evenodd\" fill-opacity=\"1\" stroke=\"#000000\" stroke-opacity=\"1\" stroke-width=\"3.2\"/>\n",
              "<circle clip-path=\"url(#clip302)\" cx=\"1170.51\" cy=\"1078.55\" r=\"14.4\" fill=\"#009af9\" fill-rule=\"evenodd\" fill-opacity=\"1\" stroke=\"#000000\" stroke-opacity=\"1\" stroke-width=\"3.2\"/>\n",
              "<circle clip-path=\"url(#clip302)\" cx=\"859.24\" cy=\"1078.87\" r=\"14.4\" fill=\"#009af9\" fill-rule=\"evenodd\" fill-opacity=\"1\" stroke=\"#000000\" stroke-opacity=\"1\" stroke-width=\"3.2\"/>\n",
              "<circle clip-path=\"url(#clip302)\" cx=\"1184.92\" cy=\"1078.8\" r=\"14.4\" fill=\"#009af9\" fill-rule=\"evenodd\" fill-opacity=\"1\" stroke=\"#000000\" stroke-opacity=\"1\" stroke-width=\"3.2\"/>\n",
              "<circle clip-path=\"url(#clip302)\" cx=\"927.596\" cy=\"1106.34\" r=\"14.4\" fill=\"#009af9\" fill-rule=\"evenodd\" fill-opacity=\"1\" stroke=\"#000000\" stroke-opacity=\"1\" stroke-width=\"3.2\"/>\n",
              "<circle clip-path=\"url(#clip302)\" cx=\"1373.79\" cy=\"1107.29\" r=\"14.4\" fill=\"#009af9\" fill-rule=\"evenodd\" fill-opacity=\"1\" stroke=\"#000000\" stroke-opacity=\"1\" stroke-width=\"3.2\"/>\n",
              "<circle clip-path=\"url(#clip302)\" cx=\"1208.92\" cy=\"1107.53\" r=\"14.4\" fill=\"#009af9\" fill-rule=\"evenodd\" fill-opacity=\"1\" stroke=\"#000000\" stroke-opacity=\"1\" stroke-width=\"3.2\"/>\n",
              "<circle clip-path=\"url(#clip302)\" cx=\"1229.61\" cy=\"1108.51\" r=\"14.4\" fill=\"#009af9\" fill-rule=\"evenodd\" fill-opacity=\"1\" stroke=\"#000000\" stroke-opacity=\"1\" stroke-width=\"3.2\"/>\n",
              "<circle clip-path=\"url(#clip302)\" cx=\"1108.28\" cy=\"1108.93\" r=\"14.4\" fill=\"#009af9\" fill-rule=\"evenodd\" fill-opacity=\"1\" stroke=\"#000000\" stroke-opacity=\"1\" stroke-width=\"3.2\"/>\n",
              "<circle clip-path=\"url(#clip302)\" cx=\"1355.8\" cy=\"1110.77\" r=\"14.4\" fill=\"#009af9\" fill-rule=\"evenodd\" fill-opacity=\"1\" stroke=\"#000000\" stroke-opacity=\"1\" stroke-width=\"3.2\"/>\n",
              "<circle clip-path=\"url(#clip302)\" cx=\"982.838\" cy=\"1114.5\" r=\"14.4\" fill=\"#009af9\" fill-rule=\"evenodd\" fill-opacity=\"1\" stroke=\"#000000\" stroke-opacity=\"1\" stroke-width=\"3.2\"/>\n",
              "<circle clip-path=\"url(#clip302)\" cx=\"1119.89\" cy=\"1114.78\" r=\"14.4\" fill=\"#009af9\" fill-rule=\"evenodd\" fill-opacity=\"1\" stroke=\"#000000\" stroke-opacity=\"1\" stroke-width=\"3.2\"/>\n",
              "<circle clip-path=\"url(#clip302)\" cx=\"1369.02\" cy=\"1116\" r=\"14.4\" fill=\"#009af9\" fill-rule=\"evenodd\" fill-opacity=\"1\" stroke=\"#000000\" stroke-opacity=\"1\" stroke-width=\"3.2\"/>\n",
              "<circle clip-path=\"url(#clip302)\" cx=\"951.604\" cy=\"1116.17\" r=\"14.4\" fill=\"#009af9\" fill-rule=\"evenodd\" fill-opacity=\"1\" stroke=\"#000000\" stroke-opacity=\"1\" stroke-width=\"3.2\"/>\n",
              "<circle clip-path=\"url(#clip302)\" cx=\"1130.69\" cy=\"1116.35\" r=\"14.4\" fill=\"#009af9\" fill-rule=\"evenodd\" fill-opacity=\"1\" stroke=\"#000000\" stroke-opacity=\"1\" stroke-width=\"3.2\"/>\n",
              "<circle clip-path=\"url(#clip302)\" cx=\"1175.88\" cy=\"1121.45\" r=\"14.4\" fill=\"#009af9\" fill-rule=\"evenodd\" fill-opacity=\"1\" stroke=\"#000000\" stroke-opacity=\"1\" stroke-width=\"3.2\"/>\n",
              "<circle clip-path=\"url(#clip302)\" cx=\"1226.75\" cy=\"1123.03\" r=\"14.4\" fill=\"#009af9\" fill-rule=\"evenodd\" fill-opacity=\"1\" stroke=\"#000000\" stroke-opacity=\"1\" stroke-width=\"3.2\"/>\n",
              "<circle clip-path=\"url(#clip302)\" cx=\"1360.4\" cy=\"1128.7\" r=\"14.4\" fill=\"#009af9\" fill-rule=\"evenodd\" fill-opacity=\"1\" stroke=\"#000000\" stroke-opacity=\"1\" stroke-width=\"3.2\"/>\n",
              "<circle clip-path=\"url(#clip302)\" cx=\"1349.08\" cy=\"1128.98\" r=\"14.4\" fill=\"#009af9\" fill-rule=\"evenodd\" fill-opacity=\"1\" stroke=\"#000000\" stroke-opacity=\"1\" stroke-width=\"3.2\"/>\n",
              "<circle clip-path=\"url(#clip302)\" cx=\"1173\" cy=\"1145\" r=\"14.4\" fill=\"#009af9\" fill-rule=\"evenodd\" fill-opacity=\"1\" stroke=\"#000000\" stroke-opacity=\"1\" stroke-width=\"3.2\"/>\n",
              "<circle clip-path=\"url(#clip302)\" cx=\"1487.24\" cy=\"1183.16\" r=\"14.4\" fill=\"#009af9\" fill-rule=\"evenodd\" fill-opacity=\"1\" stroke=\"#000000\" stroke-opacity=\"1\" stroke-width=\"3.2\"/>\n",
              "<circle clip-path=\"url(#clip302)\" cx=\"1590.32\" cy=\"1217.42\" r=\"14.4\" fill=\"#009af9\" fill-rule=\"evenodd\" fill-opacity=\"1\" stroke=\"#000000\" stroke-opacity=\"1\" stroke-width=\"3.2\"/>\n",
              "<circle clip-path=\"url(#clip302)\" cx=\"1488.08\" cy=\"1224.7\" r=\"14.4\" fill=\"#009af9\" fill-rule=\"evenodd\" fill-opacity=\"1\" stroke=\"#000000\" stroke-opacity=\"1\" stroke-width=\"3.2\"/>\n",
              "<circle clip-path=\"url(#clip302)\" cx=\"1444.89\" cy=\"1244.37\" r=\"14.4\" fill=\"#009af9\" fill-rule=\"evenodd\" fill-opacity=\"1\" stroke=\"#000000\" stroke-opacity=\"1\" stroke-width=\"3.2\"/>\n",
              "<circle clip-path=\"url(#clip302)\" cx=\"2294.08\" cy=\"1247.51\" r=\"14.4\" fill=\"#009af9\" fill-rule=\"evenodd\" fill-opacity=\"1\" stroke=\"#000000\" stroke-opacity=\"1\" stroke-width=\"3.2\"/>\n",
              "<circle clip-path=\"url(#clip302)\" cx=\"1261.11\" cy=\"1251.93\" r=\"14.4\" fill=\"#009af9\" fill-rule=\"evenodd\" fill-opacity=\"1\" stroke=\"#000000\" stroke-opacity=\"1\" stroke-width=\"3.2\"/>\n",
              "<circle clip-path=\"url(#clip302)\" cx=\"1208.49\" cy=\"1273.8\" r=\"14.4\" fill=\"#009af9\" fill-rule=\"evenodd\" fill-opacity=\"1\" stroke=\"#000000\" stroke-opacity=\"1\" stroke-width=\"3.2\"/>\n",
              "<circle clip-path=\"url(#clip302)\" cx=\"1302.15\" cy=\"1277.44\" r=\"14.4\" fill=\"#009af9\" fill-rule=\"evenodd\" fill-opacity=\"1\" stroke=\"#000000\" stroke-opacity=\"1\" stroke-width=\"3.2\"/>\n",
              "<circle clip-path=\"url(#clip302)\" cx=\"1140.94\" cy=\"1277.59\" r=\"14.4\" fill=\"#009af9\" fill-rule=\"evenodd\" fill-opacity=\"1\" stroke=\"#000000\" stroke-opacity=\"1\" stroke-width=\"3.2\"/>\n",
              "<circle clip-path=\"url(#clip302)\" cx=\"1566.61\" cy=\"1280.58\" r=\"14.4\" fill=\"#009af9\" fill-rule=\"evenodd\" fill-opacity=\"1\" stroke=\"#000000\" stroke-opacity=\"1\" stroke-width=\"3.2\"/>\n",
              "<circle clip-path=\"url(#clip302)\" cx=\"1279.57\" cy=\"1284.44\" r=\"14.4\" fill=\"#009af9\" fill-rule=\"evenodd\" fill-opacity=\"1\" stroke=\"#000000\" stroke-opacity=\"1\" stroke-width=\"3.2\"/>\n",
              "<circle clip-path=\"url(#clip302)\" cx=\"1200.92\" cy=\"1330.51\" r=\"14.4\" fill=\"#009af9\" fill-rule=\"evenodd\" fill-opacity=\"1\" stroke=\"#000000\" stroke-opacity=\"1\" stroke-width=\"3.2\"/>\n",
              "<circle clip-path=\"url(#clip302)\" cx=\"1370.99\" cy=\"1335.39\" r=\"14.4\" fill=\"#009af9\" fill-rule=\"evenodd\" fill-opacity=\"1\" stroke=\"#000000\" stroke-opacity=\"1\" stroke-width=\"3.2\"/>\n",
              "<circle clip-path=\"url(#clip302)\" cx=\"1218.85\" cy=\"1341.65\" r=\"14.4\" fill=\"#009af9\" fill-rule=\"evenodd\" fill-opacity=\"1\" stroke=\"#000000\" stroke-opacity=\"1\" stroke-width=\"3.2\"/>\n",
              "<circle clip-path=\"url(#clip302)\" cx=\"1435.05\" cy=\"1352.08\" r=\"14.4\" fill=\"#009af9\" fill-rule=\"evenodd\" fill-opacity=\"1\" stroke=\"#000000\" stroke-opacity=\"1\" stroke-width=\"3.2\"/>\n",
              "<circle clip-path=\"url(#clip302)\" cx=\"1398.35\" cy=\"1365.1\" r=\"14.4\" fill=\"#009af9\" fill-rule=\"evenodd\" fill-opacity=\"1\" stroke=\"#000000\" stroke-opacity=\"1\" stroke-width=\"3.2\"/>\n",
              "<circle clip-path=\"url(#clip302)\" cx=\"1410.16\" cy=\"1374.58\" r=\"14.4\" fill=\"#009af9\" fill-rule=\"evenodd\" fill-opacity=\"1\" stroke=\"#000000\" stroke-opacity=\"1\" stroke-width=\"3.2\"/>\n",
              "<circle clip-path=\"url(#clip302)\" cx=\"1410.32\" cy=\"1386.4\" r=\"14.4\" fill=\"#009af9\" fill-rule=\"evenodd\" fill-opacity=\"1\" stroke=\"#000000\" stroke-opacity=\"1\" stroke-width=\"3.2\"/>\n",
              "<circle clip-path=\"url(#clip302)\" cx=\"1193.58\" cy=\"1030.72\" r=\"14.4\" fill=\"#e26f46\" fill-rule=\"evenodd\" fill-opacity=\"1\" stroke=\"#000000\" stroke-opacity=\"1\" stroke-width=\"3.2\"/>\n",
              "<circle clip-path=\"url(#clip302)\" cx=\"1181.95\" cy=\"1033.71\" r=\"14.4\" fill=\"#e26f46\" fill-rule=\"evenodd\" fill-opacity=\"1\" stroke=\"#000000\" stroke-opacity=\"1\" stroke-width=\"3.2\"/>\n",
              "<circle clip-path=\"url(#clip302)\" cx=\"1535.33\" cy=\"997.522\" r=\"14.4\" fill=\"#e26f46\" fill-rule=\"evenodd\" fill-opacity=\"1\" stroke=\"#000000\" stroke-opacity=\"1\" stroke-width=\"3.2\"/>\n",
              "<circle clip-path=\"url(#clip302)\" cx=\"1502.37\" cy=\"942.03\" r=\"14.4\" fill=\"#e26f46\" fill-rule=\"evenodd\" fill-opacity=\"1\" stroke=\"#000000\" stroke-opacity=\"1\" stroke-width=\"3.2\"/>\n",
              "<circle clip-path=\"url(#clip302)\" cx=\"1416.67\" cy=\"991.267\" r=\"14.4\" fill=\"#e26f46\" fill-rule=\"evenodd\" fill-opacity=\"1\" stroke=\"#000000\" stroke-opacity=\"1\" stroke-width=\"3.2\"/>\n",
              "<circle clip-path=\"url(#clip302)\" cx=\"1393.7\" cy=\"975.147\" r=\"14.4\" fill=\"#e26f46\" fill-rule=\"evenodd\" fill-opacity=\"1\" stroke=\"#000000\" stroke-opacity=\"1\" stroke-width=\"3.2\"/>\n",
              "<circle clip-path=\"url(#clip302)\" cx=\"1297.42\" cy=\"1001.41\" r=\"14.4\" fill=\"#e26f46\" fill-rule=\"evenodd\" fill-opacity=\"1\" stroke=\"#000000\" stroke-opacity=\"1\" stroke-width=\"3.2\"/>\n",
              "<circle clip-path=\"url(#clip302)\" cx=\"1275.93\" cy=\"1015.19\" r=\"14.4\" fill=\"#e26f46\" fill-rule=\"evenodd\" fill-opacity=\"1\" stroke=\"#000000\" stroke-opacity=\"1\" stroke-width=\"3.2\"/>\n",
              "<circle clip-path=\"url(#clip302)\" cx=\"1488.08\" cy=\"1224.7\" r=\"14.4\" fill=\"#e26f46\" fill-rule=\"evenodd\" fill-opacity=\"1\" stroke=\"#000000\" stroke-opacity=\"1\" stroke-width=\"3.2\"/>\n",
              "<circle clip-path=\"url(#clip302)\" cx=\"1487.24\" cy=\"1183.16\" r=\"14.4\" fill=\"#e26f46\" fill-rule=\"evenodd\" fill-opacity=\"1\" stroke=\"#000000\" stroke-opacity=\"1\" stroke-width=\"3.2\"/>\n",
              "<circle clip-path=\"url(#clip302)\" cx=\"1444.89\" cy=\"1244.37\" r=\"14.4\" fill=\"#e26f46\" fill-rule=\"evenodd\" fill-opacity=\"1\" stroke=\"#000000\" stroke-opacity=\"1\" stroke-width=\"3.2\"/>\n",
              "<circle clip-path=\"url(#clip302)\" cx=\"1265.28\" cy=\"1074.81\" r=\"14.4\" fill=\"#e26f46\" fill-rule=\"evenodd\" fill-opacity=\"1\" stroke=\"#000000\" stroke-opacity=\"1\" stroke-width=\"3.2\"/>\n",
              "<circle clip-path=\"url(#clip302)\" cx=\"1243.63\" cy=\"1070.29\" r=\"14.4\" fill=\"#e26f46\" fill-rule=\"evenodd\" fill-opacity=\"1\" stroke=\"#000000\" stroke-opacity=\"1\" stroke-width=\"3.2\"/>\n",
              "<circle clip-path=\"url(#clip302)\" cx=\"1196.96\" cy=\"1052.25\" r=\"14.4\" fill=\"#e26f46\" fill-rule=\"evenodd\" fill-opacity=\"1\" stroke=\"#000000\" stroke-opacity=\"1\" stroke-width=\"3.2\"/>\n",
              "<circle clip-path=\"url(#clip302)\" cx=\"1188.08\" cy=\"1045.04\" r=\"14.4\" fill=\"#e26f46\" fill-rule=\"evenodd\" fill-opacity=\"1\" stroke=\"#000000\" stroke-opacity=\"1\" stroke-width=\"3.2\"/>\n",
              "<circle clip-path=\"url(#clip302)\" cx=\"1209.17\" cy=\"1015.56\" r=\"14.4\" fill=\"#e26f46\" fill-rule=\"evenodd\" fill-opacity=\"1\" stroke=\"#000000\" stroke-opacity=\"1\" stroke-width=\"3.2\"/>\n",
              "<circle clip-path=\"url(#clip302)\" cx=\"1197.03\" cy=\"1014.56\" r=\"14.4\" fill=\"#e26f46\" fill-rule=\"evenodd\" fill-opacity=\"1\" stroke=\"#000000\" stroke-opacity=\"1\" stroke-width=\"3.2\"/>\n",
              "<circle clip-path=\"url(#clip302)\" cx=\"1210.45\" cy=\"1015.58\" r=\"14.4\" fill=\"#e26f46\" fill-rule=\"evenodd\" fill-opacity=\"1\" stroke=\"#000000\" stroke-opacity=\"1\" stroke-width=\"3.2\"/>\n",
              "<circle clip-path=\"url(#clip302)\" cx=\"1410.16\" cy=\"1374.58\" r=\"14.4\" fill=\"#e26f46\" fill-rule=\"evenodd\" fill-opacity=\"1\" stroke=\"#000000\" stroke-opacity=\"1\" stroke-width=\"3.2\"/>\n",
              "<circle clip-path=\"url(#clip302)\" cx=\"1398.35\" cy=\"1365.1\" r=\"14.4\" fill=\"#e26f46\" fill-rule=\"evenodd\" fill-opacity=\"1\" stroke=\"#000000\" stroke-opacity=\"1\" stroke-width=\"3.2\"/>\n",
              "<circle clip-path=\"url(#clip302)\" cx=\"1226.75\" cy=\"1123.03\" r=\"14.4\" fill=\"#e26f46\" fill-rule=\"evenodd\" fill-opacity=\"1\" stroke=\"#000000\" stroke-opacity=\"1\" stroke-width=\"3.2\"/>\n",
              "<circle clip-path=\"url(#clip302)\" cx=\"1229.61\" cy=\"1108.51\" r=\"14.4\" fill=\"#e26f46\" fill-rule=\"evenodd\" fill-opacity=\"1\" stroke=\"#000000\" stroke-opacity=\"1\" stroke-width=\"3.2\"/>\n",
              "<circle clip-path=\"url(#clip302)\" cx=\"1302.15\" cy=\"1277.44\" r=\"14.4\" fill=\"#e26f46\" fill-rule=\"evenodd\" fill-opacity=\"1\" stroke=\"#000000\" stroke-opacity=\"1\" stroke-width=\"3.2\"/>\n",
              "<circle clip-path=\"url(#clip302)\" cx=\"1279.57\" cy=\"1284.44\" r=\"14.4\" fill=\"#e26f46\" fill-rule=\"evenodd\" fill-opacity=\"1\" stroke=\"#000000\" stroke-opacity=\"1\" stroke-width=\"3.2\"/>\n",
              "<circle clip-path=\"url(#clip302)\" cx=\"1184.92\" cy=\"1078.8\" r=\"14.4\" fill=\"#e26f46\" fill-rule=\"evenodd\" fill-opacity=\"1\" stroke=\"#000000\" stroke-opacity=\"1\" stroke-width=\"3.2\"/>\n",
              "<circle clip-path=\"url(#clip302)\" cx=\"1260.85\" cy=\"1047.99\" r=\"14.4\" fill=\"#e26f46\" fill-rule=\"evenodd\" fill-opacity=\"1\" stroke=\"#000000\" stroke-opacity=\"1\" stroke-width=\"3.2\"/>\n",
              "<circle clip-path=\"url(#clip302)\" cx=\"1489.06\" cy=\"1065.05\" r=\"14.4\" fill=\"#e26f46\" fill-rule=\"evenodd\" fill-opacity=\"1\" stroke=\"#000000\" stroke-opacity=\"1\" stroke-width=\"3.2\"/>\n",
              "<circle clip-path=\"url(#clip302)\" cx=\"1443.9\" cy=\"972.002\" r=\"14.4\" fill=\"#e26f46\" fill-rule=\"evenodd\" fill-opacity=\"1\" stroke=\"#000000\" stroke-opacity=\"1\" stroke-width=\"3.2\"/>\n",
              "<circle clip-path=\"url(#clip302)\" cx=\"1208.92\" cy=\"1107.53\" r=\"14.4\" fill=\"#e26f46\" fill-rule=\"evenodd\" fill-opacity=\"1\" stroke=\"#000000\" stroke-opacity=\"1\" stroke-width=\"3.2\"/>\n",
              "<circle clip-path=\"url(#clip302)\" cx=\"1210.27\" cy=\"1029.14\" r=\"14.4\" fill=\"#e26f46\" fill-rule=\"evenodd\" fill-opacity=\"1\" stroke=\"#000000\" stroke-opacity=\"1\" stroke-width=\"3.2\"/>\n",
              "<circle clip-path=\"url(#clip302)\" cx=\"1261.11\" cy=\"1251.93\" r=\"14.4\" fill=\"#e26f46\" fill-rule=\"evenodd\" fill-opacity=\"1\" stroke=\"#000000\" stroke-opacity=\"1\" stroke-width=\"3.2\"/>\n",
              "<circle clip-path=\"url(#clip302)\" cx=\"1435.05\" cy=\"1352.08\" r=\"14.4\" fill=\"#e26f46\" fill-rule=\"evenodd\" fill-opacity=\"1\" stroke=\"#000000\" stroke-opacity=\"1\" stroke-width=\"3.2\"/>\n",
              "<circle clip-path=\"url(#clip302)\" cx=\"1370.99\" cy=\"1335.39\" r=\"14.4\" fill=\"#e26f46\" fill-rule=\"evenodd\" fill-opacity=\"1\" stroke=\"#000000\" stroke-opacity=\"1\" stroke-width=\"3.2\"/>\n",
              "<circle clip-path=\"url(#clip302)\" cx=\"1216.01\" cy=\"1047.39\" r=\"14.4\" fill=\"#e26f46\" fill-rule=\"evenodd\" fill-opacity=\"1\" stroke=\"#000000\" stroke-opacity=\"1\" stroke-width=\"3.2\"/>\n",
              "</svg>\n"
            ]
          },
          "execution_count": 17,
          "metadata": {},
          "output_type": "execute_result"
        }
      ],
      "source": [
        "scatter!(mpcxy[:, 1], mpcxy[:, 2]) "
      ]
    },
    {
      "cell_type": "markdown",
      "id": "486e0903",
      "metadata": {
        "id": "486e0903"
      },
      "source": [
        "## Conclusiones"
      ]
    },
    {
      "cell_type": "markdown",
      "id": "4bf5f349",
      "metadata": {
        "id": "4bf5f349"
      },
      "source": [
        "Tal como pudimos ver en la imagen, el ciclo presentado en naranja representa a un \"hueco\" en los datos. Esta información puede ser de vital importancia en el plan de ordenamiento territorial de la ciudad. Desde el punto de vista de los juegos no cooperativos en economía podemos pensar en las decisiones que pueden tomar ese colectivo de hoteles tanto para su bienestar específico, como para su beneficio grupal. Una propuesta que surge de manera natural es, con la intención de volver ese espacio de la ciudad un sitio más turístico, crear una locación cultural que conste de restaurantes con comidas típicas, bares temáticos y demás lugares llamativos para así conseguir incentivar al visitante a hospedarse en ese conjunto de hoteles en específico. Otra propuesta que puede surgir es colocar en esa locación una estación de transporte público (dígase tren, buses, bicicletas, scooters, helipuertos, etc.) para, de igual manera, incentivar la estadía en los hoteles en cuestión.\n",
        "\n",
        "Cabe destacar que la idea de identificar agujeros puede ser de utilidad en diversos ámbitos. Otro ejemplo de una posible implementación es, con los datos de ubicación de polución o de calidad del aire de una ciudad, poder tomar acciones para mejorar la calidad del aire en esos sectores. O bien una implementación diferente puede nacer de los deportes. Adquiriendo los datos de la ubicación de la posesión del balón en un partido de fútbol podría ser posible estudiar los sectores donde más se tiene tenencia y el cómo se da dicha tenencia del balón. Todo lo anterior depende de los datos que se obtengan. Una implementación relacionada con la geografía viene dada directamente en el paquete de Eirene y puede ser encontrada en su documentación. Allí se estudian la conectividad de ciertos países y de ciertas regiones del mundo. "
      ]
    }
  ],
  "metadata": {
    "kernelspec": {
      "display_name": "Julia 1.8.0",
      "language": "julia",
      "name": "julia-1.8"
    },
    "language_info": {
      "file_extension": ".jl",
      "mimetype": "application/julia",
      "name": "julia",
      "version": "1.8.2"
    },
    "colab": {
      "provenance": []
    }
  },
  "nbformat": 4,
  "nbformat_minor": 5
}